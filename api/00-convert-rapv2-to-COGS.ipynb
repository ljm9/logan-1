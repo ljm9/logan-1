{
 "cells": [
  {
   "cell_type": "code",
   "execution_count": 1,
   "metadata": {},
   "outputs": [],
   "source": [
    "in_dir='eco-w1/in0/rapv2'"
   ]
  },
  {
   "cell_type": "code",
   "execution_count": 2,
   "metadata": {},
   "outputs": [],
   "source": [
    "import fsspec\n",
    "fs=fsspec.filesystem('s3', anon=False, requester_pays=True)"
   ]
  },
  {
   "cell_type": "code",
   "execution_count": 3,
   "metadata": {},
   "outputs": [],
   "source": [
    "non_cog_list = fs.ls(in_dir)"
   ]
  },
  {
   "cell_type": "code",
   "execution_count": 4,
   "metadata": {},
   "outputs": [
    {
     "data": {
      "text/plain": [
       "['eco-w1/in0/rapv2/vegetation-cover-v2-1984.tif',\n",
       " 'eco-w1/in0/rapv2/vegetation-cover-v2-1985.tif',\n",
       " 'eco-w1/in0/rapv2/vegetation-cover-v2-1986.tif',\n",
       " 'eco-w1/in0/rapv2/vegetation-cover-v2-1987.tif',\n",
       " 'eco-w1/in0/rapv2/vegetation-cover-v2-1988.tif',\n",
       " 'eco-w1/in0/rapv2/vegetation-cover-v2-1989.tif',\n",
       " 'eco-w1/in0/rapv2/vegetation-cover-v2-1990.tif',\n",
       " 'eco-w1/in0/rapv2/vegetation-cover-v2-1991.tif',\n",
       " 'eco-w1/in0/rapv2/vegetation-cover-v2-1992.tif',\n",
       " 'eco-w1/in0/rapv2/vegetation-cover-v2-1993.tif',\n",
       " 'eco-w1/in0/rapv2/vegetation-cover-v2-1994.tif',\n",
       " 'eco-w1/in0/rapv2/vegetation-cover-v2-1995.tif',\n",
       " 'eco-w1/in0/rapv2/vegetation-cover-v2-1996.tif',\n",
       " 'eco-w1/in0/rapv2/vegetation-cover-v2-1997.tif',\n",
       " 'eco-w1/in0/rapv2/vegetation-cover-v2-1998.tif',\n",
       " 'eco-w1/in0/rapv2/vegetation-cover-v2-1999.tif',\n",
       " 'eco-w1/in0/rapv2/vegetation-cover-v2-2000.tif',\n",
       " 'eco-w1/in0/rapv2/vegetation-cover-v2-2001.tif',\n",
       " 'eco-w1/in0/rapv2/vegetation-cover-v2-2002.tif',\n",
       " 'eco-w1/in0/rapv2/vegetation-cover-v2-2003.tif',\n",
       " 'eco-w1/in0/rapv2/vegetation-cover-v2-2004.tif',\n",
       " 'eco-w1/in0/rapv2/vegetation-cover-v2-2005.tif',\n",
       " 'eco-w1/in0/rapv2/vegetation-cover-v2-2006.tif',\n",
       " 'eco-w1/in0/rapv2/vegetation-cover-v2-2007.tif',\n",
       " 'eco-w1/in0/rapv2/vegetation-cover-v2-2008.tif',\n",
       " 'eco-w1/in0/rapv2/vegetation-cover-v2-2009.tif',\n",
       " 'eco-w1/in0/rapv2/vegetation-cover-v2-2010.tif',\n",
       " 'eco-w1/in0/rapv2/vegetation-cover-v2-2011.tif',\n",
       " 'eco-w1/in0/rapv2/vegetation-cover-v2-2012.tif',\n",
       " 'eco-w1/in0/rapv2/vegetation-cover-v2-2013.tif',\n",
       " 'eco-w1/in0/rapv2/vegetation-cover-v2-2014.tif',\n",
       " 'eco-w1/in0/rapv2/vegetation-cover-v2-2015.tif',\n",
       " 'eco-w1/in0/rapv2/vegetation-cover-v2-2016.tif',\n",
       " 'eco-w1/in0/rapv2/vegetation-cover-v2-2017.tif',\n",
       " 'eco-w1/in0/rapv2/vegetation-cover-v2-2018.tif',\n",
       " 'eco-w1/in0/rapv2/vegetation-cover-v2-2019.tif']"
      ]
     },
     "execution_count": 4,
     "metadata": {},
     "output_type": "execute_result"
    }
   ],
   "source": [
    "non_cog_list"
   ]
  },
  {
   "cell_type": "code",
   "execution_count": 5,
   "metadata": {},
   "outputs": [],
   "source": [
    "out_dir = 'eco-w1/in1/rapv2_cog/'"
   ]
  },
  {
   "cell_type": "markdown",
   "metadata": {},
   "source": [
    "# nice help even though no documetation was written\n",
    "- self documenting code :-)"
   ]
  },
  {
   "cell_type": "code",
   "execution_count": 6,
   "metadata": {},
   "outputs": [
    {
     "name": "stdout",
     "output_type": "stream",
     "text": [
      "Help on function cog_create_from_tif in module loganLib.cog_func:\n",
      "\n",
      "cog_create_from_tif(src_tif, dst_cog)\n",
      "\n"
     ]
    }
   ],
   "source": [
    "from loganLib.cog_func import cog_create_from_tif\n",
    "help(cog_create_from_tif)"
   ]
  },
  {
   "cell_type": "code",
   "execution_count": null,
   "metadata": {},
   "outputs": [
    {
     "name": "stdout",
     "output_type": "stream",
     "text": [
      "cog:  s3://eco-w1/in0/rapv2/vegetation-cover-v2-1984.tif  s3://eco-w1/in1/rapv2_cog/vegetation-cover-v2-1984.tif\n",
      "cog:  s3://eco-w1/in0/rapv2/vegetation-cover-v2-1985.tif  s3://eco-w1/in1/rapv2_cog/vegetation-cover-v2-1985.tif\n"
     ]
    }
   ],
   "source": [
    "for source_file_obj in non_cog_list:\n",
    "    file_obj = source_file_obj.split('/')[-1]\n",
    "    dst_file_obj = out_dir + file_obj\n",
    "    print(\"cog: \",f's3://{source_file_obj} ', f's3://{dst_file_obj}')\n",
    "    cog_create_from_tif(f's3://{source_file_obj}', f'cog_{file_obj}')"
   ]
  },
  {
   "cell_type": "code",
   "execution_count": null,
   "metadata": {},
   "outputs": [],
   "source": [
    "#!rio cogeo create s3://eco-w1/in0/rapv2/vegetation-cover-v2-1984.tif  s3://eco-w1/in1/rapv2_cog/vegetation-cover-v2-2019.tif"
   ]
  },
  {
   "cell_type": "code",
   "execution_count": null,
   "metadata": {},
   "outputs": [],
   "source": [
    "#! pip install --user rio-cogeo"
   ]
  },
  {
   "cell_type": "code",
   "execution_count": 6,
   "metadata": {},
   "outputs": [],
   "source": [
    "example = 's3://eco-w1/in0/rapv2/vegetation-cover-v2-1985.tif'\n",
    "bucket = example.split('s3://')[-1].split('/')[0]\n",
    "prefix = '/'.join(example.split('s3://')[-1].split('/')[1:])"
   ]
  },
  {
   "cell_type": "code",
   "execution_count": 7,
   "metadata": {},
   "outputs": [
    {
     "data": {
      "text/plain": [
       "('eco-w1', 'in0/rapv2/vegetation-cover-v2-1985.tif')"
      ]
     },
     "execution_count": 7,
     "metadata": {},
     "output_type": "execute_result"
    }
   ],
   "source": [
    "bucket,prefix"
   ]
  },
  {
   "cell_type": "code",
   "execution_count": null,
   "metadata": {},
   "outputs": [],
   "source": []
  }
 ],
 "metadata": {
  "kernelspec": {
   "display_name": "Python 3",
   "language": "python",
   "name": "python3"
  },
  "language_info": {
   "codemirror_mode": {
    "name": "ipython",
    "version": 3
   },
   "file_extension": ".py",
   "mimetype": "text/x-python",
   "name": "python",
   "nbconvert_exporter": "python",
   "pygments_lexer": "ipython3",
   "version": "3.7.3"
  }
 },
 "nbformat": 4,
 "nbformat_minor": 4
}
