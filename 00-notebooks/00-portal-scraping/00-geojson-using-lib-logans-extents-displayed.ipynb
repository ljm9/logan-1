{
 "cells": [
  {
   "cell_type": "code",
   "execution_count": 1,
   "metadata": {},
   "outputs": [
    {
     "name": "stdout",
     "output_type": "stream",
     "text": [
      "neal-invasive-aoi.PNG\r\n"
     ]
    }
   ],
   "source": [
    "!ls *.PNG"
   ]
  },
  {
   "cell_type": "markdown",
   "metadata": {},
   "source": [
    "# Speculative AOI - Tony's guess - Neal's actual aoi is likely somewhere else\n",
    "- logan and tony will bug neal when the time is right.\n",
    "### Remember Tony works from the homeless shelter - with just a chromebook from Goodwill\n",
    "<img src = \"https://1000logos.net/wp-content/uploads/2018/08/Goodwill-Logo-768x432.png\" width=20%>\n",
    "\n",
    "## Never BLOCKED by HUMANS!\n",
    "\n",
    "# Inspired by this one:\n",
    "![greta hero](https://upload.wikimedia.org/wikipedia/commons/thumb/4/47/Greta_Thunberg_urges_MEPs_to_show_climate_leadership_%2849618310531%29_%28cropped%29.jpg/440px-Greta_Thunberg_urges_MEPs_to_show_climate_leadership_%2849618310531%29_%28cropped%29.jpg)\n",
    "\n",
    "# AOI\n",
    "![aoi](neal-invasive-aoi.PNG)"
   ]
  },
  {
   "cell_type": "markdown",
   "metadata": {},
   "source": [
    "# This displays original sizes\n",
    "- then the windowed AOI project wide \n",
    "- then the on-boarding size on a map"
   ]
  },
  {
   "cell_type": "code",
   "execution_count": 2,
   "metadata": {},
   "outputs": [],
   "source": [
    "from loganLib.fm_map import Fmap"
   ]
  },
  {
   "cell_type": "code",
   "execution_count": 3,
   "metadata": {},
   "outputs": [
    {
     "name": "stdout",
     "output_type": "stream",
     "text": [
      "creating Fmap class\n"
     ]
    }
   ],
   "source": [
    "fm = Fmap(color='yellow')"
   ]
  },
  {
   "cell_type": "markdown",
   "metadata": {},
   "source": [
    "# yellow is rangeland full scene - start with that"
   ]
  },
  {
   "cell_type": "code",
   "execution_count": 4,
   "metadata": {},
   "outputs": [],
   "source": [
    "map1 = fm.map_geojson('AOI/full_scene.geojson')"
   ]
  },
  {
   "cell_type": "code",
   "execution_count": 5,
   "metadata": {},
   "outputs": [
    {
     "name": "stdout",
     "output_type": "stream",
     "text": [
      "full_scene.geojson    little_oregon.geojson\r\n",
      "little_calif.geojson  tonyaoi.geojson\r\n"
     ]
    }
   ],
   "source": [
    "!ls AOI"
   ]
  },
  {
   "cell_type": "code",
   "execution_count": 6,
   "metadata": {},
   "outputs": [],
   "source": [
    "map1 = fm.add_geojson('AOI/little_calif.geojson',map1,color='red')"
   ]
  },
  {
   "cell_type": "code",
   "execution_count": 7,
   "metadata": {},
   "outputs": [],
   "source": [
    "#! ls -l 00-MRLC-Notebooks"
   ]
  },
  {
   "cell_type": "markdown",
   "metadata": {},
   "source": [
    "# add neal's next big data footprint for MRLC data week 4 class"
   ]
  },
  {
   "cell_type": "code",
   "execution_count": 8,
   "metadata": {},
   "outputs": [],
   "source": [
    "map1 = fm.add_geojson('00-MRLC-Notebooks/scene.geojson',map1,color='pink')"
   ]
  },
  {
   "cell_type": "markdown",
   "metadata": {},
   "source": [
    "# add tony's guess at Neal's notional AOI from the pdf\n",
    "## paper on invasive - CheatGrass"
   ]
  },
  {
   "cell_type": "code",
   "execution_count": 9,
   "metadata": {},
   "outputs": [],
   "source": [
    "map1 = fm.add_geojson('AOI/tonyaoi.geojson',map1,color='blue')"
   ]
  },
  {
   "cell_type": "markdown",
   "metadata": {},
   "source": [
    "## Links\n",
    "\n",
    "- http://rangeland.ntsg.umt.edu/data/rap/rap-vegetation-cover/v2/\n",
    "- https://www.mrlc.gov/data?f%5B0%5D=category%3ARangeland%20-%20Historical%20Time-Series%20%E2%80%93%20BIT\n",
    "\n",
    "### Pink is mrlc and yellow is rangeland - blue is Neal's hypothetical study area - red is for school"
   ]
  },
  {
   "cell_type": "code",
   "execution_count": 10,
   "metadata": {},
   "outputs": [
    {
     "data": {
      "text/html": [
       "<div style=\"width:100%;\"><div style=\"position:relative;width:100%;height:0;padding-bottom:60%;\"><span style=\"color:#565656\">Make this Notebook Trusted to load map: File -> Trust Notebook</span><iframe src=\"about:blank\" style=\"position:absolute;width:100%;height:100%;left:0;top:0;border:none !important;\" data-html=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 onload=\"this.contentDocument.open();this.contentDocument.write(atob(this.getAttribute('data-html')));this.contentDocument.close();\" allowfullscreen webkitallowfullscreen mozallowfullscreen></iframe></div></div>"
      ],
      "text/plain": [
       "<folium.folium.Map at 0x7f154042dfd0>"
      ]
     },
     "execution_count": 10,
     "metadata": {},
     "output_type": "execute_result"
    }
   ],
   "source": [
    "map1"
   ]
  },
  {
   "cell_type": "code",
   "execution_count": 11,
   "metadata": {},
   "outputs": [
    {
     "name": "stdout",
     "output_type": "stream",
     "text": [
      "full_scene.geojson    little_oregon.geojson\r\n",
      "little_calif.geojson  tonyaoi.geojson\r\n"
     ]
    }
   ],
   "source": [
    "# no geojsons were killed or hurt during this filming\n",
    "!ls AOI"
   ]
  },
  {
   "cell_type": "code",
   "execution_count": 12,
   "metadata": {},
   "outputs": [],
   "source": [
    "# tony is happy with his new library for diaplying extents - its working ET its working ..."
   ]
  }
 ],
 "metadata": {
  "kernelspec": {
   "display_name": "Python 3",
   "language": "python",
   "name": "python3"
  },
  "language_info": {
   "codemirror_mode": {
    "name": "ipython",
    "version": 3
   },
   "file_extension": ".py",
   "mimetype": "text/x-python",
   "name": "python",
   "nbconvert_exporter": "python",
   "pygments_lexer": "ipython3",
   "version": "3.7.3"
  }
 },
 "nbformat": 4,
 "nbformat_minor": 2
}
