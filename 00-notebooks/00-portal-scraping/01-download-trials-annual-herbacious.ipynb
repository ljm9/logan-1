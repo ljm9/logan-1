{
 "cells": [
  {
   "cell_type": "markdown",
   "metadata": {},
   "source": [
    "# Purpose of this Notbook\n",
    "\n",
    "- understand how to download an aoi from http://rangeland.ntsg.umt.edu/data/rap/rap-vegetation-cover/v2/README\n",
    "    \n",
    "    "
   ]
  },
  {
   "cell_type": "markdown",
   "metadata": {},
   "source": [
    "# get and cat the readme"
   ]
  },
  {
   "cell_type": "code",
   "execution_count": 77,
   "metadata": {},
   "outputs": [
    {
     "name": "stdout",
     "output_type": "stream",
     "text": [
      "--2020-12-11 21:13:18--  http://rangeland.ntsg.umt.edu/data/rap/rap-vegetation-cover/v2/README\n",
      "Resolving rangeland.ntsg.umt.edu (rangeland.ntsg.umt.edu)... 150.131.193.3\n",
      "Connecting to rangeland.ntsg.umt.edu (rangeland.ntsg.umt.edu)|150.131.193.3|:80... connected.\n",
      "HTTP request sent, awaiting response... 200 OK\n",
      "Length: 2616 (2.6K)\n",
      "Saving to: ‘rangeland_cover_v2_0.txt’\n",
      "\n",
      "rangeland_cover_v2_ 100%[===================>]   2.55K  --.-KB/s    in 0s      \n",
      "\n",
      "2020-12-11 21:13:19 (303 MB/s) - ‘rangeland_cover_v2_0.txt’ saved [2616/2616]\n",
      "\n"
     ]
    }
   ],
   "source": [
    "#! wget http://rangeland.ntsg.umt.edu/data/rap/rap-vegetation-cover/v2/README -O rangeland_cover_v2_0.txt"
   ]
  },
  {
   "cell_type": "code",
   "execution_count": 2,
   "metadata": {},
   "outputs": [
    {
     "name": "stdout",
     "output_type": "stream",
     "text": [
      "rangeland cover v2.0\r\n",
      "====================\r\n",
      "These data represent rangeland cover estimates described in Allred et al.\r\n",
      "(2020).\r\n",
      "\r\n",
      "Band 1 - annual forb and grass\r\n",
      "Band 2 - bare ground\r\n",
      "Band 3 - litter\r\n",
      "Band 4 - perennial forb and grass\r\n",
      "Band 5 - shrub\r\n",
      "Band 6 - tree\r\n",
      "Band 7 - annual forb and grass uncertainty\r\n",
      "Band 8 - bare ground uncertainty\r\n",
      "Band 9 - litter uncertainty\r\n",
      "Band 10 - perennial forb and grass uncertainty\r\n",
      "Band 11 - shrub uncertainty\r\n",
      "Band 12 - tree uncertainty\r\n",
      "\r\n",
      "No Data value = 65535\r\n",
      "Uncertainty values are scaled by 100\r\n",
      "\r\n",
      "Uncertainty values represent a standard deviation of predictions. As such, they\r\n",
      "may be standardized by the mean when comparing across groups. Appropriate\r\n",
      "actions should be taken when the mean is less than one.\r\n",
      "\r\n",
      "Although these data were produced across a broad region, they are primarily\r\n",
      "intended for rangeland ecosystems. Cover estimates may not be suitable in other\r\n",
      "ecosystems, e.g., forests, agricultural lands.\r\n",
      "\r\n",
      "Coordinate reference system\r\n",
      "===========================\r\n",
      "Data are in WGS84 Geographic Coordinate System (EPSG:4326); spatial resolution\r\n",
      "is approximately 30m.\r\n",
      "\r\n",
      "Google Earth Engine\r\n",
      "===================\r\n",
      "Data are available in the 'projects/rangeland-analysis-platform/vegetation-cover-v2'\r\n",
      "ImageCollection.\r\n",
      "\r\n",
      "Download tip\r\n",
      "============\r\n",
      "To download a specific location, use the GDAL virtual file system. For example,\r\n",
      "the following gdal_translate command will retrieve a small section of Montana\r\n",
      "(see the gdal_translate documentation for more information):\r\n",
      "\r\n",
      "gdal_translate -co compress=lzw -co tiled=yes -co bigtiff=yes \\\r\n",
      "/vsicurl/http://rangeland.ntsg.umt.edu/data/rap/rap-vegetation-cover/v2/vegetation-cover-v2-2019.tif \\\r\n",
      "-projwin -108 48 -107 47 out.tif\r\n",
      "\r\n",
      "Contacts\r\n",
      "========\r\n",
      "Brady Allred (allredbw@gmail.com)\r\n",
      "Matthew Jones (matt.jones@ntsg.umt.edu)\r\n",
      "\r\n",
      "Terms of use\r\n",
      "============\r\n",
      "This work is licensed under the Creative Commons Attribution-NonCommercial 4.0\r\n",
      "International License. To view a copy of this license, visit\r\n",
      "http://creativecommons.org/licenses/by-nc/4.0/\r\n",
      "Data are provided \"as is\" without warranty of any kind, express or implied.\r\n",
      "\r\n",
      "Please attribute these data to:\r\n",
      "\r\n",
      "Allred, B. W., B. T. Bestelmeyer, C. S. Boyd, C. Brown, K. W. Davies, L. M.\r\n",
      "Ellsworth, T. A. Erickson, S. D. Fuhlendorf, T. V. Griffiths, V. Jansen, M. O.\r\n",
      "Jones, J. Karl, J. D. Maestas, J. J. Maynard, S. E. McCord, D. E. Naugle, H. D.\r\n",
      "Starns, D. Twidwell, and D. R. Uden. 2020. Improving Landsat predictions of\r\n",
      "rangeland fractional cover with multitask learning and uncertainty.\r\n",
      "bioRxiv:2020.06.10.142489. http://dx.doi.org/10.1101/2020.06.10.142489\r\n",
      "\r\n",
      "Changelog\r\n",
      "========\r\n",
      "2020-06-08 Public data release, version 2.0\r\n"
     ]
    }
   ],
   "source": [
    "!cat rangeland_cover_v2_0.txt"
   ]
  },
  {
   "cell_type": "markdown",
   "metadata": {},
   "source": [
    "# Download tip\n",
    "============\n",
    "To download a specific location, use the GDAL virtual file system. For example,\n",
    "the following gdal_translate command will retrieve a small section of Montana\n",
    "(see the gdal_translate documentation for more information):\n",
    "\n",
    "gdal_translate -co compress=lzw -co tiled=yes -co bigtiff=yes \\\n",
    "/vsicurl/http://rangeland.ntsg.umt.edu/data/rap/rap-vegetation-cover/v2/vegetation-cover-v2-2019.tif \\\n",
    "-projwin -108 48 -107 47 out.tif"
   ]
  },
  {
   "cell_type": "markdown",
   "metadata": {},
   "source": [
    "# Guess at Neal's AOI"
   ]
  },
  {
   "cell_type": "code",
   "execution_count": 1,
   "metadata": {},
   "outputs": [
    {
     "name": "stdout",
     "output_type": "stream",
     "text": [
      "{\r\n",
      "    \"type\": \"FeatureCollection\",\r\n",
      "    \"features\": [\r\n",
      "        {\r\n",
      "            \"type\": \"Feature\",\r\n",
      "            \"properties\": {},\r\n",
      "            \"geometry\": {\r\n",
      "                \"type\": \"Polygon\",\r\n",
      "                \"coordinates\": [\r\n",
      "                    [\r\n",
      "                        [\r\n",
      "                            -121.11328124999999,\r\n",
      "                            38.634036452919226\r\n",
      "                        ],\r\n",
      "                        [\r\n",
      "                            -115.04882812499999,\r\n",
      "                            38.634036452919226\r\n",
      "                        ],\r\n",
      "                        [\r\n",
      "                            -115.04882812499999,\r\n",
      "                            45.874712248904764\r\n",
      "                        ],\r\n",
      "                        [\r\n",
      "                            -121.11328124999999,\r\n",
      "                            45.874712248904764\r\n",
      "                        ],\r\n",
      "                        [\r\n",
      "                            -121.11328124999999,\r\n",
      "                            38.634036452919226\r\n",
      "                        ]\r\n",
      "                    ]\r\n",
      "                ]\r\n",
      "            }\r\n",
      "        }\r\n",
      "    ]\r\n",
      "}\r\n"
     ]
    }
   ],
   "source": [
    "! cat AOI/tonyaoi.geojson| python -m json.tool"
   ]
  },
  {
   "cell_type": "markdown",
   "metadata": {},
   "source": [
    "## No Data value = 65535\n",
    "- Uncertainty values are scaled by 100"
   ]
  },
  {
   "cell_type": "markdown",
   "metadata": {},
   "source": [
    "# Display it on a map for tony"
   ]
  },
  {
   "cell_type": "code",
   "execution_count": 2,
   "metadata": {},
   "outputs": [
    {
     "name": "stdout",
     "output_type": "stream",
     "text": [
      "creating Ldisplay class\n"
     ]
    },
    {
     "data": {
      "text/html": [
       "<div style=\"width:100%;\"><div style=\"position:relative;width:100%;height:0;padding-bottom:60%;\"><span style=\"color:#565656\">Make this Notebook Trusted to load map: File -> Trust Notebook</span><iframe src=\"about:blank\" style=\"position:absolute;width:100%;height:100%;left:0;top:0;border:none !important;\" data-html=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 onload=\"this.contentDocument.open();this.contentDocument.write(atob(this.getAttribute('data-html')));this.contentDocument.close();\" allowfullscreen webkitallowfullscreen mozallowfullscreen></iframe></div></div>"
      ],
      "text/plain": [
       "<folium.folium.Map at 0x7fdc38881fd0>"
      ]
     },
     "execution_count": 2,
     "metadata": {},
     "output_type": "execute_result"
    }
   ],
   "source": [
    "my_aoi_file = 'AOI/tonyaoi.geojson'\n",
    "from notebookLib.nb_display import Ldisplay\n",
    "ld = Ldisplay()\n",
    "ld.map_geojson(my_aoi_file)"
   ]
  },
  {
   "cell_type": "code",
   "execution_count": 6,
   "metadata": {},
   "outputs": [
    {
     "name": "stdout",
     "output_type": "stream",
     "text": [
      "Filesystem      Size  Used Avail Use% Mounted on\r\n",
      "/dev/nvme0n1p1  233G   24G  210G  10% /\r\n"
     ]
    }
   ],
   "source": [
    "# how much disk did tony give me? - these things are big!\n",
    "! df -h ."
   ]
  },
  {
   "cell_type": "code",
   "execution_count": 7,
   "metadata": {},
   "outputs": [],
   "source": [
    "# ok"
   ]
  },
  {
   "cell_type": "code",
   "execution_count": 8,
   "metadata": {},
   "outputs": [
    {
     "name": "stdout",
     "output_type": "stream",
     "text": [
      "(-120.43 -20.28, 23.194 57.322)\n"
     ]
    }
   ],
   "source": [
    "import geojson\n",
    "\n",
    "def bbox(coord_list):\n",
    "     box = []\n",
    "     for i in (0,1):\n",
    "         res = sorted(coord_list, key=lambda x:x[i])\n",
    "         box.append((res[0][i],res[-1][i]))\n",
    "     ret = f\"({box[0][0]} {box[1][0]}, {box[0][1]} {box[1][1]})\"\n",
    "     return ret\n",
    "\n",
    "# obviously you need to parse your json here\n",
    "poly=geojson.Polygon([[(2.38, 57.322), (23.194, -20.28), (-120.43, 19.15), (2.38, 57.322)]])\n",
    "line = bbox(list(geojson.utils.coords(poly)))\n",
    "print(line)"
   ]
  },
  {
   "cell_type": "code",
   "execution_count": 9,
   "metadata": {},
   "outputs": [],
   "source": [
    "import json"
   ]
  },
  {
   "cell_type": "code",
   "execution_count": 75,
   "metadata": {},
   "outputs": [],
   "source": [
    "with open(my_aoi_file) as f:\n",
    "  geo_data = json.load(f)"
   ]
  },
  {
   "cell_type": "code",
   "execution_count": 76,
   "metadata": {},
   "outputs": [
    {
     "data": {
      "text/plain": [
       "{'type': 'FeatureCollection',\n",
       " 'features': [{'type': 'Feature',\n",
       "   'properties': {},\n",
       "   'geometry': {'type': 'Polygon',\n",
       "    'coordinates': [[[-121.11328124999999, 38.634036452919226],\n",
       "      [-115.04882812499999, 38.634036452919226],\n",
       "      [-115.04882812499999, 45.874712248904764],\n",
       "      [-121.11328124999999, 45.874712248904764],\n",
       "      [-121.11328124999999, 38.634036452919226]]]}}]}"
      ]
     },
     "execution_count": 76,
     "metadata": {},
     "output_type": "execute_result"
    }
   ],
   "source": [
    "geo_data"
   ]
  },
  {
   "cell_type": "code",
   "execution_count": 32,
   "metadata": {},
   "outputs": [
    {
     "data": {
      "text/plain": [
       "{'type': 'Polygon',\n",
       " 'coordinates': [[[-121.11328124999999, 38.634036452919226],\n",
       "   [-115.04882812499999, 38.634036452919226],\n",
       "   [-115.04882812499999, 45.874712248904764],\n",
       "   [-121.11328124999999, 45.874712248904764],\n",
       "   [-121.11328124999999, 38.634036452919226]]]}"
      ]
     },
     "execution_count": 32,
     "metadata": {},
     "output_type": "execute_result"
    }
   ],
   "source": [
    "geo_data['features'][0]['geometry']"
   ]
  },
  {
   "cell_type": "code",
   "execution_count": 33,
   "metadata": {},
   "outputs": [
    {
     "name": "stdout",
     "output_type": "stream",
     "text": [
      "(-121.11328124999999 38.634036452919226, -115.04882812499999 45.874712248904764)\n"
     ]
    }
   ],
   "source": [
    "line = bbox(list(geojson.utils.coords(geo_data['features'][0]['geometry'])))\n",
    "print(line)"
   ]
  },
  {
   "cell_type": "code",
   "execution_count": 34,
   "metadata": {},
   "outputs": [
    {
     "name": "stdout",
     "output_type": "stream",
     "text": [
      "Input file size is 116045, 86299\n",
      "ERROR 1: Error: Computed -srcwin 13570 38723 22503 -26868 has negative width and/or height.\n"
     ]
    }
   ],
   "source": [
    "! gdal_translate -co compress=lzw -co tiled=yes -co bigtiff=yes \\\n",
    "/vsicurl/http://rangeland.ntsg.umt.edu/data/rap/rap-vegetation-cover/v2/vegetation-cover-v2-2019.tif \\\n",
    "-projwin -121.11328124999999 38.634036452919226, -115.04882812499999 45.874712248904764 oregon_nevada.tif"
   ]
  },
  {
   "cell_type": "code",
   "execution_count": 35,
   "metadata": {},
   "outputs": [
    {
     "name": "stdout",
     "output_type": "stream",
     "text": [
      "Input file size is 116045, 86299\n",
      "0...10...20...30...40...50...60...70...80...90...100 - done.\n"
     ]
    }
   ],
   "source": [
    "#! gdal_translate -co compress=lzw -co tiled=yes -co bigtiff=yes \\\n",
    "/vsicurl/http://rangeland.ntsg.umt.edu/data/rap/rap-vegetation-cover/v2/vegetation-cover-v2-2019.tif \\\n",
    "-projwin -121.11328124999999 45.874712248904764, -115.04882812499999 38.634036452919226 TIF/oregon_nevada.tif"
   ]
  },
  {
   "cell_type": "markdown",
   "metadata": {},
   "source": [
    "# that took about 30 minutes - and it gave me progress\n",
    "\n",
    "- the whole file was 130 Gigabytes\n",
    "- my part of CONUS was only 8.6 Gig - still big for a file"
   ]
  },
  {
   "cell_type": "code",
   "execution_count": 38,
   "metadata": {},
   "outputs": [
    {
     "name": "stdout",
     "output_type": "stream",
     "text": [
      "total 8.6G\r\n",
      "-rw-r--r-- 1 jupyter-harmony jupyter-harmony 3.1K Dec 11 18:36 00-readme.ipynb\r\n",
      "-rw-r--r-- 1 jupyter-harmony jupyter-harmony  20K Dec 11 19:45 01-download-trials-annual-herbacious.ipynb\r\n",
      "-rw-r--r-- 1 jupyter-harmony jupyter-harmony 1.9K Dec 11 18:50 Readme.md\r\n",
      "-rw-r--r-- 1 jupyter-harmony jupyter-harmony 8.6G Dec 11 19:46 oregon_nevada.tif\r\n",
      "-rw-r--r-- 1 jupyter-harmony jupyter-harmony 2.6K Jun 12 06:00 rangeland_cover_v2_0.txt\r\n",
      "-rw-r--r-- 1 jupyter-harmony jupyter-harmony  329 Dec 11 18:56 tonyaoi.geojson\r\n"
     ]
    }
   ],
   "source": [
    "!ls -lh"
   ]
  },
  {
   "cell_type": "code",
   "execution_count": 39,
   "metadata": {},
   "outputs": [
    {
     "name": "stdout",
     "output_type": "stream",
     "text": [
      "-rw-r--r-- 1 jupyter-harmony jupyter-harmony 8.6G Dec 11 19:46 oregon_nevada.tif\r\n"
     ]
    }
   ],
   "source": [
    "!ls -lh or*"
   ]
  },
  {
   "cell_type": "code",
   "execution_count": 4,
   "metadata": {},
   "outputs": [
    {
     "name": "stdout",
     "output_type": "stream",
     "text": [
      "{\r\n",
      "    \"blockxsize\": 256,\r\n",
      "    \"blockysize\": 256,\r\n",
      "    \"bounds\": [\r\n",
      "        -121.11329205626103,\r\n",
      "        38.633935255656674,\r\n",
      "        -115.04885540469856,\r\n",
      "        45.874715771773666\r\n",
      "    ],\r\n",
      "    \"colorinterp\": [\r\n",
      "        \"gray\",\r\n",
      "        \"undefined\",\r\n",
      "        \"undefined\",\r\n",
      "        \"undefined\",\r\n",
      "        \"undefined\",\r\n",
      "        \"undefined\",\r\n",
      "        \"undefined\",\r\n",
      "        \"undefined\",\r\n",
      "        \"undefined\",\r\n",
      "        \"undefined\",\r\n",
      "        \"undefined\",\r\n",
      "        \"undefined\"\r\n",
      "    ],\r\n",
      "    \"compress\": \"lzw\",\r\n",
      "    \"count\": 12,\r\n",
      "    \"crs\": \"EPSG:4326\",\r\n",
      "    \"descriptions\": [\r\n",
      "        null,\r\n",
      "        null,\r\n",
      "        null,\r\n",
      "        null,\r\n",
      "        null,\r\n",
      "        null,\r\n",
      "        null,\r\n",
      "        null,\r\n",
      "        null,\r\n",
      "        null,\r\n",
      "        null,\r\n",
      "        null\r\n",
      "    ],\r\n",
      "    \"driver\": \"GTiff\",\r\n",
      "    \"dtype\": \"uint16\",\r\n",
      "    \"height\": 26868,\r\n",
      "    \"indexes\": [\r\n",
      "        1,\r\n",
      "        2,\r\n",
      "        3,\r\n",
      "        4,\r\n",
      "        5,\r\n",
      "        6,\r\n",
      "        7,\r\n",
      "        8,\r\n",
      "        9,\r\n",
      "        10,\r\n",
      "        11,\r\n",
      "        12\r\n",
      "    ],\r\n",
      "    \"interleave\": \"pixel\",\r\n",
      "    \"lnglat\": [\r\n",
      "        -118.0810737304798,\r\n",
      "        42.25432551371517\r\n",
      "    ],\r\n",
      "    \"mask_flags\": [\r\n",
      "        [\r\n",
      "            \"nodata\"\r\n",
      "        ],\r\n",
      "        [\r\n",
      "            \"nodata\"\r\n",
      "        ],\r\n",
      "        [\r\n",
      "            \"nodata\"\r\n",
      "        ],\r\n",
      "        [\r\n",
      "            \"nodata\"\r\n",
      "        ],\r\n",
      "        [\r\n",
      "            \"nodata\"\r\n",
      "        ],\r\n",
      "        [\r\n",
      "            \"nodata\"\r\n",
      "        ],\r\n",
      "        [\r\n",
      "            \"nodata\"\r\n",
      "        ],\r\n",
      "        [\r\n",
      "            \"nodata\"\r\n",
      "        ],\r\n",
      "        [\r\n",
      "            \"nodata\"\r\n",
      "        ],\r\n",
      "        [\r\n",
      "            \"nodata\"\r\n",
      "        ],\r\n",
      "        [\r\n",
      "            \"nodata\"\r\n",
      "        ],\r\n",
      "        [\r\n",
      "            \"nodata\"\r\n",
      "        ]\r\n",
      "    ],\r\n",
      "    \"nodata\": 65535.0,\r\n",
      "    \"res\": [\r\n",
      "        0.0002694945852358564,\r\n",
      "        0.0002694945852358564\r\n",
      "    ],\r\n",
      "    \"shape\": [\r\n",
      "        26868,\r\n",
      "        22503\r\n",
      "    ],\r\n",
      "    \"tiled\": true,\r\n",
      "    \"transform\": [\r\n",
      "        0.0002694945852358564,\r\n",
      "        0.0,\r\n",
      "        -121.11329205626103,\r\n",
      "        0.0,\r\n",
      "        -0.0002694945852358564,\r\n",
      "        45.874715771773666,\r\n",
      "        0.0,\r\n",
      "        0.0,\r\n",
      "        1.0\r\n",
      "    ],\r\n",
      "    \"units\": [\r\n",
      "        null,\r\n",
      "        null,\r\n",
      "        null,\r\n",
      "        null,\r\n",
      "        null,\r\n",
      "        null,\r\n",
      "        null,\r\n",
      "        null,\r\n",
      "        null,\r\n",
      "        null,\r\n",
      "        null,\r\n",
      "        null\r\n",
      "    ],\r\n",
      "    \"width\": 22503\r\n",
      "}\r\n"
     ]
    }
   ],
   "source": [
    "! rio info TIF/oregon_nevada.tif | python -m json.tool"
   ]
  },
  {
   "cell_type": "code",
   "execution_count": 3,
   "metadata": {},
   "outputs": [
    {
     "name": "stdout",
     "output_type": "stream",
     "text": [
      "Driver: GTiff/GeoTIFF\r\n",
      "Files: TIF/oregon_nevada.tif\r\n",
      "Size is 22503, 26868\r\n",
      "Coordinate System is:\r\n",
      "GEOGCS[\"WGS 84\",\r\n",
      "    DATUM[\"WGS_1984\",\r\n",
      "        SPHEROID[\"WGS 84\",6378137,298.257223563,\r\n",
      "            AUTHORITY[\"EPSG\",\"7030\"]],\r\n",
      "        AUTHORITY[\"EPSG\",\"6326\"]],\r\n",
      "    PRIMEM[\"Greenwich\",0],\r\n",
      "    UNIT[\"degree\",0.0174532925199433],\r\n",
      "    AUTHORITY[\"EPSG\",\"4326\"]]\r\n",
      "Origin = (-121.113292056261031,45.874715771773666)\r\n",
      "Pixel Size = (0.000269494585236,-0.000269494585236)\r\n",
      "Metadata:\r\n",
      "  AREA_OR_POINT=Area\r\n",
      "Image Structure Metadata:\r\n",
      "  COMPRESSION=LZW\r\n",
      "  INTERLEAVE=PIXEL\r\n",
      "Corner Coordinates:\r\n",
      "Upper Left  (-121.1132921,  45.8747158) (121d 6'47.85\"W, 45d52'28.98\"N)\r\n",
      "Lower Left  (-121.1132921,  38.6339353) (121d 6'47.85\"W, 38d38' 2.17\"N)\r\n",
      "Upper Right (-115.0488554,  45.8747158) (115d 2'55.88\"W, 45d52'28.98\"N)\r\n",
      "Lower Right (-115.0488554,  38.6339353) (115d 2'55.88\"W, 38d38' 2.17\"N)\r\n",
      "Center      (-118.0810737,  42.2543255) (118d 4'51.87\"W, 42d15'15.57\"N)\r\n",
      "Band 1 Block=256x256 Type=UInt16, ColorInterp=Gray\r\n",
      "  NoData Value=65535\r\n",
      "Band 2 Block=256x256 Type=UInt16, ColorInterp=Undefined\r\n",
      "  NoData Value=65535\r\n",
      "Band 3 Block=256x256 Type=UInt16, ColorInterp=Undefined\r\n",
      "  NoData Value=65535\r\n",
      "Band 4 Block=256x256 Type=UInt16, ColorInterp=Undefined\r\n",
      "  NoData Value=65535\r\n",
      "Band 5 Block=256x256 Type=UInt16, ColorInterp=Undefined\r\n",
      "  NoData Value=65535\r\n",
      "Band 6 Block=256x256 Type=UInt16, ColorInterp=Undefined\r\n",
      "  NoData Value=65535\r\n",
      "Band 7 Block=256x256 Type=UInt16, ColorInterp=Undefined\r\n",
      "  NoData Value=65535\r\n",
      "Band 8 Block=256x256 Type=UInt16, ColorInterp=Undefined\r\n",
      "  NoData Value=65535\r\n",
      "Band 9 Block=256x256 Type=UInt16, ColorInterp=Undefined\r\n",
      "  NoData Value=65535\r\n",
      "Band 10 Block=256x256 Type=UInt16, ColorInterp=Undefined\r\n",
      "  NoData Value=65535\r\n",
      "Band 11 Block=256x256 Type=UInt16, ColorInterp=Undefined\r\n",
      "  NoData Value=65535\r\n",
      "Band 12 Block=256x256 Type=UInt16, ColorInterp=Undefined\r\n",
      "  NoData Value=65535\r\n"
     ]
    }
   ],
   "source": [
    "!gdalinfo TIF/oregon_nevada.tif"
   ]
  },
  {
   "cell_type": "code",
   "execution_count": 45,
   "metadata": {},
   "outputs": [
    {
     "name": "stdout",
     "output_type": "stream",
     "text": [
      "Usage: rio [OPTIONS] COMMAND [ARGS]...\r\n",
      "\r\n",
      "  Rasterio command line interface.\r\n",
      "\r\n",
      "Options:\r\n",
      "  -v, --verbose           Increase verbosity.\r\n",
      "  -q, --quiet             Decrease verbosity.\r\n",
      "  --aws-profile TEXT      Select a profile from the AWS credentials file\r\n",
      "  --aws-no-sign-requests  Make requests anonymously\r\n",
      "  --aws-requester-pays    Requester pays data transfer costs\r\n",
      "  --version               Show the version and exit.\r\n",
      "  --gdal-version\r\n",
      "  --help                  Show this message and exit.\r\n",
      "\r\n",
      "Commands:\r\n",
      "  blocks     Write dataset blocks as GeoJSON features.\r\n",
      "  bounds     Write bounding boxes to stdout as GeoJSON.\r\n",
      "  calc       Raster data calculator.\r\n",
      "  clip       Clip a raster to given bounds.\r\n",
      "  convert    Copy and convert raster dataset.\r\n",
      "  edit-info  Edit dataset metadata.\r\n",
      "  env        Print information about the Rasterio environment.\r\n",
      "  gcps       Print ground control points as GeoJSON.\r\n",
      "  info       Print information about a data file.\r\n",
      "  insp       Open a data file and start an interpreter.\r\n",
      "  mask       Mask in raster using features.\r\n",
      "  merge      Merge a stack of raster datasets.\r\n",
      "  overview   Construct overviews in an existing dataset.\r\n",
      "  rasterize  Rasterize features.\r\n",
      "  rm         Delete a dataset.\r\n",
      "  sample     Sample a dataset.\r\n",
      "  shapes     Write shapes extracted from bands or masks.\r\n",
      "  stack      Stack a number of bands into a multiband dataset.\r\n",
      "  transform  Transform coordinates.\r\n",
      "  warp       Warp a raster dataset.\r\n"
     ]
    }
   ],
   "source": [
    "!rio --help"
   ]
  },
  {
   "cell_type": "code",
   "execution_count": 46,
   "metadata": {},
   "outputs": [
    {
     "name": "stdout",
     "output_type": "stream",
     "text": [
      "Usage: rio clip [OPTIONS] INPUT OUTPUT\r\n",
      "\r\n",
      "  Clips a raster using projected or geographic bounds.\r\n",
      "\r\n",
      "    $ rio clip input.tif output.tif --bounds xmin ymin xmax ymax\r\n",
      "    $ rio clip input.tif output.tif --like template.tif\r\n",
      "\r\n",
      "  The values of --bounds are presumed to be from the coordinate reference\r\n",
      "  system of the input dataset unless the --geographic option is used, in\r\n",
      "  which case the values may be longitude and latitude bounds. Either JSON,\r\n",
      "  for example \"[west, south, east, north]\", or plain text \"west south east\r\n",
      "  north\" representations of a bounding box are acceptable.\r\n",
      "\r\n",
      "  If using --like, bounds will automatically be transformed to match the\r\n",
      "  coordinate reference system of the input.\r\n",
      "\r\n",
      "  It can also be combined to read bounds of a feature dataset using Fiona:\r\n",
      "\r\n",
      "    $ rio clip input.tif output.tif --bounds $(fio info features.shp --bounds)\r\n",
      "\r\n",
      "Options:\r\n",
      "  -o, --output PATH               Path to output file (optional alternative to\r\n",
      "                                  a positional arg).\r\n",
      "\r\n",
      "  --bounds TEXT                   Bounds: \"left bottom right top\" or \"[left,\r\n",
      "                                  bottom, right, top]\".\r\n",
      "\r\n",
      "  --like PATH                     Raster dataset to use as a template for\r\n",
      "                                  bounds\r\n",
      "\r\n",
      "  -f, --format, --driver TEXT     Output format driver\r\n",
      "  --geographic                    Bounds in geographic coordinates.\r\n",
      "  --projected                     Bounds in input's own projected coordinates\r\n",
      "                                  (the default).\r\n",
      "\r\n",
      "  --overwrite                     Always overwrite an existing output file.\r\n",
      "  --co, --profile NAME=VALUE      Driver specific creation options.See the\r\n",
      "                                  documentation for the selected output driver\r\n",
      "                                  for more information.\r\n",
      "\r\n",
      "  --with-complement / --without-complement\r\n",
      "                                  Include the relative complement of the\r\n",
      "                                  raster in the given bounds (giving a larger\r\n",
      "                                  result), else return results only from the\r\n",
      "                                  intersection of the raster and the bounds\r\n",
      "                                  (the default).\r\n",
      "\r\n",
      "  --help                          Show this message and exit.\r\n"
     ]
    }
   ],
   "source": [
    "! rio clip --help"
   ]
  },
  {
   "cell_type": "code",
   "execution_count": 53,
   "metadata": {},
   "outputs": [],
   "source": [
    "! rio clip TIF/oregon_nevada.tif TIF/little_oregon.tif --bounds '-121.0 38.7 -120.0 39.7'"
   ]
  },
  {
   "cell_type": "code",
   "execution_count": 54,
   "metadata": {},
   "outputs": [
    {
     "name": "stdout",
     "output_type": "stream",
     "text": [
      "-rw-r--r-- 1 jupyter-harmony jupyter-harmony 220M Dec 11 20:38 little_oregon.tif\r\n",
      "-rw-r--r-- 1 jupyter-harmony jupyter-harmony 8.6G Dec 11 19:46 oregon_nevada.tif\r\n"
     ]
    }
   ],
   "source": [
    "!ls -lh *.tif"
   ]
  },
  {
   "cell_type": "code",
   "execution_count": 5,
   "metadata": {},
   "outputs": [
    {
     "name": "stdout",
     "output_type": "stream",
     "text": [
      "Driver: GTiff/GeoTIFF\r\n",
      "Files: TIF/little_oregon.tif\r\n",
      "Size is 3711, 3711\r\n",
      "Coordinate System is:\r\n",
      "GEOGCS[\"WGS 84\",\r\n",
      "    DATUM[\"WGS_1984\",\r\n",
      "        SPHEROID[\"WGS 84\",6378137,298.257223563,\r\n",
      "            AUTHORITY[\"EPSG\",\"7030\"]],\r\n",
      "        AUTHORITY[\"EPSG\",\"6326\"]],\r\n",
      "    PRIMEM[\"Greenwich\",0],\r\n",
      "    UNIT[\"degree\",0.0174532925199433],\r\n",
      "    AUTHORITY[\"EPSG\",\"4326\"]]\r\n",
      "Origin = (-121.000000000000000,39.700000000000003)\r\n",
      "Pixel Size = (0.000269494585236,-0.000269494585236)\r\n",
      "Metadata:\r\n",
      "  AREA_OR_POINT=Area\r\n",
      "Image Structure Metadata:\r\n",
      "  COMPRESSION=LZW\r\n",
      "  INTERLEAVE=PIXEL\r\n",
      "Corner Coordinates:\r\n",
      "Upper Left  (-121.0000000,  39.7000000) (121d 0' 0.00\"W, 39d42' 0.00\"N)\r\n",
      "Lower Left  (-121.0000000,  38.6999056) (121d 0' 0.00\"W, 38d41'59.66\"N)\r\n",
      "Upper Right (-119.9999056,  39.7000000) (119d59'59.66\"W, 39d42' 0.00\"N)\r\n",
      "Lower Right (-119.9999056,  38.6999056) (119d59'59.66\"W, 38d41'59.66\"N)\r\n",
      "Center      (-120.4999528,  39.1999528) (120d29'59.83\"W, 39d11'59.83\"N)\r\n",
      "Band 1 Block=256x256 Type=UInt16, ColorInterp=Gray\r\n",
      "  NoData Value=65535\r\n",
      "Band 2 Block=256x256 Type=UInt16, ColorInterp=Undefined\r\n",
      "  NoData Value=65535\r\n",
      "Band 3 Block=256x256 Type=UInt16, ColorInterp=Undefined\r\n",
      "  NoData Value=65535\r\n",
      "Band 4 Block=256x256 Type=UInt16, ColorInterp=Undefined\r\n",
      "  NoData Value=65535\r\n",
      "Band 5 Block=256x256 Type=UInt16, ColorInterp=Undefined\r\n",
      "  NoData Value=65535\r\n",
      "Band 6 Block=256x256 Type=UInt16, ColorInterp=Undefined\r\n",
      "  NoData Value=65535\r\n",
      "Band 7 Block=256x256 Type=UInt16, ColorInterp=Undefined\r\n",
      "  NoData Value=65535\r\n",
      "Band 8 Block=256x256 Type=UInt16, ColorInterp=Undefined\r\n",
      "  NoData Value=65535\r\n",
      "Band 9 Block=256x256 Type=UInt16, ColorInterp=Undefined\r\n",
      "  NoData Value=65535\r\n",
      "Band 10 Block=256x256 Type=UInt16, ColorInterp=Undefined\r\n",
      "  NoData Value=65535\r\n",
      "Band 11 Block=256x256 Type=UInt16, ColorInterp=Undefined\r\n",
      "  NoData Value=65535\r\n",
      "Band 12 Block=256x256 Type=UInt16, ColorInterp=Undefined\r\n",
      "  NoData Value=65535\r\n"
     ]
    }
   ],
   "source": [
    "!gdalinfo TIF/little_oregon.tif"
   ]
  },
  {
   "cell_type": "code",
   "execution_count": 57,
   "metadata": {},
   "outputs": [
    {
     "name": "stdout",
     "output_type": "stream",
     "text": [
      "Usage: rio [OPTIONS] COMMAND [ARGS]...\r\n",
      "\r\n",
      "  Rasterio command line interface.\r\n",
      "\r\n",
      "Options:\r\n",
      "  -v, --verbose           Increase verbosity.\r\n",
      "  -q, --quiet             Decrease verbosity.\r\n",
      "  --aws-profile TEXT      Select a profile from the AWS credentials file\r\n",
      "  --aws-no-sign-requests  Make requests anonymously\r\n",
      "  --aws-requester-pays    Requester pays data transfer costs\r\n",
      "  --version               Show the version and exit.\r\n",
      "  --gdal-version\r\n",
      "  --help                  Show this message and exit.\r\n",
      "\r\n",
      "Commands:\r\n",
      "  blocks     Write dataset blocks as GeoJSON features.\r\n",
      "  bounds     Write bounding boxes to stdout as GeoJSON.\r\n",
      "  calc       Raster data calculator.\r\n",
      "  clip       Clip a raster to given bounds.\r\n",
      "  convert    Copy and convert raster dataset.\r\n",
      "  edit-info  Edit dataset metadata.\r\n",
      "  env        Print information about the Rasterio environment.\r\n",
      "  gcps       Print ground control points as GeoJSON.\r\n",
      "  info       Print information about a data file.\r\n",
      "  insp       Open a data file and start an interpreter.\r\n",
      "  mask       Mask in raster using features.\r\n",
      "  merge      Merge a stack of raster datasets.\r\n",
      "  overview   Construct overviews in an existing dataset.\r\n",
      "  rasterize  Rasterize features.\r\n",
      "  rm         Delete a dataset.\r\n",
      "  sample     Sample a dataset.\r\n",
      "  shapes     Write shapes extracted from bands or masks.\r\n",
      "  stack      Stack a number of bands into a multiband dataset.\r\n",
      "  transform  Transform coordinates.\r\n",
      "  warp       Warp a raster dataset.\r\n"
     ]
    }
   ],
   "source": [
    "!rio --help"
   ]
  },
  {
   "cell_type": "code",
   "execution_count": 6,
   "metadata": {},
   "outputs": [
    {
     "name": "stdout",
     "output_type": "stream",
     "text": [
      "{\"bbox\": [-121.0, 38.69990559418974, -119.99990559418974, 39.7], \"geometry\": {\"coordinates\": [[[-121.0, 38.69990559418974], [-119.99990559418974, 38.69990559418974], [-119.99990559418974, 39.7], [-121.0, 39.7], [-121.0, 38.69990559418974]]], \"type\": \"Polygon\"}, \"properties\": {\"filename\": \"little_oregon.tif\", \"id\": \"0\", \"title\": \"TIF/little_oregon.tif\"}, \"type\": \"Feature\"}\r\n"
     ]
    }
   ],
   "source": [
    "!rio bounds TIF/little_oregon.tif"
   ]
  },
  {
   "cell_type": "code",
   "execution_count": 63,
   "metadata": {},
   "outputs": [],
   "source": [
    "# turns out little oregon is actually little_calif\n",
    "!rio bounds TIF/little_oregon.tif >AOI/little_calif.geojson"
   ]
  },
  {
   "cell_type": "code",
   "execution_count": 64,
   "metadata": {},
   "outputs": [
    {
     "name": "stdout",
     "output_type": "stream",
     "text": [
      "creating Ldisplay class\n"
     ]
    },
    {
     "ename": "ValueError",
     "evalue": "The FeatureCollection needs to contain a 'features' property",
     "output_type": "error",
     "traceback": [
      "\u001b[0;31m---------------------------------------------------------------------------\u001b[0m",
      "\u001b[0;31mValueError\u001b[0m                                Traceback (most recent call last)",
      "\u001b[0;32m<ipython-input-64-f1d5e5cf25c9>\u001b[0m in \u001b[0;36m<module>\u001b[0;34m\u001b[0m\n\u001b[1;32m      2\u001b[0m \u001b[0;32mfrom\u001b[0m \u001b[0mnotebookLib\u001b[0m\u001b[0;34m.\u001b[0m\u001b[0mnb_display\u001b[0m \u001b[0;32mimport\u001b[0m \u001b[0mLdisplay\u001b[0m\u001b[0;34m\u001b[0m\u001b[0;34m\u001b[0m\u001b[0m\n\u001b[1;32m      3\u001b[0m \u001b[0mld\u001b[0m \u001b[0;34m=\u001b[0m \u001b[0mLdisplay\u001b[0m\u001b[0;34m(\u001b[0m\u001b[0;34m)\u001b[0m\u001b[0;34m\u001b[0m\u001b[0;34m\u001b[0m\u001b[0m\n\u001b[0;32m----> 4\u001b[0;31m \u001b[0mld\u001b[0m\u001b[0;34m.\u001b[0m\u001b[0mmap_geojson\u001b[0m\u001b[0;34m(\u001b[0m\u001b[0mmy_aoi_file\u001b[0m\u001b[0;34m)\u001b[0m\u001b[0;34m\u001b[0m\u001b[0;34m\u001b[0m\u001b[0m\n\u001b[0m",
      "\u001b[0;32m~/.local/lib/python3.7/site-packages/notebookLib/nb_display.py\u001b[0m in \u001b[0;36mmap_geojson\u001b[0;34m(self, geojson_bb_file)\u001b[0m\n\u001b[1;32m     20\u001b[0m \u001b[0;34m\u001b[0m\u001b[0m\n\u001b[1;32m     21\u001b[0m     \u001b[0;32mdef\u001b[0m \u001b[0mmap_geojson\u001b[0m\u001b[0;34m(\u001b[0m\u001b[0mself\u001b[0m\u001b[0;34m,\u001b[0m \u001b[0mgeojson_bb_file\u001b[0m\u001b[0;34m)\u001b[0m\u001b[0;34m:\u001b[0m\u001b[0;34m\u001b[0m\u001b[0;34m\u001b[0m\u001b[0m\n\u001b[0;32m---> 22\u001b[0;31m         \u001b[0mMAP_TO_DISPLAY\u001b[0m \u001b[0;34m=\u001b[0m \u001b[0mlc_geojson_map\u001b[0m\u001b[0;34m(\u001b[0m\u001b[0mgeojson_bb_file\u001b[0m\u001b[0;34m)\u001b[0m\u001b[0;34m\u001b[0m\u001b[0;34m\u001b[0m\u001b[0m\n\u001b[0m\u001b[1;32m     23\u001b[0m         \u001b[0;32mreturn\u001b[0m\u001b[0;34m(\u001b[0m\u001b[0mMAP_TO_DISPLAY\u001b[0m\u001b[0;34m)\u001b[0m\u001b[0;34m\u001b[0m\u001b[0;34m\u001b[0m\u001b[0m\n\u001b[1;32m     24\u001b[0m \u001b[0;34m\u001b[0m\u001b[0m\n",
      "\u001b[0;32m~/.local/lib/python3.7/site-packages/notebookLib/nb_display.py\u001b[0m in \u001b[0;36mlc_geojson_map\u001b[0;34m(geojson_bb_file)\u001b[0m\n\u001b[1;32m     44\u001b[0m     \"\"\"\n\u001b[1;32m     45\u001b[0m \u001b[0;34m\u001b[0m\u001b[0m\n\u001b[0;32m---> 46\u001b[0;31m     \u001b[0mpoly\u001b[0m \u001b[0;34m=\u001b[0m \u001b[0mreturn_geo_walk_coordinates\u001b[0m\u001b[0;34m(\u001b[0m\u001b[0mgeojson_bb_file\u001b[0m\u001b[0;34m)\u001b[0m\u001b[0;34m\u001b[0m\u001b[0;34m\u001b[0m\u001b[0m\n\u001b[0m\u001b[1;32m     47\u001b[0m     \u001b[0;31m# print(poly)\u001b[0m\u001b[0;34m\u001b[0m\u001b[0;34m\u001b[0m\u001b[0;34m\u001b[0m\u001b[0m\n\u001b[1;32m     48\u001b[0m     \u001b[0mcoords\u001b[0m \u001b[0;34m=\u001b[0m \u001b[0mpoly\u001b[0m\u001b[0;34m[\u001b[0m\u001b[0;36m0\u001b[0m\u001b[0;34m]\u001b[0m\u001b[0;34m\u001b[0m\u001b[0;34m\u001b[0m\u001b[0m\n",
      "\u001b[0;32m~/.local/lib/python3.7/site-packages/xarrayLib/xr_geometry.py\u001b[0m in \u001b[0;36mreturn_geo_walk_coordinates\u001b[0;34m(geo_file)\u001b[0m\n\u001b[1;32m     57\u001b[0m \u001b[0;34m\u001b[0m\u001b[0m\n\u001b[1;32m     58\u001b[0m \u001b[0;32mdef\u001b[0m \u001b[0mreturn_geo_walk_coordinates\u001b[0m\u001b[0;34m(\u001b[0m\u001b[0mgeo_file\u001b[0m\u001b[0;34m)\u001b[0m\u001b[0;34m:\u001b[0m\u001b[0;34m\u001b[0m\u001b[0;34m\u001b[0m\u001b[0m\n\u001b[0;32m---> 59\u001b[0;31m     \u001b[0;32mreturn\u001b[0m\u001b[0;34m(\u001b[0m\u001b[0m_return_geo_walk_coordinates\u001b[0m\u001b[0;34m(\u001b[0m\u001b[0mgeo_file\u001b[0m\u001b[0;34m)\u001b[0m\u001b[0;34m)\u001b[0m\u001b[0;34m\u001b[0m\u001b[0;34m\u001b[0m\u001b[0m\n\u001b[0m\u001b[1;32m     60\u001b[0m \u001b[0;34m\u001b[0m\u001b[0m\n\u001b[1;32m     61\u001b[0m \u001b[0;34m\u001b[0m\u001b[0m\n",
      "\u001b[0;32m~/.local/lib/python3.7/site-packages/xarrayLib/xr_geometry.py\u001b[0m in \u001b[0;36m_return_geo_walk_coordinates\u001b[0;34m(geo_file)\u001b[0m\n\u001b[1;32m     51\u001b[0m \u001b[0;34m\u001b[0m\u001b[0m\n\u001b[1;32m     52\u001b[0m \u001b[0;32mdef\u001b[0m \u001b[0m_return_geo_walk_coordinates\u001b[0m\u001b[0;34m(\u001b[0m\u001b[0mgeo_file\u001b[0m\u001b[0;34m)\u001b[0m\u001b[0;34m:\u001b[0m\u001b[0;34m\u001b[0m\u001b[0;34m\u001b[0m\u001b[0m\n\u001b[0;32m---> 53\u001b[0;31m     \u001b[0mtestfile\u001b[0m \u001b[0;34m=\u001b[0m \u001b[0mpygeoj\u001b[0m\u001b[0;34m.\u001b[0m\u001b[0mload\u001b[0m\u001b[0;34m(\u001b[0m\u001b[0mgeo_file\u001b[0m\u001b[0;34m)\u001b[0m\u001b[0;34m\u001b[0m\u001b[0;34m\u001b[0m\u001b[0m\n\u001b[0m\u001b[1;32m     54\u001b[0m     \u001b[0;32mfor\u001b[0m \u001b[0mfeature\u001b[0m \u001b[0;32min\u001b[0m \u001b[0mtestfile\u001b[0m\u001b[0;34m:\u001b[0m\u001b[0;34m\u001b[0m\u001b[0;34m\u001b[0m\u001b[0m\n\u001b[1;32m     55\u001b[0m         \u001b[0;32mreturn\u001b[0m \u001b[0;34m(\u001b[0m\u001b[0mfeature\u001b[0m\u001b[0;34m.\u001b[0m\u001b[0mgeometry\u001b[0m\u001b[0;34m.\u001b[0m\u001b[0mcoordinates\u001b[0m\u001b[0;34m)\u001b[0m\u001b[0;34m\u001b[0m\u001b[0;34m\u001b[0m\u001b[0m\n",
      "\u001b[0;32m~/.local/lib/python3.7/site-packages/pygeoj.py\u001b[0m in \u001b[0;36mload\u001b[0;34m(filepath, data, **kwargs)\u001b[0m\n\u001b[1;32m    789\u001b[0m     \u001b[0;34m-\u001b[0m \u001b[0mA\u001b[0m \u001b[0mGeojsonFile\u001b[0m \u001b[0minstance\u001b[0m\u001b[0;34m.\u001b[0m\u001b[0;34m\u001b[0m\u001b[0;34m\u001b[0m\u001b[0m\n\u001b[1;32m    790\u001b[0m     \"\"\"\n\u001b[0;32m--> 791\u001b[0;31m     \u001b[0;32mreturn\u001b[0m \u001b[0mGeojsonFile\u001b[0m\u001b[0;34m(\u001b[0m\u001b[0mfilepath\u001b[0m\u001b[0;34m,\u001b[0m \u001b[0mdata\u001b[0m\u001b[0;34m,\u001b[0m \u001b[0;34m**\u001b[0m\u001b[0mkwargs\u001b[0m\u001b[0;34m)\u001b[0m\u001b[0;34m\u001b[0m\u001b[0;34m\u001b[0m\u001b[0m\n\u001b[0m\u001b[1;32m    792\u001b[0m \u001b[0;34m\u001b[0m\u001b[0m\n\u001b[1;32m    793\u001b[0m \u001b[0;32mdef\u001b[0m \u001b[0mnew\u001b[0m\u001b[0;34m(\u001b[0m\u001b[0;34m)\u001b[0m\u001b[0;34m:\u001b[0m\u001b[0;34m\u001b[0m\u001b[0;34m\u001b[0m\u001b[0m\n",
      "\u001b[0;32m~/.local/lib/python3.7/site-packages/pygeoj.py\u001b[0m in \u001b[0;36m__init__\u001b[0;34m(self, filepath, data, skiperrors, fixerrors, **kwargs)\u001b[0m\n\u001b[1;32m    459\u001b[0m         \u001b[0;32mif\u001b[0m \u001b[0mfilepath\u001b[0m\u001b[0;34m:\u001b[0m\u001b[0;34m\u001b[0m\u001b[0;34m\u001b[0m\u001b[0m\n\u001b[1;32m    460\u001b[0m             \u001b[0mdata\u001b[0m \u001b[0;34m=\u001b[0m \u001b[0mself\u001b[0m\u001b[0;34m.\u001b[0m\u001b[0m_loadfilepath\u001b[0m\u001b[0;34m(\u001b[0m\u001b[0mfilepath\u001b[0m\u001b[0;34m,\u001b[0m \u001b[0;34m**\u001b[0m\u001b[0mkwargs\u001b[0m\u001b[0;34m)\u001b[0m\u001b[0;34m\u001b[0m\u001b[0;34m\u001b[0m\u001b[0m\n\u001b[0;32m--> 461\u001b[0;31m             \u001b[0;32mif\u001b[0m \u001b[0mvalidate\u001b[0m\u001b[0;34m(\u001b[0m\u001b[0mdata\u001b[0m\u001b[0;34m,\u001b[0m \u001b[0mskiperrors\u001b[0m\u001b[0;34m=\u001b[0m\u001b[0mskiperrors\u001b[0m\u001b[0;34m,\u001b[0m \u001b[0mfixerrors\u001b[0m\u001b[0;34m=\u001b[0m\u001b[0mfixerrors\u001b[0m\u001b[0;34m)\u001b[0m\u001b[0;34m:\u001b[0m\u001b[0;34m\u001b[0m\u001b[0;34m\u001b[0m\u001b[0m\n\u001b[0m\u001b[1;32m    462\u001b[0m                 \u001b[0mself\u001b[0m\u001b[0;34m.\u001b[0m\u001b[0m_data\u001b[0m \u001b[0;34m=\u001b[0m \u001b[0mdata\u001b[0m\u001b[0;34m\u001b[0m\u001b[0;34m\u001b[0m\u001b[0m\n\u001b[1;32m    463\u001b[0m                 \u001b[0mself\u001b[0m\u001b[0;34m.\u001b[0m\u001b[0m_prepdata\u001b[0m\u001b[0;34m(\u001b[0m\u001b[0;34m)\u001b[0m\u001b[0;34m\u001b[0m\u001b[0;34m\u001b[0m\u001b[0m\n",
      "\u001b[0;32m~/.local/lib/python3.7/site-packages/pygeoj.py\u001b[0m in \u001b[0;36mvalidate\u001b[0;34m(data, skiperrors, fixerrors)\u001b[0m\n\u001b[1;32m    753\u001b[0m         \u001b[0;32mif\u001b[0m \u001b[0;32mnot\u001b[0m \u001b[0misinstance\u001b[0m\u001b[0;34m(\u001b[0m\u001b[0mdata\u001b[0m\u001b[0;34m[\u001b[0m\u001b[0;34m\"features\"\u001b[0m\u001b[0;34m]\u001b[0m\u001b[0;34m,\u001b[0m \u001b[0mlist\u001b[0m\u001b[0;34m)\u001b[0m\u001b[0;34m:\u001b[0m\u001b[0;34m\u001b[0m\u001b[0;34m\u001b[0m\u001b[0m\n\u001b[1;32m    754\u001b[0m             \u001b[0;32mraise\u001b[0m \u001b[0mValueError\u001b[0m\u001b[0;34m(\u001b[0m\u001b[0;34m\"The features property needs to be a list\"\u001b[0m\u001b[0;34m)\u001b[0m\u001b[0;34m\u001b[0m\u001b[0;34m\u001b[0m\u001b[0m\n\u001b[0;32m--> 755\u001b[0;31m     \u001b[0;32melse\u001b[0m\u001b[0;34m:\u001b[0m \u001b[0;32mraise\u001b[0m \u001b[0mValueError\u001b[0m\u001b[0;34m(\u001b[0m\u001b[0;34m\"The FeatureCollection needs to contain a 'features' property\"\u001b[0m\u001b[0;34m)\u001b[0m\u001b[0;34m\u001b[0m\u001b[0;34m\u001b[0m\u001b[0m\n\u001b[0m\u001b[1;32m    756\u001b[0m \u001b[0;34m\u001b[0m\u001b[0m\n\u001b[1;32m    757\u001b[0m     \u001b[0;32mif\u001b[0m \u001b[0mskiperrors\u001b[0m\u001b[0;34m:\u001b[0m\u001b[0;34m\u001b[0m\u001b[0;34m\u001b[0m\u001b[0m\n",
      "\u001b[0;31mValueError\u001b[0m: The FeatureCollection needs to contain a 'features' property"
     ]
    }
   ],
   "source": [
    "my_aoi_file = 'AOI/little_calif.geojson'\n",
    "from notebookLib.nb_display import Ldisplay\n",
    "ld = Ldisplay()\n",
    "ld.map_geojson(my_aoi_file)"
   ]
  },
  {
   "cell_type": "code",
   "execution_count": 69,
   "metadata": {},
   "outputs": [],
   "source": [
    "with open(my_aoi_file) as f:\n",
    "  geo_data2 = json.load(f)"
   ]
  },
  {
   "cell_type": "code",
   "execution_count": 71,
   "metadata": {},
   "outputs": [
    {
     "data": {
      "text/plain": [
       "{'bbox': [-121.0, 38.69990559418974, -119.99990559418974, 39.7],\n",
       " 'geometry': {'coordinates': [[[-121.0, 38.69990559418974],\n",
       "    [-119.99990559418974, 38.69990559418974],\n",
       "    [-119.99990559418974, 39.7],\n",
       "    [-121.0, 39.7],\n",
       "    [-121.0, 38.69990559418974]]],\n",
       "  'type': 'Polygon'},\n",
       " 'properties': {'filename': 'little_oregon.tif',\n",
       "  'id': '0',\n",
       "  'title': 'little_oregon.tif'},\n",
       " 'type': 'Feature'}"
      ]
     },
     "execution_count": 71,
     "metadata": {},
     "output_type": "execute_result"
    }
   ],
   "source": [
    "geo_data"
   ]
  },
  {
   "cell_type": "code",
   "execution_count": 78,
   "metadata": {},
   "outputs": [
    {
     "data": {
      "text/plain": [
       "{'bbox': [-121.0, 38.69990559418974, -119.99990559418974, 39.7],\n",
       " 'geometry': {'coordinates': [[[-121.0, 38.69990559418974],\n",
       "    [-119.99990559418974, 38.69990559418974],\n",
       "    [-119.99990559418974, 39.7],\n",
       "    [-121.0, 39.7],\n",
       "    [-121.0, 38.69990559418974]]],\n",
       "  'type': 'Polygon'},\n",
       " 'properties': {'filename': 'little_oregon.tif',\n",
       "  'id': '0',\n",
       "  'title': 'little_oregon.tif'},\n",
       " 'type': 'Feature'}"
      ]
     },
     "execution_count": 78,
     "metadata": {},
     "output_type": "execute_result"
    }
   ],
   "source": [
    "geo_data2"
   ]
  },
  {
   "cell_type": "code",
   "execution_count": 7,
   "metadata": {},
   "outputs": [
    {
     "name": "stdout",
     "output_type": "stream",
     "text": [
      "00-geojson-map.ipynb\r\n",
      "00-readme.ipynb\r\n",
      "01-download-trials-annual-herbacious.ipynb\r\n",
      "AOI\r\n",
      "Characterizing_Land_Surface_Phenology_and_Exotic_A.pdf\r\n",
      "Qotom\r\n",
      "Readme.md\r\n",
      "TIF\r\n",
      "rangeland_cover_v2_0.txt\r\n"
     ]
    }
   ],
   "source": [
    "!ls"
   ]
  },
  {
   "cell_type": "code",
   "execution_count": 80,
   "metadata": {},
   "outputs": [
    {
     "name": "stdout",
     "output_type": "stream",
     "text": [
      "Driver: GTiff/GeoTIFF\r\n",
      "Files: little_oregon.tif\r\n",
      "Size is 3711, 3711\r\n",
      "Coordinate System is:\r\n",
      "GEOGCS[\"WGS 84\",\r\n",
      "    DATUM[\"WGS_1984\",\r\n",
      "        SPHEROID[\"WGS 84\",6378137,298.257223563,\r\n",
      "            AUTHORITY[\"EPSG\",\"7030\"]],\r\n",
      "        AUTHORITY[\"EPSG\",\"6326\"]],\r\n",
      "    PRIMEM[\"Greenwich\",0],\r\n",
      "    UNIT[\"degree\",0.0174532925199433],\r\n",
      "    AUTHORITY[\"EPSG\",\"4326\"]]\r\n",
      "Origin = (-121.000000000000000,39.700000000000003)\r\n",
      "Pixel Size = (0.000269494585236,-0.000269494585236)\r\n",
      "Metadata:\r\n",
      "  AREA_OR_POINT=Area\r\n",
      "Image Structure Metadata:\r\n",
      "  COMPRESSION=LZW\r\n",
      "  INTERLEAVE=PIXEL\r\n",
      "Corner Coordinates:\r\n",
      "Upper Left  (-121.0000000,  39.7000000) (121d 0' 0.00\"W, 39d42' 0.00\"N)\r\n",
      "Lower Left  (-121.0000000,  38.6999056) (121d 0' 0.00\"W, 38d41'59.66\"N)\r\n",
      "Upper Right (-119.9999056,  39.7000000) (119d59'59.66\"W, 39d42' 0.00\"N)\r\n",
      "Lower Right (-119.9999056,  38.6999056) (119d59'59.66\"W, 38d41'59.66\"N)\r\n",
      "Center      (-120.4999528,  39.1999528) (120d29'59.83\"W, 39d11'59.83\"N)\r\n",
      "Band 1 Block=256x256 Type=UInt16, ColorInterp=Gray\r\n",
      "  NoData Value=65535\r\n",
      "Band 2 Block=256x256 Type=UInt16, ColorInterp=Undefined\r\n",
      "  NoData Value=65535\r\n",
      "Band 3 Block=256x256 Type=UInt16, ColorInterp=Undefined\r\n",
      "  NoData Value=65535\r\n",
      "Band 4 Block=256x256 Type=UInt16, ColorInterp=Undefined\r\n",
      "  NoData Value=65535\r\n",
      "Band 5 Block=256x256 Type=UInt16, ColorInterp=Undefined\r\n",
      "  NoData Value=65535\r\n",
      "Band 6 Block=256x256 Type=UInt16, ColorInterp=Undefined\r\n",
      "  NoData Value=65535\r\n",
      "Band 7 Block=256x256 Type=UInt16, ColorInterp=Undefined\r\n",
      "  NoData Value=65535\r\n",
      "Band 8 Block=256x256 Type=UInt16, ColorInterp=Undefined\r\n",
      "  NoData Value=65535\r\n",
      "Band 9 Block=256x256 Type=UInt16, ColorInterp=Undefined\r\n",
      "  NoData Value=65535\r\n",
      "Band 10 Block=256x256 Type=UInt16, ColorInterp=Undefined\r\n",
      "  NoData Value=65535\r\n",
      "Band 11 Block=256x256 Type=UInt16, ColorInterp=Undefined\r\n",
      "  NoData Value=65535\r\n",
      "Band 12 Block=256x256 Type=UInt16, ColorInterp=Undefined\r\n",
      "  NoData Value=65535\r\n"
     ]
    }
   ],
   "source": [
    "!gdalinfo AOI/little_oregon.tif"
   ]
  },
  {
   "cell_type": "code",
   "execution_count": null,
   "metadata": {},
   "outputs": [],
   "source": []
  }
 ],
 "metadata": {
  "kernelspec": {
   "display_name": "Python 3",
   "language": "python",
   "name": "python3"
  },
  "language_info": {
   "codemirror_mode": {
    "name": "ipython",
    "version": 3
   },
   "file_extension": ".py",
   "mimetype": "text/x-python",
   "name": "python",
   "nbconvert_exporter": "python",
   "pygments_lexer": "ipython3",
   "version": "3.7.3"
  }
 },
 "nbformat": 4,
 "nbformat_minor": 4
}
