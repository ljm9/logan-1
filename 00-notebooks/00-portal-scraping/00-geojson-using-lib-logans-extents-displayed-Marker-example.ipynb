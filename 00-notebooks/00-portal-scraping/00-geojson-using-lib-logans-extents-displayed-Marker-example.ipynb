{
 "cells": [
  {
   "cell_type": "markdown",
   "metadata": {},
   "source": [
    "# Purpose\n",
    "\n",
    "## Demo rio bounds command\n"
   ]
  },
  {
   "cell_type": "markdown",
   "metadata": {},
   "source": [
    "# Inspired by this one:\n",
    "![greta hero](https://upload.wikimedia.org/wikipedia/commons/thumb/4/47/Greta_Thunberg_urges_MEPs_to_show_climate_leadership_%2849618310531%29_%28cropped%29.jpg/440px-Greta_Thunberg_urges_MEPs_to_show_climate_leadership_%2849618310531%29_%28cropped%29.jpg)\n",
    "\n",
    "# AOI\n",
    "![aoi](neal-invasive-aoi.PNG)"
   ]
  },
  {
   "cell_type": "markdown",
   "metadata": {},
   "source": [
    "# Getting bounds as a geojson from a remoye url\n",
    "## very cool\n"
   ]
  },
  {
   "cell_type": "code",
   "execution_count": 1,
   "metadata": {},
   "outputs": [
    {
     "name": "stdout",
     "output_type": "stream",
     "text": [
      "{\n",
      "    \"bbox\": [\n",
      "        -124.7703335779116,\n",
      "        25.81273036306081,\n",
      "        -93.49683443421664,\n",
      "        49.06984357432998\n",
      "    ],\n",
      "    \"geometry\": {\n",
      "        \"coordinates\": [\n",
      "            [\n",
      "                [\n",
      "                    -124.7703335779116,\n",
      "                    25.81273036306081\n",
      "                ],\n",
      "                [\n",
      "                    -93.49683443421664,\n",
      "                    25.81273036306081\n",
      "                ],\n",
      "                [\n",
      "                    -93.49683443421664,\n",
      "                    49.06984357432998\n",
      "                ],\n",
      "                [\n",
      "                    -124.7703335779116,\n",
      "                    49.06984357432998\n",
      "                ],\n",
      "                [\n",
      "                    -124.7703335779116,\n",
      "                    25.81273036306081\n",
      "                ]\n",
      "            ]\n",
      "        ],\n",
      "        \"type\": \"Polygon\"\n",
      "    },\n",
      "    \"properties\": {\n",
      "        \"filename\": \"vegetation-cover-v2-2019.tif\",\n",
      "        \"id\": \"0\",\n",
      "        \"title\": \"/vsicurl/http://rangeland.ntsg.umt.edu/data/rap/rap-vegetation-cover/v2/vegetation-cover-v2-2019.tif\"\n",
      "    },\n",
      "    \"type\": \"Feature\"\n",
      "}\n"
     ]
    }
   ],
   "source": [
    "%%bash\n",
    "# URLS\n",
    "range_url=/vsicurl/http://rangeland.ntsg.umt.edu/data/rap/rap-vegetation-cover/v2/vegetation-cover-v2-2019.tif\n",
    "rio bounds $range_url > AOI/rangeland.geojson\n",
    "cat AOI/rangeland.geojson | python -m json.tool"
   ]
  },
  {
   "cell_type": "code",
   "execution_count": 2,
   "metadata": {},
   "outputs": [],
   "source": [
    "from loganLib.fm_map import Fmap"
   ]
  },
  {
   "cell_type": "code",
   "execution_count": 3,
   "metadata": {},
   "outputs": [
    {
     "name": "stdout",
     "output_type": "stream",
     "text": [
      "creating Fmap class\n"
     ]
    }
   ],
   "source": [
    "fm = Fmap(color='green')"
   ]
  },
  {
   "cell_type": "markdown",
   "metadata": {},
   "source": [
    "# green is rangeland full scene - start with that\n",
    "## rangeland is one of our canonical sources for model data\n",
    "### Invasives"
   ]
  },
  {
   "cell_type": "code",
   "execution_count": 4,
   "metadata": {},
   "outputs": [
    {
     "data": {
      "text/html": [
       "\n",
       "        <iframe\n",
       "            width=\"700\"\n",
       "            height=\"300\"\n",
       "            src=\"http://rangeland.ntsg.umt.edu/data/rap/rap-vegetation-cover/v2/\"\n",
       "            frameborder=\"0\"\n",
       "            allowfullscreen\n",
       "        ></iframe>\n",
       "        "
      ],
      "text/plain": [
       "<IPython.lib.display.IFrame at 0x7f72353fc780>"
      ]
     },
     "execution_count": 4,
     "metadata": {},
     "output_type": "execute_result"
    }
   ],
   "source": [
    "from IPython.display import IFrame\n",
    "IFrame('http://rangeland.ntsg.umt.edu/data/rap/rap-vegetation-cover/v2/', width=700, height=300)"
   ]
  },
  {
   "cell_type": "markdown",
   "metadata": {},
   "source": [
    "http://rangeland.ntsg.umt.edu/data/rap/rap-vegetation-cover/v2/"
   ]
  },
  {
   "cell_type": "code",
   "execution_count": 5,
   "metadata": {},
   "outputs": [],
   "source": [
    "map1 = fm.map_geojson('AOI/rangeland.geojson')"
   ]
  },
  {
   "cell_type": "code",
   "execution_count": 6,
   "metadata": {},
   "outputs": [
    {
     "name": "stdout",
     "output_type": "stream",
     "text": [
      "full_scene.geojson    little_oregon.geojson  tonyaoi.geojson\r\n",
      "little_calif.geojson  rangeland.geojson\r\n"
     ]
    }
   ],
   "source": [
    "!ls AOI"
   ]
  },
  {
   "cell_type": "code",
   "execution_count": 7,
   "metadata": {},
   "outputs": [],
   "source": [
    "map1 = fm.add_geojson('AOI/tonyaoi.geojson',map1,color='blue')"
   ]
  },
  {
   "cell_type": "markdown",
   "metadata": {},
   "source": [
    "## Links\n",
    "\n",
    "- http://rangeland.ntsg.umt.edu/data/rap/rap-vegetation-cover/v2/\n",
    "- https://www.mrlc.gov/data?f%5B0%5D=category%3ARangeland%20-%20Historical%20Time-Series%20%E2%80%93%20BIT\n",
    "\n",
    "### Pink is mrlc and yellow is rangeland - blue is Neal's hypothetical study area - red is for school"
   ]
  },
  {
   "cell_type": "code",
   "execution_count": 8,
   "metadata": {},
   "outputs": [
    {
     "data": {
      "text/html": [
       "<div style=\"width:100%;\"><div style=\"position:relative;width:100%;height:0;padding-bottom:60%;\"><span style=\"color:#565656\">Make this Notebook Trusted to load map: File -> Trust Notebook</span><iframe src=\"about:blank\" style=\"position:absolute;width:100%;height:100%;left:0;top:0;border:none !important;\" data-html=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 onload=\"this.contentDocument.open();this.contentDocument.write(atob(this.getAttribute('data-html')));this.contentDocument.close();\" allowfullscreen webkitallowfullscreen mozallowfullscreen></iframe></div></div>"
      ],
      "text/plain": [
       "<folium.folium.Map at 0x7f72744844e0>"
      ]
     },
     "execution_count": 8,
     "metadata": {},
     "output_type": "execute_result"
    }
   ],
   "source": [
    "map1"
   ]
  },
  {
   "cell_type": "code",
   "execution_count": 9,
   "metadata": {},
   "outputs": [
    {
     "data": {
      "text/plain": [
       "<folium.map.Marker at 0x7f72353da438>"
      ]
     },
     "execution_count": 9,
     "metadata": {},
     "output_type": "execute_result"
    }
   ],
   "source": [
    "import folium\n",
    "ne = fm.ne_geojson('AOI/rangeland.geojson')\n",
    "folium.Marker(ne, popup='<i>rangeland</i>').add_to(map1)\n",
    "ne = fm.ne_geojson('AOI/tonyaoi.geojson')\n",
    "folium.Marker(ne, popup='<b>invasive_study_area</b>').add_to(map1)\n",
    "folium.Marker([45.3311, -121.7113], popup='<b>Timberline Lodge Fort Hood</b>').add_to(map1)"
   ]
  },
  {
   "cell_type": "code",
   "execution_count": 10,
   "metadata": {},
   "outputs": [
    {
     "data": {
      "text/html": [
       "<div style=\"width:100%;\"><div style=\"position:relative;width:100%;height:0;padding-bottom:60%;\"><span style=\"color:#565656\">Make this Notebook Trusted to load map: File -> Trust Notebook</span><iframe src=\"about:blank\" style=\"position:absolute;width:100%;height:100%;left:0;top:0;border:none !important;\" data-html=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 onload=\"this.contentDocument.open();this.contentDocument.write(atob(this.getAttribute('data-html')));this.contentDocument.close();\" allowfullscreen webkitallowfullscreen mozallowfullscreen></iframe></div></div>"
      ],
      "text/plain": [
       "<folium.folium.Map at 0x7f72744844e0>"
      ]
     },
     "execution_count": 10,
     "metadata": {},
     "output_type": "execute_result"
    }
   ],
   "source": [
    "map1"
   ]
  },
  {
   "cell_type": "code",
   "execution_count": 11,
   "metadata": {},
   "outputs": [
    {
     "name": "stdout",
     "output_type": "stream",
     "text": [
      "Help on class Fmap in module loganLib.fm_map:\n",
      "\n",
      "class Fmap(builtins.object)\n",
      " |  Fmap(color='blue')\n",
      " |  \n",
      " |  Methods defined here:\n",
      " |  \n",
      " |  __init__(self, color='blue')\n",
      " |      Initialize self.  See help(type(self)) for accurate signature.\n",
      " |  \n",
      " |  add_geojson(self, geojson_bb_file, map3, color='pink')\n",
      " |  \n",
      " |  map_geojson(self, geojson_bb_file)\n",
      " |  \n",
      " |  ne_geojson(self, geojson_bb_file)\n",
      " |  \n",
      " |  sat_geojson(self, geojson_bb_file)\n",
      " |  \n",
      " |  ----------------------------------------------------------------------\n",
      " |  Data descriptors defined here:\n",
      " |  \n",
      " |  __dict__\n",
      " |      dictionary for instance variables (if defined)\n",
      " |  \n",
      " |  __weakref__\n",
      " |      list of weak references to the object (if defined)\n",
      "\n"
     ]
    }
   ],
   "source": [
    "help(Fmap)"
   ]
  },
  {
   "cell_type": "code",
   "execution_count": 12,
   "metadata": {},
   "outputs": [
    {
     "name": "stdout",
     "output_type": "stream",
     "text": [
      "import folium\r\n",
      "import geopandas as gpd\r\n",
      "tiles=\" http://mt1.google.com/vt/lyrs=y&z={z}&x={x}&y={y}\"\r\n",
      "attr=\"Google\"\r\n",
      "\r\n",
      "\r\n",
      "class Fmap():\r\n",
      "\r\n",
      "\tdef __init__(self,color='blue'):\r\n",
      "                print(\"creating Fmap class\")\r\n",
      "                self.color = color\r\n",
      "\r\n",
      "\tdef sat_geojson(self, geojson_bb_file):\r\n",
      "                \r\n",
      "                my_geo = gpd.read_file(geojson_bb_file)\r\n",
      "                center=my_geo.geometry[0].bounds[1], my_geo.geometry[0].bounds[0]\r\n",
      "                sw = center\r\n",
      "                ne = my_geo.geometry[0].bounds[3], my_geo.geometry[0].bounds[2]\r\n",
      "                map3 = folium.Map(location=center, zoom_start=12,center=center,tiles=tiles,attr=attr)\r\n",
      "                map3.fit_bounds([sw,ne])\r\n",
      "                my_geo_json = my_geo.to_json()\r\n",
      "                style_function= lambda x:{'color':self.color}\r\n",
      "                folium.GeoJson(my_geo_json,style_function).add_to(map3)\r\n",
      "                map3.add_child(folium.features.LatLngPopup())\r\n",
      "                #map3\r\n",
      "                return(map3)\r\n",
      "\r\n",
      "\tdef map_geojson(self, geojson_bb_file):\r\n",
      "                my_geo = gpd.read_file(geojson_bb_file)\r\n",
      "                center=my_geo.geometry[0].bounds[1], my_geo.geometry[0].bounds[0]\r\n",
      "                sw = center\r\n",
      "                ne = my_geo.geometry[0].bounds[3], my_geo.geometry[0].bounds[2]\r\n",
      "                map3 = folium.Map(location=center, zoom_start=12,center=center)\r\n",
      "                map3.fit_bounds([sw,ne])\r\n",
      "                my_geo_json = my_geo.to_json()\r\n",
      "                style_function= lambda x:{'color':self.color}\r\n",
      "                folium.GeoJson(my_geo_json,style_function).add_to(map3)\r\n",
      "                map3.add_child(folium.features.LatLngPopup())\r\n",
      "                #map3\r\n",
      "                return(map3)\r\n",
      "\r\n",
      "\tdef add_geojson(self, geojson_bb_file, map3, color='pink'):\r\n",
      "                my_geo = gpd.read_file(geojson_bb_file)\r\n",
      "                center=my_geo.geometry[0].bounds[1], my_geo.geometry[0].bounds[0]\r\n",
      "                sw = center\r\n",
      "                ne = my_geo.geometry[0].bounds[3], my_geo.geometry[0].bounds[2]\r\n",
      "                #map3 = folium.Map(location=center, zoom_start=12,center=center)\r\n",
      "                #map3.fit_bounds([sw,ne])\r\n",
      "                my_geo_json = my_geo.to_json()\r\n",
      "                style_function= lambda x:{'color':color}\r\n",
      "                folium.GeoJson(my_geo_json,style_function).add_to(map3)\r\n",
      "                return(map3)\r\n",
      "\r\n",
      "\tdef ne_geojson(self, geojson_bb_file):\r\n",
      "                my_geo = gpd.read_file(geojson_bb_file)\r\n",
      "                center=my_geo.geometry[0].bounds[1], my_geo.geometry[0].bounds[0]\r\n",
      "                sw = center\r\n",
      "                ne = my_geo.geometry[0].bounds[3], my_geo.geometry[0].bounds[2]\r\n",
      "                return(ne)\r\n"
     ]
    }
   ],
   "source": [
    "cat ~/opt/logan/loganLib/loganLib/fm_map.py"
   ]
  },
  {
   "cell_type": "code",
   "execution_count": null,
   "metadata": {},
   "outputs": [],
   "source": []
  }
 ],
 "metadata": {
  "kernelspec": {
   "display_name": "Python 3",
   "language": "python",
   "name": "python3"
  },
  "language_info": {
   "codemirror_mode": {
    "name": "ipython",
    "version": 3
   },
   "file_extension": ".py",
   "mimetype": "text/x-python",
   "name": "python",
   "nbconvert_exporter": "python",
   "pygments_lexer": "ipython3",
   "version": "3.7.3"
  }
 },
 "nbformat": 4,
 "nbformat_minor": 2
}
