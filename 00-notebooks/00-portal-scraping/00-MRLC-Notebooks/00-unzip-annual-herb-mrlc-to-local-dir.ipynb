{
 "cells": [
  {
   "cell_type": "code",
   "execution_count": 1,
   "metadata": {},
   "outputs": [],
   "source": [
    "import s3fs \n",
    "import boto3\n",
    "import zipfile\n",
    "import os\n"
   ]
  },
  {
   "cell_type": "code",
   "execution_count": 2,
   "metadata": {},
   "outputs": [
    {
     "name": "stdout",
     "output_type": "stream",
     "text": [
      "2020-12-26 14:25:49 10086708780 Annual_Herb_1985_1995.zip\r\n",
      "2020-12-26 14:28:47 10211619774 Annual_Herb_1996_2006.zip\r\n",
      "2020-12-26 14:31:47 10245707594 Annual_Herb_2007_2018.zip\r\n",
      "2020-12-26 14:34:44 25895252470 Herb_1985_1995.zip\r\n",
      "2020-12-26 14:42:11 25858781544 Herb_1996_2006.zip\r\n",
      "2020-12-26 14:50:07 20779156209 Herb_2007_2018.zip\r\n"
     ]
    }
   ],
   "source": [
    "!aws s3 ls eco-w1/in0/mrlc_zip/"
   ]
  },
  {
   "cell_type": "code",
   "execution_count": null,
   "metadata": {},
   "outputs": [],
   "source": []
  },
  {
   "cell_type": "code",
   "execution_count": 3,
   "metadata": {},
   "outputs": [
    {
     "data": {
      "text/plain": [
       "['eco-w1/in0/cflux', 'eco-w1/in0/mrlc_zip', 'eco-w1/in0/rapv2']"
      ]
     },
     "execution_count": 3,
     "metadata": {},
     "output_type": "execute_result"
    }
   ],
   "source": [
    "s3 = s3fs.S3FileSystem()\n",
    "bucket_path='eco-w1/in0/'\n",
    "s3.ls(bucket_path)"
   ]
  },
  {
   "cell_type": "code",
   "execution_count": 4,
   "metadata": {},
   "outputs": [],
   "source": [
    "bucket_path='eco-w1/in0/mrlc_zip'\n",
    "\n",
    "mrlc_files=s3.ls(bucket_path)"
   ]
  },
  {
   "cell_type": "code",
   "execution_count": 5,
   "metadata": {},
   "outputs": [
    {
     "name": "stdout",
     "output_type": "stream",
     "text": [
      "eco-w1/in0/mrlc_zip/Annual_Herb_1985_1995.zip\n",
      "eco-w1/in0/mrlc_zip/Annual_Herb_1996_2006.zip\n",
      "eco-w1/in0/mrlc_zip/Annual_Herb_2007_2018.zip\n"
     ]
    }
   ],
   "source": [
    "for file_obj in mrlc_files:\n",
    "    if 'Annual' in file_obj:\n",
    "        print(file_obj)"
   ]
  },
  {
   "cell_type": "code",
   "execution_count": 6,
   "metadata": {},
   "outputs": [],
   "source": [
    "\n",
    "def download_s3obj_to_local_file(s3_full_path, local_dir):\n",
    "    bucket_name = s3_full_path.split('/')[0]\n",
    "    object_name = '/'.join(s3_full_path.split('/')[1:])\n",
    "    local_full_path = local_dir + '/' + s3_full_path.split('/')[-1]\n",
    "    \n",
    "    s3 = boto3.client('s3')\n",
    "    s3.download_file(bucket_name, object_name, local_full_path)"
   ]
  },
  {
   "cell_type": "code",
   "execution_count": null,
   "metadata": {},
   "outputs": [],
   "source": []
  },
  {
   "cell_type": "code",
   "execution_count": 7,
   "metadata": {},
   "outputs": [],
   "source": [
    "def unzip_me(path_to_zip_file, directory_to_extract_to):\n",
    "    with zipfile.ZipFile(path_to_zip_file, 'r') as zip_ref:\n",
    "        zip_ref.extractall(directory_to_extract_to)"
   ]
  },
  {
   "cell_type": "code",
   "execution_count": 8,
   "metadata": {},
   "outputs": [],
   "source": [
    "#!rm -fr mrlc_ebs_data/"
   ]
  },
  {
   "cell_type": "code",
   "execution_count": 9,
   "metadata": {},
   "outputs": [],
   "source": [
    "def unzip_file_obj(s3_full_path, directory_to_extract_to):\n",
    "        local_full_path = local_dir + '/' + s3_full_path.split('/')[-1]\n",
    "        unzip_me(local_full_path, directory_to_extract_to)\n",
    "        print('removing file: ',local_full_path)\n",
    "        os.remove(local_full_path)"
   ]
  },
  {
   "cell_type": "code",
   "execution_count": 10,
   "metadata": {},
   "outputs": [],
   "source": [
    "def _mkdir(directory):\n",
    "    try:\n",
    "        os.stat(directory)\n",
    "    except:\n",
    "        os.mkdir(directory)"
   ]
  },
  {
   "cell_type": "code",
   "execution_count": 11,
   "metadata": {},
   "outputs": [],
   "source": [
    "def gdal_convert_img_tif(input_img, output_tif):\n",
    "    cmd = f'gdal_translate -of GTiff {input_img} {output_tif}'\n",
    "    print(cmd)\n",
    "    os.system(cmd)"
   ]
  },
  {
   "cell_type": "code",
   "execution_count": 30,
   "metadata": {},
   "outputs": [],
   "source": [
    "local_dir = 'mrlc_ebs_data'\n",
    "directory_to_extract_to = 'mrlc_ebs_data/mrlc_erdas_img'\n",
    "tif_output_dir = 'mrlc_ebs_data/mrlc_tif'\n",
    "cog_output_dir = 'mrlc_ebs_data/mrlc_cog'\n"
   ]
  },
  {
   "cell_type": "code",
   "execution_count": 32,
   "metadata": {},
   "outputs": [],
   "source": [
    "def convert_erdas_img_to_tif(tif_output_dir):\n",
    "    arr = os.listdir(directory_to_extract_to)\n",
    "    subdir=arr[0]\n",
    "    files = os.listdir(f'{directory_to_extract_to}/{subdir}')\n",
    "    for file in files:\n",
    "        if file.endswith('.img'):\n",
    "            full_file = f'{directory_to_extract_to}/{subdir}/{file}'\n",
    "            print(full_file)\n",
    "            input_img = full_file\n",
    "            tif_file=file.replace('.img', '.tif')\n",
    "            output_tif=f'{tif_output_dir}/{tif_file}'\n",
    "            gdal_convert_img_tif(input_img, output_tif)\n",
    "    os.remove(f'{directory_to_extract_to}/{subdir}')"
   ]
  },
  {
   "cell_type": "code",
   "execution_count": 45,
   "metadata": {},
   "outputs": [
    {
     "name": "stdout",
     "output_type": "stream",
     "text": [
      "Help on function cog_create_from_tif in module loganLib.cog_func:\n",
      "\n",
      "cog_create_from_tif(src_tif, dst_cog)\n",
      "\n"
     ]
    }
   ],
   "source": [
    "from loganLib.cog_func import cog_create_from_tif\n",
    "help(cog_create_from_tif)"
   ]
  },
  {
   "cell_type": "code",
   "execution_count": 46,
   "metadata": {},
   "outputs": [],
   "source": [
    "def convert_tif_cog_single(tif_input, cog_output):\n",
    "    print(tif_input,cog_output)\n",
    "    cog_create_from_tif(tif_input,cog_output)"
   ]
  },
  {
   "cell_type": "code",
   "execution_count": 47,
   "metadata": {},
   "outputs": [],
   "source": [
    "def convert_tif_cog(tif_output_dir, cog_output_dir):\n",
    "    files = os.listdir(tif_output_dir)\n",
    "    for file in files:\n",
    "        if(file.endswith('.tif')):\n",
    "            print(file)\n",
    "            tif_input = f'{tif_output_dir}/{file}'\n",
    "            cog_output = f'{cog_output_dir}/{file}'\n",
    "            convert_tif_cog_single(tif_input, cog_output)\n",
    "            os.remove(tif_input)\n",
    "    "
   ]
  },
  {
   "cell_type": "code",
   "execution_count": null,
   "metadata": {},
   "outputs": [
    {
     "name": "stdout",
     "output_type": "stream",
     "text": [
      "eco-w1/in0/mrlc_zip/Annual_Herb_1985_1995.zip\n",
      "nlcd_anhb_1986_mos_v1.tif\n",
      "mrlc_ebs_data/mrlc_tif/nlcd_anhb_1986_mos_v1.tif mrlc_ebs_data/mrlc_cog/nlcd_anhb_1986_mos_v1.tif\n",
      "nlcd_anhb_1985_mos_v1.tif\n",
      "mrlc_ebs_data/mrlc_tif/nlcd_anhb_1985_mos_v1.tif mrlc_ebs_data/mrlc_cog/nlcd_anhb_1985_mos_v1.tif\n",
      "nlcd_anhb_1988_mos_v1.tif\n",
      "mrlc_ebs_data/mrlc_tif/nlcd_anhb_1988_mos_v1.tif mrlc_ebs_data/mrlc_cog/nlcd_anhb_1988_mos_v1.tif\n",
      "nlcd_anhb_1990_mos_v1.tif\n",
      "mrlc_ebs_data/mrlc_tif/nlcd_anhb_1990_mos_v1.tif mrlc_ebs_data/mrlc_cog/nlcd_anhb_1990_mos_v1.tif\n"
     ]
    }
   ],
   "source": [
    "_mkdir(local_dir)\n",
    "_mkdir(directory_to_extract_to)\n",
    "_mkdir(tif_output_dir)\n",
    "_mkdir(cog_output_dir)\n",
    "\n",
    "for file_obj in mrlc_files[0:1]:\n",
    "    if 'Annual' in file_obj:\n",
    "        print(file_obj)\n",
    "        #download_s3obj_to_local_file(file_obj, local_dir)\n",
    "        #unzip_file_obj(file_obj,directory_to_extract_to)\n",
    "        #convert_erdas_img_to_tif(tif_output_dir)\n",
    "        convert_tif_cog(tif_output_dir, cog_output_dir)\n",
    "        "
   ]
  },
  {
   "cell_type": "code",
   "execution_count": 23,
   "metadata": {},
   "outputs": [
    {
     "name": "stdout",
     "output_type": "stream",
     "text": [
      "total 64G\r\n",
      "-rw-r--r-- 1 jupyter-butzer jupyter-butzer 5.9G Jan 31 16:59 nlcd_anhb_1985_mos_v1.tif\r\n",
      "-rw-r--r-- 1 jupyter-butzer jupyter-butzer  33K Jan 31 16:59 nlcd_anhb_1985_mos_v1.tif.aux.xml\r\n",
      "-rw-r--r-- 1 jupyter-butzer jupyter-butzer 5.9G Jan 31 17:01 nlcd_anhb_1986_mos_v1.tif\r\n",
      "-rw-r--r-- 1 jupyter-butzer jupyter-butzer  33K Jan 31 17:01 nlcd_anhb_1986_mos_v1.tif.aux.xml\r\n",
      "-rw-r--r-- 1 jupyter-butzer jupyter-butzer 5.9G Jan 31 16:57 nlcd_anhb_1987_mos_v1.tif\r\n",
      "-rw-r--r-- 1 jupyter-butzer jupyter-butzer  33K Jan 31 16:57 nlcd_anhb_1987_mos_v1.tif.aux.xml\r\n",
      "-rw-r--r-- 1 jupyter-butzer jupyter-butzer 5.9G Jan 31 17:04 nlcd_anhb_1988_mos_v1.tif\r\n",
      "-rw-r--r-- 1 jupyter-butzer jupyter-butzer  33K Jan 31 17:04 nlcd_anhb_1988_mos_v1.tif.aux.xml\r\n",
      "-rw-r--r-- 1 jupyter-butzer jupyter-butzer 5.9G Jan 31 16:55 nlcd_anhb_1989_mos_v1.tif\r\n",
      "-rw-r--r-- 1 jupyter-butzer jupyter-butzer  33K Jan 31 16:55 nlcd_anhb_1989_mos_v1.tif.aux.xml\r\n",
      "-rw-r--r-- 1 jupyter-butzer jupyter-butzer 5.9G Jan 31 17:00 nlcd_anhb_1990_mos_v1.tif\r\n",
      "-rw-r--r-- 1 jupyter-butzer jupyter-butzer  33K Jan 31 17:00 nlcd_anhb_1990_mos_v1.tif.aux.xml\r\n",
      "-rw-r--r-- 1 jupyter-butzer jupyter-butzer 5.9G Jan 31 17:03 nlcd_anhb_1991_mos_v1.tif\r\n",
      "-rw-r--r-- 1 jupyter-butzer jupyter-butzer  33K Jan 31 17:03 nlcd_anhb_1991_mos_v1.tif.aux.xml\r\n",
      "-rw-r--r-- 1 jupyter-butzer jupyter-butzer 5.9G Jan 31 17:05 nlcd_anhb_1992_mos_v1.tif\r\n",
      "-rw-r--r-- 1 jupyter-butzer jupyter-butzer  33K Jan 31 17:05 nlcd_anhb_1992_mos_v1.tif.aux.xml\r\n",
      "-rw-r--r-- 1 jupyter-butzer jupyter-butzer 5.9G Jan 31 16:56 nlcd_anhb_1993_mos_v1.tif\r\n",
      "-rw-r--r-- 1 jupyter-butzer jupyter-butzer  33K Jan 31 16:56 nlcd_anhb_1993_mos_v1.tif.aux.xml\r\n",
      "-rw-r--r-- 1 jupyter-butzer jupyter-butzer 5.9G Jan 31 17:02 nlcd_anhb_1994_mos_v1.tif\r\n",
      "-rw-r--r-- 1 jupyter-butzer jupyter-butzer  33K Jan 31 17:02 nlcd_anhb_1994_mos_v1.tif.aux.xml\r\n",
      "-rw-r--r-- 1 jupyter-butzer jupyter-butzer 5.9G Jan 31 16:58 nlcd_anhb_1995_mos_v1.tif\r\n",
      "-rw-r--r-- 1 jupyter-butzer jupyter-butzer  33K Jan 31 16:58 nlcd_anhb_1995_mos_v1.tif.aux.xml\r\n"
     ]
    }
   ],
   "source": [
    "!ls -lh 'mrlc_ebs_data/mrlc_tif'"
   ]
  },
  {
   "cell_type": "code",
   "execution_count": 24,
   "metadata": {},
   "outputs": [
    {
     "name": "stdout",
     "output_type": "stream",
     "text": [
      "Filesystem      Size  Used Avail Use% Mounted on\r\n",
      "/dev/nvme0n1p1  427G  418G  9.0G  98% /\r\n"
     ]
    }
   ],
   "source": [
    "! df -h ."
   ]
  },
  {
   "cell_type": "code",
   "execution_count": 16,
   "metadata": {},
   "outputs": [
    {
     "data": {
      "text/plain": [
       "['mrlc_tif', 'Annual_Herb_1985_1995.zip', 'mrlc_erdas_img']"
      ]
     },
     "execution_count": 16,
     "metadata": {},
     "output_type": "execute_result"
    }
   ],
   "source": [
    "arr = os.listdir(local_dir)\n",
    "arr"
   ]
  },
  {
   "cell_type": "code",
   "execution_count": 17,
   "metadata": {},
   "outputs": [
    {
     "name": "stdout",
     "output_type": "stream",
     "text": [
      "nlcd_anhb_1992_mos_v1.img\n",
      "nlcd_anhb_1989_mos_v1.img\n",
      "nlcd_anhb_1993_mos_v1.img\n",
      "nlcd_anhb_1987_mos_v1.img\n",
      "nlcd_anhb_1995_mos_v1.img\n",
      "nlcd_anhb_1985_mos_v1.img\n",
      "nlcd_anhb_1990_mos_v1.img\n",
      "nlcd_anhb_1986_mos_v1.img\n",
      "nlcd_anhb_1994_mos_v1.img\n",
      "nlcd_anhb_1991_mos_v1.img\n",
      "nlcd_anhb_1988_mos_v1.img\n"
     ]
    }
   ],
   "source": [
    "arr = os.listdir(directory_to_extract_to)\n",
    "files = os.listdir(f'{directory_to_extract_to}/{arr[0]}')\n",
    "for file in files:\n",
    "    if file.endswith('.img'):\n",
    "        print(file)"
   ]
  },
  {
   "cell_type": "code",
   "execution_count": 18,
   "metadata": {},
   "outputs": [
    {
     "name": "stdout",
     "output_type": "stream",
     "text": [
      "Filesystem      Size  Used Avail Use% Mounted on\n",
      "/dev/nvme0n1p1  427G  418G  9.0G  98% /\n",
      "total 4.0K\n",
      "drwxr-xr-x 2 jupyter-butzer jupyter-butzer 4.0K Jan 30 21:37 Annual_Herb_1985_1995\n"
     ]
    }
   ],
   "source": [
    "! df -h .\n",
    "!ls -lh mrlc_ebs_data/mrlc_erdas_img"
   ]
  },
  {
   "cell_type": "code",
   "execution_count": 19,
   "metadata": {},
   "outputs": [],
   "source": [
    "#!rm -fr mrlc_ebs_data/"
   ]
  },
  {
   "cell_type": "code",
   "execution_count": 26,
   "metadata": {},
   "outputs": [
    {
     "name": "stdout",
     "output_type": "stream",
     "text": [
      "Filesystem      Size  Used Avail Use% Mounted on\r\n",
      "/dev/nvme0n1p1  427G  310G  117G  73% /\r\n"
     ]
    }
   ],
   "source": [
    "! df -h ."
   ]
  },
  {
   "cell_type": "code",
   "execution_count": 21,
   "metadata": {},
   "outputs": [
    {
     "name": "stdout",
     "output_type": "stream",
     "text": [
      "Input file size is 71204, 87666\n",
      "0...10...20...30...40...50...60...70...80...90...100 - done.\n"
     ]
    }
   ],
   "source": [
    "! gdal_translate -of GTiff mrlc_ebs_data/mrlc_erdas_img/Annual_Herb_1985_1995/nlcd_anhb_1992_mos_v1.img mrlc_ebs_data/mrlc_tif/nlcd_anhb_1992_mos_v1.tif"
   ]
  },
  {
   "cell_type": "code",
   "execution_count": 25,
   "metadata": {},
   "outputs": [],
   "source": [
    "! rm -fr mrlc_ebs_data/mrlc_erdas_img/Annual_Herb_1985_1995/"
   ]
  },
  {
   "cell_type": "code",
   "execution_count": null,
   "metadata": {},
   "outputs": [],
   "source": []
  }
 ],
 "metadata": {
  "kernelspec": {
   "display_name": "Python 3",
   "language": "python",
   "name": "python3"
  },
  "language_info": {
   "codemirror_mode": {
    "name": "ipython",
    "version": 3
   },
   "file_extension": ".py",
   "mimetype": "text/x-python",
   "name": "python",
   "nbconvert_exporter": "python",
   "pygments_lexer": "ipython3",
   "version": "3.7.3"
  }
 },
 "nbformat": 4,
 "nbformat_minor": 4
}
