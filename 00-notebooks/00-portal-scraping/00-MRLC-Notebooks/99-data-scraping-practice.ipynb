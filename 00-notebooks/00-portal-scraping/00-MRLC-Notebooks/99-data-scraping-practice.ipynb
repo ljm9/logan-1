{
 "cells": [
  {
   "cell_type": "code",
   "execution_count": null,
   "metadata": {},
   "outputs": [],
   "source": [
    "# URL List\n",
    "\n",
    "## Fractional\n",
    "https://s3-us-west-2.amazonaws.com/mrlc/Annual_Herb_1985_1995.zip\n",
    "https://s3-us-west-2.amazonaws.com/mrlc/Annual_Herb_1996_2006.zip\n",
    "https://s3-us-west-2.amazonaws.com/mrlc/Annual_Herb_2007_2018.zip\n",
    "\n",
    "## Component\n",
    "https://s3-us-west-2.amazonaws.com/mrlc/Herb_1985_1995.zip\n",
    "https://s3-us-west-2.amazonaws.com/mrlc/Herb_1996_2006.zip\n",
    "https://s3-us-west-2.amazonaws.com/mrlc/Herb_2007_2018.zip"
   ]
  },
  {
   "cell_type": "code",
   "execution_count": 1,
   "metadata": {},
   "outputs": [
    {
     "name": "stdout",
     "output_type": "stream",
     "text": [
      "--2020-12-12 10:47:56--  https://s3-us-west-2.amazonaws.com/mrlc/Base_Annual_Herb_071520.zip\n",
      "Resolving s3-us-west-2.amazonaws.com (s3-us-west-2.amazonaws.com)... 52.218.222.40\n",
      "Connecting to s3-us-west-2.amazonaws.com (s3-us-west-2.amazonaws.com)|52.218.222.40|:443... connected.\n",
      "HTTP request sent, awaiting response... 200 OK\n",
      "Length: 976960009 (932M) [application/zip]\n",
      "Saving to: ‘Base_Annual_Herb_071520.zip’\n",
      "\n",
      "Base_Annual_Herb_07 100%[===================>] 931.70M  42.4MB/s    in 24s     \n",
      "\n",
      "2020-12-12 10:48:21 (38.4 MB/s) - ‘Base_Annual_Herb_071520.zip’ saved [976960009/976960009]\n",
      "\n"
     ]
    }
   ],
   "source": [
    "!wget https://s3-us-west-2.amazonaws.com/mrlc/Base_Annual_Herb_071520.zip"
   ]
  },
  {
   "cell_type": "code",
   "execution_count": 2,
   "metadata": {},
   "outputs": [
    {
     "name": "stdout",
     "output_type": "stream",
     "text": [
      "Usage: rio [OPTIONS] COMMAND [ARGS]...\r\n",
      "\r\n",
      "  Rasterio command line interface.\r\n",
      "\r\n",
      "Options:\r\n",
      "  -v, --verbose           Increase verbosity.\r\n",
      "  -q, --quiet             Decrease verbosity.\r\n",
      "  --aws-profile TEXT      Select a profile from the AWS credentials file\r\n",
      "  --aws-no-sign-requests  Make requests anonymously\r\n",
      "  --aws-requester-pays    Requester pays data transfer costs\r\n",
      "  --version               Show the version and exit.\r\n",
      "  --gdal-version\r\n",
      "  --help                  Show this message and exit.\r\n",
      "\r\n",
      "Commands:\r\n",
      "  blocks     Write dataset blocks as GeoJSON features.\r\n",
      "  bounds     Write bounding boxes to stdout as GeoJSON.\r\n",
      "  calc       Raster data calculator.\r\n",
      "  clip       Clip a raster to given bounds.\r\n",
      "  convert    Copy and convert raster dataset.\r\n",
      "  edit-info  Edit dataset metadata.\r\n",
      "  env        Print information about the Rasterio environment.\r\n",
      "  gcps       Print ground control points as GeoJSON.\r\n",
      "  info       Print information about a data file.\r\n",
      "  insp       Open a data file and start an interpreter.\r\n",
      "  mask       Mask in raster using features.\r\n",
      "  merge      Merge a stack of raster datasets.\r\n",
      "  overview   Construct overviews in an existing dataset.\r\n",
      "  rasterize  Rasterize features.\r\n",
      "  rm         Delete a dataset.\r\n",
      "  sample     Sample a dataset.\r\n",
      "  shapes     Write shapes extracted from bands or masks.\r\n",
      "  stack      Stack a number of bands into a multiband dataset.\r\n",
      "  transform  Transform coordinates.\r\n",
      "  warp       Warp a raster dataset.\r\n"
     ]
    }
   ],
   "source": [
    "! rio --help"
   ]
  },
  {
   "cell_type": "code",
   "execution_count": 3,
   "metadata": {},
   "outputs": [],
   "source": [
    "%%bash\n",
    "mkdir -p ZIP\n",
    "mv *.zip ZIP"
   ]
  },
  {
   "cell_type": "code",
   "execution_count": 4,
   "metadata": {},
   "outputs": [
    {
     "name": "stdout",
     "output_type": "stream",
     "text": [
      "total 12K\r\n",
      "-rw-r--r-- 1 jupyter-harmony jupyter-harmony 4.4K Dec 12 10:48 00-data-scraping.ipynb\r\n",
      "drwxr-xr-x 2 jupyter-harmony jupyter-harmony 4.0K Dec 12 10:49 ZIP\r\n"
     ]
    }
   ],
   "source": [
    "! ls -lh"
   ]
  },
  {
   "cell_type": "code",
   "execution_count": 5,
   "metadata": {},
   "outputs": [
    {
     "name": "stdout",
     "output_type": "stream",
     "text": [
      "total 932M\r\n",
      "-rw-r--r-- 1 jupyter-harmony jupyter-harmony 932M Aug  7 16:00 Base_Annual_Herb_071520.zip\r\n"
     ]
    }
   ],
   "source": [
    "! ls -lh ZIP"
   ]
  },
  {
   "cell_type": "code",
   "execution_count": 6,
   "metadata": {},
   "outputs": [
    {
     "name": "stdout",
     "output_type": "stream",
     "text": [
      "UnZip 6.00 of 20 April 2009, by Debian. Original by Info-ZIP.\r\n",
      "\r\n",
      "Usage: unzip [-Z] [-opts[modifiers]] file[.zip] [list] [-x xlist] [-d exdir]\r\n",
      "  Default action is to extract files in list, except those in xlist, to exdir;\r\n",
      "  file[.zip] may be a wildcard.  -Z => ZipInfo mode (\"unzip -Z\" for usage).\r\n",
      "\r\n",
      "  -p  extract files to pipe, no messages     -l  list files (short format)\r\n",
      "  -f  freshen existing files, create none    -t  test compressed archive data\r\n",
      "  -u  update files, create if necessary      -z  display archive comment only\r\n",
      "  -v  list verbosely/show version info       -T  timestamp archive to latest\r\n",
      "  -x  exclude files that follow (in xlist)   -d  extract files into exdir\r\n",
      "modifiers:\r\n",
      "  -n  never overwrite existing files         -q  quiet mode (-qq => quieter)\r\n",
      "  -o  overwrite files WITHOUT prompting      -a  auto-convert any text files\r\n",
      "  -j  junk paths (do not make directories)   -aa treat ALL files as text\r\n",
      "  -U  use escapes for all non-ASCII Unicode  -UU ignore any Unicode fields\r\n",
      "  -C  match filenames case-insensitively     -L  make (some) names lowercase\r\n",
      "  -X  restore UID/GID info                   -V  retain VMS version numbers\r\n",
      "  -K  keep setuid/setgid/tacky permissions   -M  pipe through \"more\" pager\r\n",
      "  -O CHARSET  specify a character encoding for DOS, Windows and OS/2 archives\r\n",
      "  -I CHARSET  specify a character encoding for UNIX and other archives\r\n",
      "\r\n",
      "See \"unzip -hh\" or unzip.txt for more help.  Examples:\r\n",
      "  unzip data1 -x joe   => extract all files except joe from zipfile data1.zip\r\n",
      "  unzip -p foo | more  => send contents of foo.zip via pipe into program more\r\n",
      "  unzip -fo foo ReadMe => quietly replace existing ReadMe if archive file newer\r\n"
     ]
    }
   ],
   "source": [
    "! unzip -y ZIP/Base_Annual_Herb_071520.zip"
   ]
  },
  {
   "cell_type": "code",
   "execution_count": 7,
   "metadata": {},
   "outputs": [],
   "source": [
    "! unzip -q ZIP/Base_Annual_Herb_071520.zip"
   ]
  },
  {
   "cell_type": "code",
   "execution_count": 8,
   "metadata": {},
   "outputs": [
    {
     "name": "stdout",
     "output_type": "stream",
     "text": [
      "Base_Annual_Herb_071520.zip\r\n"
     ]
    }
   ],
   "source": [
    "! ls ZIP"
   ]
  },
  {
   "cell_type": "code",
   "execution_count": 10,
   "metadata": {},
   "outputs": [
    {
     "name": "stdout",
     "output_type": "stream",
     "text": [
      "00-data-scraping.ipynb\r\n",
      "NLCD_2016_Annual_Herb_Shrubland_Fractional_Component_20200715.xml\r\n",
      "ZIP\r\n",
      "nlcd_2016_annual_herbaceous_shrubland_fractional_component_20200715.ige\r\n",
      "nlcd_2016_annual_herbaceous_shrubland_fractional_component_20200715.img\r\n"
     ]
    }
   ],
   "source": [
    " !ls"
   ]
  },
  {
   "cell_type": "code",
   "execution_count": 11,
   "metadata": {},
   "outputs": [],
   "source": [
    "! (mkdir -p IMG; mv *.ige *.img *.xml IMG)"
   ]
  },
  {
   "cell_type": "code",
   "execution_count": 14,
   "metadata": {},
   "outputs": [
    {
     "name": "stdout",
     "output_type": "stream",
     "text": [
      "00-data-scraping.ipynb\tIMG  ZIP\r\n",
      "total 8.4G\r\n",
      "-rw-r--r-- 1 jupyter-harmony jupyter-harmony  34K Aug  3 06:49 NLCD_2016_Annual_Herb_Shrubland_Fractional_Component_20200715.xml\r\n",
      "-rw-r--r-- 1 jupyter-harmony jupyter-harmony 7.9G Jul 15 18:27 nlcd_2016_annual_herbaceous_shrubland_fractional_component_20200715.ige\r\n",
      "-rw-r--r-- 1 jupyter-harmony jupyter-harmony 542M Jul 16 08:36 nlcd_2016_annual_herbaceous_shrubland_fractional_component_20200715.img\r\n"
     ]
    }
   ],
   "source": [
    "!ls; ls -lh IMG"
   ]
  },
  {
   "cell_type": "code",
   "execution_count": 15,
   "metadata": {},
   "outputs": [],
   "source": [
    "! mkdir -p TIF"
   ]
  },
  {
   "cell_type": "code",
   "execution_count": 16,
   "metadata": {},
   "outputs": [
    {
     "name": "stdout",
     "output_type": "stream",
     "text": [
      "Usage: gdal_translate [--help-general] [--long-usage]\r\n",
      "       [-ot {Byte/Int16/UInt16/UInt32/Int32/Float32/Float64/\r\n",
      "             CInt16/CInt32/CFloat32/CFloat64}] [-strict]\r\n",
      "       [-of format] [-b band] [-mask band] [-expand {gray|rgb|rgba}]\r\n",
      "       [-outsize xsize[%]|0 ysize[%]|0] [-tr xres yres]\r\n",
      "       [-r {nearest,bilinear,cubic,cubicspline,lanczos,average,mode}]\r\n",
      "       [-unscale] [-scale[_bn] [src_min src_max [dst_min dst_max]]]* [-exponent[_bn] exp_val]*\r\n",
      "       [-srcwin xoff yoff xsize ysize] [-epo] [-eco]\r\n",
      "       [-projwin ulx uly lrx lry] [-projwin_srs srs_def]\r\n",
      "       [-a_srs srs_def] [-a_ullr ulx uly lrx lry] [-a_nodata value]\r\n",
      "       [-a_scale value] [-a_offset value]\r\n",
      "       [-gcp pixel line easting northing [elevation]]*\r\n",
      "       |-colorinterp{_bn} {red|green|blue|alpha|gray|undefined}]\r\n",
      "       |-colorinterp {red|green|blue|alpha|gray|undefined},...]\r\n",
      "       [-mo \"META-TAG=VALUE\"]* [-q] [-sds]\r\n",
      "       [-co \"NAME=VALUE\"]* [-stats] [-norat]\r\n",
      "       [-oo NAME=VALUE]*\r\n",
      "       src_dataset dst_dataset\r\n"
     ]
    }
   ],
   "source": [
    "! gdal_translate --help"
   ]
  },
  {
   "cell_type": "code",
   "execution_count": 19,
   "metadata": {},
   "outputs": [
    {
     "name": "stdout",
     "output_type": "stream",
     "text": [
      "Input file size is 71204, 87666\n",
      "0...10...20...30...40...50...60...70...80...90...100 - done.\n"
     ]
    }
   ],
   "source": [
    "! gdal_translate -of GTiff IMG/nlcd_2016_annual_herbaceous_shrubland_fractional_component_20200715.img a.tif"
   ]
  },
  {
   "cell_type": "code",
   "execution_count": 20,
   "metadata": {},
   "outputs": [],
   "source": [
    "import xarray as xr\n",
    "tiff_name = 'a.tif'\n",
    "da = xr.open_rasterio(tiff_name)"
   ]
  },
  {
   "cell_type": "code",
   "execution_count": 21,
   "metadata": {},
   "outputs": [
    {
     "data": {
      "text/html": [
       "<div><svg style=\"position: absolute; width: 0; height: 0; overflow: hidden\">\n",
       "<defs>\n",
       "<symbol id=\"icon-database\" viewBox=\"0 0 32 32\">\n",
       "<path d=\"M16 0c-8.837 0-16 2.239-16 5v4c0 2.761 7.163 5 16 5s16-2.239 16-5v-4c0-2.761-7.163-5-16-5z\"></path>\n",
       "<path d=\"M16 17c-8.837 0-16-2.239-16-5v6c0 2.761 7.163 5 16 5s16-2.239 16-5v-6c0 2.761-7.163 5-16 5z\"></path>\n",
       "<path d=\"M16 26c-8.837 0-16-2.239-16-5v6c0 2.761 7.163 5 16 5s16-2.239 16-5v-6c0 2.761-7.163 5-16 5z\"></path>\n",
       "</symbol>\n",
       "<symbol id=\"icon-file-text2\" viewBox=\"0 0 32 32\">\n",
       "<path d=\"M28.681 7.159c-0.694-0.947-1.662-2.053-2.724-3.116s-2.169-2.030-3.116-2.724c-1.612-1.182-2.393-1.319-2.841-1.319h-15.5c-1.378 0-2.5 1.121-2.5 2.5v27c0 1.378 1.122 2.5 2.5 2.5h23c1.378 0 2.5-1.122 2.5-2.5v-19.5c0-0.448-0.137-1.23-1.319-2.841zM24.543 5.457c0.959 0.959 1.712 1.825 2.268 2.543h-4.811v-4.811c0.718 0.556 1.584 1.309 2.543 2.268zM28 29.5c0 0.271-0.229 0.5-0.5 0.5h-23c-0.271 0-0.5-0.229-0.5-0.5v-27c0-0.271 0.229-0.5 0.5-0.5 0 0 15.499-0 15.5 0v7c0 0.552 0.448 1 1 1h7v19.5z\"></path>\n",
       "<path d=\"M23 26h-14c-0.552 0-1-0.448-1-1s0.448-1 1-1h14c0.552 0 1 0.448 1 1s-0.448 1-1 1z\"></path>\n",
       "<path d=\"M23 22h-14c-0.552 0-1-0.448-1-1s0.448-1 1-1h14c0.552 0 1 0.448 1 1s-0.448 1-1 1z\"></path>\n",
       "<path d=\"M23 18h-14c-0.552 0-1-0.448-1-1s0.448-1 1-1h14c0.552 0 1 0.448 1 1s-0.448 1-1 1z\"></path>\n",
       "</symbol>\n",
       "</defs>\n",
       "</svg>\n",
       "<style>/* CSS stylesheet for displaying xarray objects in jupyterlab.\n",
       " *\n",
       " */\n",
       "\n",
       ":root {\n",
       "  --xr-font-color0: var(--jp-content-font-color0, rgba(0, 0, 0, 1));\n",
       "  --xr-font-color2: var(--jp-content-font-color2, rgba(0, 0, 0, 0.54));\n",
       "  --xr-font-color3: var(--jp-content-font-color3, rgba(0, 0, 0, 0.38));\n",
       "  --xr-border-color: var(--jp-border-color2, #e0e0e0);\n",
       "  --xr-disabled-color: var(--jp-layout-color3, #bdbdbd);\n",
       "  --xr-background-color: var(--jp-layout-color0, white);\n",
       "  --xr-background-color-row-even: var(--jp-layout-color1, white);\n",
       "  --xr-background-color-row-odd: var(--jp-layout-color2, #eeeeee);\n",
       "}\n",
       "\n",
       "html[theme=dark],\n",
       "body.vscode-dark {\n",
       "  --xr-font-color0: rgba(255, 255, 255, 1);\n",
       "  --xr-font-color2: rgba(255, 255, 255, 0.54);\n",
       "  --xr-font-color3: rgba(255, 255, 255, 0.38);\n",
       "  --xr-border-color: #1F1F1F;\n",
       "  --xr-disabled-color: #515151;\n",
       "  --xr-background-color: #111111;\n",
       "  --xr-background-color-row-even: #111111;\n",
       "  --xr-background-color-row-odd: #313131;\n",
       "}\n",
       "\n",
       ".xr-wrap {\n",
       "  display: block;\n",
       "  min-width: 300px;\n",
       "  max-width: 700px;\n",
       "}\n",
       "\n",
       ".xr-text-repr-fallback {\n",
       "  /* fallback to plain text repr when CSS is not injected (untrusted notebook) */\n",
       "  display: none;\n",
       "}\n",
       "\n",
       ".xr-header {\n",
       "  padding-top: 6px;\n",
       "  padding-bottom: 6px;\n",
       "  margin-bottom: 4px;\n",
       "  border-bottom: solid 1px var(--xr-border-color);\n",
       "}\n",
       "\n",
       ".xr-header > div,\n",
       ".xr-header > ul {\n",
       "  display: inline;\n",
       "  margin-top: 0;\n",
       "  margin-bottom: 0;\n",
       "}\n",
       "\n",
       ".xr-obj-type,\n",
       ".xr-array-name {\n",
       "  margin-left: 2px;\n",
       "  margin-right: 10px;\n",
       "}\n",
       "\n",
       ".xr-obj-type {\n",
       "  color: var(--xr-font-color2);\n",
       "}\n",
       "\n",
       ".xr-sections {\n",
       "  padding-left: 0 !important;\n",
       "  display: grid;\n",
       "  grid-template-columns: 150px auto auto 1fr 20px 20px;\n",
       "}\n",
       "\n",
       ".xr-section-item {\n",
       "  display: contents;\n",
       "}\n",
       "\n",
       ".xr-section-item input {\n",
       "  display: none;\n",
       "}\n",
       "\n",
       ".xr-section-item input + label {\n",
       "  color: var(--xr-disabled-color);\n",
       "}\n",
       "\n",
       ".xr-section-item input:enabled + label {\n",
       "  cursor: pointer;\n",
       "  color: var(--xr-font-color2);\n",
       "}\n",
       "\n",
       ".xr-section-item input:enabled + label:hover {\n",
       "  color: var(--xr-font-color0);\n",
       "}\n",
       "\n",
       ".xr-section-summary {\n",
       "  grid-column: 1;\n",
       "  color: var(--xr-font-color2);\n",
       "  font-weight: 500;\n",
       "}\n",
       "\n",
       ".xr-section-summary > span {\n",
       "  display: inline-block;\n",
       "  padding-left: 0.5em;\n",
       "}\n",
       "\n",
       ".xr-section-summary-in:disabled + label {\n",
       "  color: var(--xr-font-color2);\n",
       "}\n",
       "\n",
       ".xr-section-summary-in + label:before {\n",
       "  display: inline-block;\n",
       "  content: '►';\n",
       "  font-size: 11px;\n",
       "  width: 15px;\n",
       "  text-align: center;\n",
       "}\n",
       "\n",
       ".xr-section-summary-in:disabled + label:before {\n",
       "  color: var(--xr-disabled-color);\n",
       "}\n",
       "\n",
       ".xr-section-summary-in:checked + label:before {\n",
       "  content: '▼';\n",
       "}\n",
       "\n",
       ".xr-section-summary-in:checked + label > span {\n",
       "  display: none;\n",
       "}\n",
       "\n",
       ".xr-section-summary,\n",
       ".xr-section-inline-details {\n",
       "  padding-top: 4px;\n",
       "  padding-bottom: 4px;\n",
       "}\n",
       "\n",
       ".xr-section-inline-details {\n",
       "  grid-column: 2 / -1;\n",
       "}\n",
       "\n",
       ".xr-section-details {\n",
       "  display: none;\n",
       "  grid-column: 1 / -1;\n",
       "  margin-bottom: 5px;\n",
       "}\n",
       "\n",
       ".xr-section-summary-in:checked ~ .xr-section-details {\n",
       "  display: contents;\n",
       "}\n",
       "\n",
       ".xr-array-wrap {\n",
       "  grid-column: 1 / -1;\n",
       "  display: grid;\n",
       "  grid-template-columns: 20px auto;\n",
       "}\n",
       "\n",
       ".xr-array-wrap > label {\n",
       "  grid-column: 1;\n",
       "  vertical-align: top;\n",
       "}\n",
       "\n",
       ".xr-preview {\n",
       "  color: var(--xr-font-color3);\n",
       "}\n",
       "\n",
       ".xr-array-preview,\n",
       ".xr-array-data {\n",
       "  padding: 0 5px !important;\n",
       "  grid-column: 2;\n",
       "}\n",
       "\n",
       ".xr-array-data,\n",
       ".xr-array-in:checked ~ .xr-array-preview {\n",
       "  display: none;\n",
       "}\n",
       "\n",
       ".xr-array-in:checked ~ .xr-array-data,\n",
       ".xr-array-preview {\n",
       "  display: inline-block;\n",
       "}\n",
       "\n",
       ".xr-dim-list {\n",
       "  display: inline-block !important;\n",
       "  list-style: none;\n",
       "  padding: 0 !important;\n",
       "  margin: 0;\n",
       "}\n",
       "\n",
       ".xr-dim-list li {\n",
       "  display: inline-block;\n",
       "  padding: 0;\n",
       "  margin: 0;\n",
       "}\n",
       "\n",
       ".xr-dim-list:before {\n",
       "  content: '(';\n",
       "}\n",
       "\n",
       ".xr-dim-list:after {\n",
       "  content: ')';\n",
       "}\n",
       "\n",
       ".xr-dim-list li:not(:last-child):after {\n",
       "  content: ',';\n",
       "  padding-right: 5px;\n",
       "}\n",
       "\n",
       ".xr-has-index {\n",
       "  font-weight: bold;\n",
       "}\n",
       "\n",
       ".xr-var-list,\n",
       ".xr-var-item {\n",
       "  display: contents;\n",
       "}\n",
       "\n",
       ".xr-var-item > div,\n",
       ".xr-var-item label,\n",
       ".xr-var-item > .xr-var-name span {\n",
       "  background-color: var(--xr-background-color-row-even);\n",
       "  margin-bottom: 0;\n",
       "}\n",
       "\n",
       ".xr-var-item > .xr-var-name:hover span {\n",
       "  padding-right: 5px;\n",
       "}\n",
       "\n",
       ".xr-var-list > li:nth-child(odd) > div,\n",
       ".xr-var-list > li:nth-child(odd) > label,\n",
       ".xr-var-list > li:nth-child(odd) > .xr-var-name span {\n",
       "  background-color: var(--xr-background-color-row-odd);\n",
       "}\n",
       "\n",
       ".xr-var-name {\n",
       "  grid-column: 1;\n",
       "}\n",
       "\n",
       ".xr-var-dims {\n",
       "  grid-column: 2;\n",
       "}\n",
       "\n",
       ".xr-var-dtype {\n",
       "  grid-column: 3;\n",
       "  text-align: right;\n",
       "  color: var(--xr-font-color2);\n",
       "}\n",
       "\n",
       ".xr-var-preview {\n",
       "  grid-column: 4;\n",
       "}\n",
       "\n",
       ".xr-var-name,\n",
       ".xr-var-dims,\n",
       ".xr-var-dtype,\n",
       ".xr-preview,\n",
       ".xr-attrs dt {\n",
       "  white-space: nowrap;\n",
       "  overflow: hidden;\n",
       "  text-overflow: ellipsis;\n",
       "  padding-right: 10px;\n",
       "}\n",
       "\n",
       ".xr-var-name:hover,\n",
       ".xr-var-dims:hover,\n",
       ".xr-var-dtype:hover,\n",
       ".xr-attrs dt:hover {\n",
       "  overflow: visible;\n",
       "  width: auto;\n",
       "  z-index: 1;\n",
       "}\n",
       "\n",
       ".xr-var-attrs,\n",
       ".xr-var-data {\n",
       "  display: none;\n",
       "  background-color: var(--xr-background-color) !important;\n",
       "  padding-bottom: 5px !important;\n",
       "}\n",
       "\n",
       ".xr-var-attrs-in:checked ~ .xr-var-attrs,\n",
       ".xr-var-data-in:checked ~ .xr-var-data {\n",
       "  display: block;\n",
       "}\n",
       "\n",
       ".xr-var-data > table {\n",
       "  float: right;\n",
       "}\n",
       "\n",
       ".xr-var-name span,\n",
       ".xr-var-data,\n",
       ".xr-attrs {\n",
       "  padding-left: 25px !important;\n",
       "}\n",
       "\n",
       ".xr-attrs,\n",
       ".xr-var-attrs,\n",
       ".xr-var-data {\n",
       "  grid-column: 1 / -1;\n",
       "}\n",
       "\n",
       "dl.xr-attrs {\n",
       "  padding: 0;\n",
       "  margin: 0;\n",
       "  display: grid;\n",
       "  grid-template-columns: 125px auto;\n",
       "}\n",
       "\n",
       ".xr-attrs dt, dd {\n",
       "  padding: 0;\n",
       "  margin: 0;\n",
       "  float: left;\n",
       "  padding-right: 10px;\n",
       "  width: auto;\n",
       "}\n",
       "\n",
       ".xr-attrs dt {\n",
       "  font-weight: normal;\n",
       "  grid-column: 1;\n",
       "}\n",
       "\n",
       ".xr-attrs dt:hover span {\n",
       "  display: inline-block;\n",
       "  background: var(--xr-background-color);\n",
       "  padding-right: 10px;\n",
       "}\n",
       "\n",
       ".xr-attrs dd {\n",
       "  grid-column: 2;\n",
       "  white-space: pre-wrap;\n",
       "  word-break: break-all;\n",
       "}\n",
       "\n",
       ".xr-icon-database,\n",
       ".xr-icon-file-text2 {\n",
       "  display: inline-block;\n",
       "  vertical-align: middle;\n",
       "  width: 1em;\n",
       "  height: 1.5em !important;\n",
       "  stroke-width: 0;\n",
       "  stroke: currentColor;\n",
       "  fill: currentColor;\n",
       "}\n",
       "</style><pre class='xr-text-repr-fallback'>&lt;xarray.DataArray (band: 1, y: 87666, x: 71204)&gt;\n",
       "[6242169864 values with dtype=uint8]\n",
       "Coordinates:\n",
       "  * band     (band) int64 1\n",
       "  * y        (y) float64 3.31e+06 3.31e+06 3.31e+06 ... 6.804e+05 6.803e+05\n",
       "  * x        (x) float64 -2.493e+06 -2.493e+06 ... -3.573e+05 -3.572e+05\n",
       "Attributes:\n",
       "    transform:      (30.0, 0.0, -2493345.0, 0.0, -30.0, 3310305.0)\n",
       "    crs:            +proj=aea +lat_1=29.5 +lat_2=45.5 +lat_0=23 +lon_0=-96 +x...\n",
       "    res:            (30.0, 30.0)\n",
       "    is_tiled:       0\n",
       "    nodatavals:     (nan,)\n",
       "    scales:         (1.0,)\n",
       "    offsets:        (0.0,)\n",
       "    descriptions:   (&#x27;Layer_1&#x27;,)\n",
       "    AREA_OR_POINT:  Area</pre><div class='xr-wrap' hidden><div class='xr-header'><div class='xr-obj-type'>xarray.DataArray</div><div class='xr-array-name'></div><ul class='xr-dim-list'><li><span class='xr-has-index'>band</span>: 1</li><li><span class='xr-has-index'>y</span>: 87666</li><li><span class='xr-has-index'>x</span>: 71204</li></ul></div><ul class='xr-sections'><li class='xr-section-item'><div class='xr-array-wrap'><input id='section-c678153b-5adc-48a2-9b6d-61c73cd3d061' class='xr-array-in' type='checkbox' checked><label for='section-c678153b-5adc-48a2-9b6d-61c73cd3d061' title='Show/hide data repr'><svg class='icon xr-icon-database'><use xlink:href='#icon-database'></use></svg></label><div class='xr-array-preview xr-preview'><span>...</span></div><div class='xr-array-data'><pre>[6242169864 values with dtype=uint8]</pre></div></div></li><li class='xr-section-item'><input id='section-5d223e7d-a2ad-4659-bef6-530848932255' class='xr-section-summary-in' type='checkbox'  checked><label for='section-5d223e7d-a2ad-4659-bef6-530848932255' class='xr-section-summary' >Coordinates: <span>(3)</span></label><div class='xr-section-inline-details'></div><div class='xr-section-details'><ul class='xr-var-list'><li class='xr-var-item'><div class='xr-var-name'><span class='xr-has-index'>band</span></div><div class='xr-var-dims'>(band)</div><div class='xr-var-dtype'>int64</div><div class='xr-var-preview xr-preview'>1</div><input id='attrs-67572abe-a927-42e5-badd-3cc44332fe9b' class='xr-var-attrs-in' type='checkbox' disabled><label for='attrs-67572abe-a927-42e5-badd-3cc44332fe9b' title='Show/Hide attributes'><svg class='icon xr-icon-file-text2'><use xlink:href='#icon-file-text2'></use></svg></label><input id='data-05e33de2-d01e-41cb-8e6a-077f6580003d' class='xr-var-data-in' type='checkbox'><label for='data-05e33de2-d01e-41cb-8e6a-077f6580003d' title='Show/Hide data repr'><svg class='icon xr-icon-database'><use xlink:href='#icon-database'></use></svg></label><div class='xr-var-attrs'><dl class='xr-attrs'></dl></div><div class='xr-var-data'><pre>array([1])</pre></div></li><li class='xr-var-item'><div class='xr-var-name'><span class='xr-has-index'>y</span></div><div class='xr-var-dims'>(y)</div><div class='xr-var-dtype'>float64</div><div class='xr-var-preview xr-preview'>3.31e+06 3.31e+06 ... 6.803e+05</div><input id='attrs-57166f4a-4fc8-4d4b-a9b5-f83829bdb6fc' class='xr-var-attrs-in' type='checkbox' disabled><label for='attrs-57166f4a-4fc8-4d4b-a9b5-f83829bdb6fc' title='Show/Hide attributes'><svg class='icon xr-icon-file-text2'><use xlink:href='#icon-file-text2'></use></svg></label><input id='data-f9ba4b7f-5bf1-4a71-af20-b2f51b461efb' class='xr-var-data-in' type='checkbox'><label for='data-f9ba4b7f-5bf1-4a71-af20-b2f51b461efb' title='Show/Hide data repr'><svg class='icon xr-icon-database'><use xlink:href='#icon-database'></use></svg></label><div class='xr-var-attrs'><dl class='xr-attrs'></dl></div><div class='xr-var-data'><pre>array([3310290., 3310260., 3310230., ...,  680400.,  680370.,  680340.])</pre></div></li><li class='xr-var-item'><div class='xr-var-name'><span class='xr-has-index'>x</span></div><div class='xr-var-dims'>(x)</div><div class='xr-var-dtype'>float64</div><div class='xr-var-preview xr-preview'>-2.493e+06 ... -3.572e+05</div><input id='attrs-f5b42fd5-3dc1-4e31-a0fa-f57ecea0d832' class='xr-var-attrs-in' type='checkbox' disabled><label for='attrs-f5b42fd5-3dc1-4e31-a0fa-f57ecea0d832' title='Show/Hide attributes'><svg class='icon xr-icon-file-text2'><use xlink:href='#icon-file-text2'></use></svg></label><input id='data-feb2b977-841e-47de-b111-677f7e6affd4' class='xr-var-data-in' type='checkbox'><label for='data-feb2b977-841e-47de-b111-677f7e6affd4' title='Show/Hide data repr'><svg class='icon xr-icon-database'><use xlink:href='#icon-database'></use></svg></label><div class='xr-var-attrs'><dl class='xr-attrs'></dl></div><div class='xr-var-data'><pre>array([-2493330., -2493300., -2493270., ...,  -357300.,  -357270.,  -357240.])</pre></div></li></ul></div></li><li class='xr-section-item'><input id='section-57cd8cae-191c-478d-a48e-d79d7af965fc' class='xr-section-summary-in' type='checkbox'  checked><label for='section-57cd8cae-191c-478d-a48e-d79d7af965fc' class='xr-section-summary' >Attributes: <span>(9)</span></label><div class='xr-section-inline-details'></div><div class='xr-section-details'><dl class='xr-attrs'><dt><span>transform :</span></dt><dd>(30.0, 0.0, -2493345.0, 0.0, -30.0, 3310305.0)</dd><dt><span>crs :</span></dt><dd>+proj=aea +lat_1=29.5 +lat_2=45.5 +lat_0=23 +lon_0=-96 +x_0=0 +y_0=0 +datum=WGS84 +units=m +no_defs=True</dd><dt><span>res :</span></dt><dd>(30.0, 30.0)</dd><dt><span>is_tiled :</span></dt><dd>0</dd><dt><span>nodatavals :</span></dt><dd>(nan,)</dd><dt><span>scales :</span></dt><dd>(1.0,)</dd><dt><span>offsets :</span></dt><dd>(0.0,)</dd><dt><span>descriptions :</span></dt><dd>(&#x27;Layer_1&#x27;,)</dd><dt><span>AREA_OR_POINT :</span></dt><dd>Area</dd></dl></div></li></ul></div></div>"
      ],
      "text/plain": [
       "<xarray.DataArray (band: 1, y: 87666, x: 71204)>\n",
       "[6242169864 values with dtype=uint8]\n",
       "Coordinates:\n",
       "  * band     (band) int64 1\n",
       "  * y        (y) float64 3.31e+06 3.31e+06 3.31e+06 ... 6.804e+05 6.803e+05\n",
       "  * x        (x) float64 -2.493e+06 -2.493e+06 ... -3.573e+05 -3.572e+05\n",
       "Attributes:\n",
       "    transform:      (30.0, 0.0, -2493345.0, 0.0, -30.0, 3310305.0)\n",
       "    crs:            +proj=aea +lat_1=29.5 +lat_2=45.5 +lat_0=23 +lon_0=-96 +x...\n",
       "    res:            (30.0, 30.0)\n",
       "    is_tiled:       0\n",
       "    nodatavals:     (nan,)\n",
       "    scales:         (1.0,)\n",
       "    offsets:        (0.0,)\n",
       "    descriptions:   ('Layer_1',)\n",
       "    AREA_OR_POINT:  Area"
      ]
     },
     "execution_count": 21,
     "metadata": {},
     "output_type": "execute_result"
    }
   ],
   "source": [
    "da"
   ]
  },
  {
   "cell_type": "code",
   "execution_count": 24,
   "metadata": {},
   "outputs": [
    {
     "name": "stdout",
     "output_type": "stream",
     "text": [
      "{\r\n",
      "    \"bounds\": [\r\n",
      "        -2493345.0,\r\n",
      "        680325.0,\r\n",
      "        -357225.0,\r\n",
      "        3310305.0\r\n",
      "    ],\r\n",
      "    \"colorinterp\": [\r\n",
      "        \"palette\"\r\n",
      "    ],\r\n",
      "    \"count\": 1,\r\n",
      "    \"crs\": \"PROJCS[\\\"Albers Conical Equal Area\\\",GEOGCS[\\\"WGS 84\\\",DATUM[\\\"WGS_1984\\\",SPHEROID[\\\"WGS 84\\\",6378137,298.257223563,AUTHORITY[\\\"EPSG\\\",\\\"7030\\\"]],AUTHORITY[\\\"EPSG\\\",\\\"6326\\\"]],PRIMEM[\\\"Greenwich\\\",0],UNIT[\\\"degree\\\",0.0174532925199433],AUTHORITY[\\\"EPSG\\\",\\\"4326\\\"]],PROJECTION[\\\"Albers_Conic_Equal_Area\\\"],PARAMETER[\\\"standard_parallel_1\\\",29.5],PARAMETER[\\\"standard_parallel_2\\\",45.5],PARAMETER[\\\"latitude_of_center\\\",23],PARAMETER[\\\"longitude_of_center\\\",-96],PARAMETER[\\\"false_easting\\\",0],PARAMETER[\\\"false_northing\\\",0],UNIT[\\\"metre\\\",1,AUTHORITY[\\\"EPSG\\\",\\\"9001\\\"]]]\",\r\n",
      "    \"descriptions\": [\r\n",
      "        \"Layer_1\"\r\n",
      "    ],\r\n",
      "    \"driver\": \"GTiff\",\r\n",
      "    \"dtype\": \"uint8\",\r\n",
      "    \"height\": 87666,\r\n",
      "    \"indexes\": [\r\n",
      "        1\r\n",
      "    ],\r\n",
      "    \"interleave\": \"band\",\r\n",
      "    \"lnglat\": [\r\n",
      "        -112.8926359117277,\r\n",
      "        39.8333524488078\r\n",
      "    ],\r\n",
      "    \"mask_flags\": [\r\n",
      "        [\r\n",
      "            \"all_valid\"\r\n",
      "        ]\r\n",
      "    ],\r\n",
      "    \"nodata\": null,\r\n",
      "    \"res\": [\r\n",
      "        30.0,\r\n",
      "        30.0\r\n",
      "    ],\r\n",
      "    \"shape\": [\r\n",
      "        87666,\r\n",
      "        71204\r\n",
      "    ],\r\n",
      "    \"tiled\": false,\r\n",
      "    \"transform\": [\r\n",
      "        30.0,\r\n",
      "        0.0,\r\n",
      "        -2493345.0,\r\n",
      "        0.0,\r\n",
      "        -30.0,\r\n",
      "        3310305.0,\r\n",
      "        0.0,\r\n",
      "        0.0,\r\n",
      "        1.0\r\n",
      "    ],\r\n",
      "    \"units\": [\r\n",
      "        null\r\n",
      "    ],\r\n",
      "    \"width\": 71204\r\n",
      "}\r\n"
     ]
    }
   ],
   "source": [
    "! rio info a.tif | python -m json.tool"
   ]
  },
  {
   "cell_type": "code",
   "execution_count": 25,
   "metadata": {},
   "outputs": [
    {
     "name": "stdout",
     "output_type": "stream",
     "text": [
      "{\"bbox\": [-130.23802113440894, 26.203910786966436, -99.66880650799672, 52.79052910002491], \"geometry\": {\"coordinates\": [[[-130.23802113440894, 26.203910786966436], [-99.66880650799672, 26.203910786966436], [-99.66880650799672, 52.79052910002491], [-130.23802113440894, 52.79052910002491], [-130.23802113440894, 26.203910786966436]]], \"type\": \"Polygon\"}, \"properties\": {\"filename\": \"a.tif\", \"id\": \"0\", \"title\": \"a.tif\"}, \"type\": \"Feature\"}\r\n"
     ]
    }
   ],
   "source": [
    "! rio bounds a.tif"
   ]
  },
  {
   "cell_type": "code",
   "execution_count": 28,
   "metadata": {},
   "outputs": [
    {
     "name": "stdout",
     "output_type": "stream",
     "text": [
      "TIF\n",
      "a.tif\n",
      "IMG\n",
      "ZIP\n",
      "*.tif\n"
     ]
    }
   ],
   "source": [
    "%%bash\n",
    "#echo TIF >> .gitignore\n",
    "echo \\*.tif >> .gitignore\n",
    "#echo IMG >> .gitignore\n",
    "#echo ZIP >> .gitignore\n",
    "cat .gitignore"
   ]
  },
  {
   "cell_type": "code",
   "execution_count": 29,
   "metadata": {},
   "outputs": [],
   "source": [
    "! rio bounds a.tif > scene.geojson"
   ]
  },
  {
   "cell_type": "code",
   "execution_count": 32,
   "metadata": {},
   "outputs": [
    {
     "data": {
      "text/html": [
       "<div style=\"width:100%;\"><div style=\"position:relative;width:100%;height:0;padding-bottom:60%;\"><span style=\"color:#565656\">Make this Notebook Trusted to load map: File -> Trust Notebook</span><iframe src=\"about:blank\" style=\"position:absolute;width:100%;height:100%;left:0;top:0;border:none !important;\" data-html=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 onload=\"this.contentDocument.open();this.contentDocument.write(atob(this.getAttribute('data-html')));this.contentDocument.close();\" allowfullscreen webkitallowfullscreen mozallowfullscreen></iframe></div></div>"
      ],
      "text/plain": [
       "<folium.folium.Map at 0x7f5256368ef0>"
      ]
     },
     "execution_count": 32,
     "metadata": {},
     "output_type": "execute_result"
    }
   ],
   "source": [
    "import folium\n",
    "import geopandas as gpd\n",
    "tiles=\" http://mt1.google.com/vt/lyrs=y&z={z}&x={x}&y={y}\"\n",
    "attr=\"Google\"\n",
    "\n",
    "map3 = folium.Map(tiles=tiles,attr=attr)\n",
    "my_geo = gpd.read_file('scene.geojson')\n",
    "my_geo_json = my_geo.to_json()\n",
    "style_function= lambda x:{'color':'yellow'}\n",
    "folium.GeoJson(my_geo_json,style_function).add_to(map3)\n",
    "map3.add_child(folium.features.LatLngPopup())\n",
    "map3"
   ]
  },
  {
   "cell_type": "markdown",
   "metadata": {},
   "source": [
    "# This data definitely lives in an s3 bucket\n",
    "\n",
    "## Can I get there directly\n",
    "\n",
    "# NOPE :-()\n",
    "\n",
    "- horse goes into a bar; bartender asks why the long face  :-()"
   ]
  },
  {
   "cell_type": "code",
   "execution_count": 3,
   "metadata": {},
   "outputs": [
    {
     "name": "stdout",
     "output_type": "stream",
     "text": [
      "\r\n",
      "An error occurred (AccessDenied) when calling the ListObjectsV2 operation: Access Denied\r\n"
     ]
    }
   ],
   "source": [
    "! aws s3 ls s3://mrlc/Base_Annual_Herb_071520.zip"
   ]
  },
  {
   "cell_type": "code",
   "execution_count": 4,
   "metadata": {},
   "outputs": [
    {
     "name": "stdout",
     "output_type": "stream",
     "text": [
      "\r\n",
      "An error occurred (AccessDenied) when calling the ListObjectsV2 operation: Access Denied\r\n"
     ]
    }
   ],
   "source": [
    "! aws s3 ls mrlc"
   ]
  },
  {
   "cell_type": "code",
   "execution_count": 5,
   "metadata": {},
   "outputs": [
    {
     "name": "stdout",
     "output_type": "stream",
     "text": [
      "Archive:  Base_Annual_Herb_071520.zip\n",
      "replace nlcd_2016_annual_herbaceous_shrubland_fractional_component_20200715.ige? [y]es, [n]o, [A]ll, [N]one, [r]ename: ^C\n"
     ]
    }
   ],
   "source": [
    "!unzip Base_Annual_Herb_071520.zip"
   ]
  },
  {
   "cell_type": "code",
   "execution_count": 6,
   "metadata": {},
   "outputs": [
    {
     "name": "stdout",
     "output_type": "stream",
     "text": [
      "00-data-scraping.ipynb\r\n",
      "Base_Annual_Herb_071520.zip\r\n",
      "Base_Annual_Herb_071520.zip.1\r\n",
      "NLCD_2016_Annual_Herb_Shrubland_Fractional_Component_20200715.xml\r\n",
      "nlcd_2016_annual_herbaceous_shrubland_fractional_component_20200715.ige\r\n",
      "nlcd_2016_annual_herbaceous_shrubland_fractional_component_20200715.img\r\n"
     ]
    }
   ],
   "source": [
    "!ls"
   ]
  },
  {
   "cell_type": "code",
   "execution_count": null,
   "metadata": {},
   "outputs": [],
   "source": []
  }
 ],
 "metadata": {
  "kernelspec": {
   "display_name": "Python 3",
   "language": "python",
   "name": "python3"
  },
  "language_info": {
   "codemirror_mode": {
    "name": "ipython",
    "version": 3
   },
   "file_extension": ".py",
   "mimetype": "text/x-python",
   "name": "python",
   "nbconvert_exporter": "python",
   "pygments_lexer": "ipython3",
   "version": "3.7.3"
  }
 },
 "nbformat": 4,
 "nbformat_minor": 4
}
