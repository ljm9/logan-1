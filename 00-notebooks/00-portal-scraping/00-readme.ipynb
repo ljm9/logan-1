{
 "cells": [
  {
   "cell_type": "code",
   "execution_count": 1,
   "metadata": {},
   "outputs": [
    {
     "data": {
      "text/markdown": [
       "# Background\n",
       "\n",
       "file:///C:/Users/butzer/AppData/Local/Temp/1/Characterizing_Land_Surface_Phenology_and_Exotic_A.pdf\n",
       "\n",
       "\n",
       "# Cloud versus Local Processing\n",
       "\n",
       "## Links\n",
       "- http://rangeland.ntsg.umt.edu/data/rap/rap-vegetation-cover/v2/\n",
       "- https://www.mrlc.gov/data?f%5B0%5D=category%3ARangeland%20-%20Historical%20Time-Series%20%E2%80%93%20BIT\n",
       "\n",
       "## Details\n",
       "- Raster Data wrangling (work w/ Tony Butzer):\n",
       "\t- Transfer RAPv2.0 and BITv3 data (1984 to 2019) on annual herbaceous cover into our S3 bucket\n",
       "\t- Transfer DEM and derivatives (e.g. potential annual incident radiation), long-term climate averages, soils data (all on CFLUX), and extended study area extent into our S3 bucket.\n",
       "-\tPre-process all these data (e.g. common projection and extent) in the cloud as needed\n",
       "-\tModel Database generation:\n",
       "\t-\tQuery AIM database for developing a shapefile of exotic annual grass cover (%) (already completed?) within our extended study area\n",
       "\t-\tSample NLCD high-resolution estimates of annual herbaceous cover (Rigge is working on getting these data to us; look for an email w/ a file location from me soon).\n",
       "\t\t-\tStratified sampling by year of observation (n= 30k/yr)\n",
       "\t\t-\tRandom sampling (N=1M)\n",
       "\t\t-\tRetain x, y, year of observation, data source (AIM or NLCD), and % cover estimates\n",
       "\t-\tMerge queried exotic annual grass cover AIM database and NLCD field and high-resolution grid data \n",
       "\t\t-\tTwo databases total (i.e. simple random sampling + AIM data and stratified random sampling + AIM data)\n",
       "\t-\tDevelop Jupyter Notebook to extract RAPv2 and BITv2 data coincident with timing of field observation (i.e. 1:1 matching of timing of field observation and estimates of fractional cover) \n",
       "\t\t-\tDev will likely have a python script for this which can be run in the cloud w/ tweaking\n",
       "\t\t-\tExtract information on static environmental variables as you’ve done previously and save the shapefile and the attributes (as a csv) in the S3 bucket\n",
       "\n"
      ],
      "text/plain": [
       "<IPython.core.display.Markdown object>"
      ]
     },
     "metadata": {},
     "output_type": "display_data"
    }
   ],
   "source": [
    "from IPython.display import display, Markdown\n",
    "\n",
    "with open('Readme.md', 'r') as fh:\n",
    "    content = fh.read()\n",
    "\n",
    "display(Markdown(content))"
   ]
  },
  {
   "cell_type": "code",
   "execution_count": 2,
   "metadata": {},
   "outputs": [
    {
     "data": {
      "text/plain": [
       "36"
      ]
     },
     "execution_count": 2,
     "metadata": {},
     "output_type": "execute_result"
    }
   ],
   "source": [
    "2019 - 1984 + 1"
   ]
  },
  {
   "cell_type": "code",
   "execution_count": 3,
   "metadata": {},
   "outputs": [
    {
     "data": {
      "text/plain": [
       "324"
      ]
     },
     "execution_count": 3,
     "metadata": {},
     "output_type": "execute_result"
    }
   ],
   "source": [
    "36 * 9 "
   ]
  },
  {
   "cell_type": "code",
   "execution_count": null,
   "metadata": {},
   "outputs": [],
   "source": []
  }
 ],
 "metadata": {
  "kernelspec": {
   "display_name": "Python 3",
   "language": "python",
   "name": "python3"
  },
  "language_info": {
   "codemirror_mode": {
    "name": "ipython",
    "version": 3
   },
   "file_extension": ".py",
   "mimetype": "text/x-python",
   "name": "python",
   "nbconvert_exporter": "python",
   "pygments_lexer": "ipython3",
   "version": "3.7.4"
  }
 },
 "nbformat": 4,
 "nbformat_minor": 4
}
