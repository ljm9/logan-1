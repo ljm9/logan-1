{
 "cells": [
  {
   "cell_type": "markdown",
   "metadata": {},
   "source": [
    "# Purpose of this Notebook\n",
    "\n",
    "- grab a small aoi from rengeland and load it into an xarray\n",
    "\n",
    "- understand how to download an aoi from http://rangeland.ntsg.umt.edu/data/rap/rap-vegetation-cover/v2/README\n",
    "    \n",
    "    "
   ]
  },
  {
   "cell_type": "markdown",
   "metadata": {},
   "source": [
    "# get and cat the readme"
   ]
  },
  {
   "cell_type": "code",
   "execution_count": 1,
   "metadata": {},
   "outputs": [],
   "source": [
    "#! wget http://rangeland.ntsg.umt.edu/data/rap/rap-vegetation-cover/v2/README -O rangeland_cover_v2_0.txt"
   ]
  },
  {
   "cell_type": "code",
   "execution_count": 2,
   "metadata": {},
   "outputs": [
    {
     "name": "stdout",
     "output_type": "stream",
     "text": [
      "rangeland cover v2.0\r\n",
      "====================\r\n",
      "These data represent rangeland cover estimates described in Allred et al.\r\n",
      "(2020).\r\n",
      "\r\n",
      "Band 1 - annual forb and grass\r\n",
      "Band 2 - bare ground\r\n",
      "Band 3 - litter\r\n",
      "Band 4 - perennial forb and grass\r\n",
      "Band 5 - shrub\r\n",
      "Band 6 - tree\r\n",
      "Band 7 - annual forb and grass uncertainty\r\n",
      "Band 8 - bare ground uncertainty\r\n",
      "Band 9 - litter uncertainty\r\n",
      "Band 10 - perennial forb and grass uncertainty\r\n",
      "Band 11 - shrub uncertainty\r\n",
      "Band 12 - tree uncertainty\r\n",
      "\r\n",
      "No Data value = 65535\r\n",
      "Uncertainty values are scaled by 100\r\n",
      "\r\n",
      "Uncertainty values represent a standard deviation of predictions. As such, they\r\n",
      "may be standardized by the mean when comparing across groups. Appropriate\r\n",
      "actions should be taken when the mean is less than one.\r\n",
      "\r\n",
      "Although these data were produced across a broad region, they are primarily\r\n",
      "intended for rangeland ecosystems. Cover estimates may not be suitable in other\r\n",
      "ecosystems, e.g., forests, agricultural lands.\r\n",
      "\r\n",
      "Coordinate reference system\r\n",
      "===========================\r\n",
      "Data are in WGS84 Geographic Coordinate System (EPSG:4326); spatial resolution\r\n",
      "is approximately 30m.\r\n",
      "\r\n",
      "Google Earth Engine\r\n",
      "===================\r\n",
      "Data are available in the 'projects/rangeland-analysis-platform/vegetation-cover-v2'\r\n",
      "ImageCollection.\r\n",
      "\r\n",
      "Download tip\r\n",
      "============\r\n",
      "To download a specific location, use the GDAL virtual file system. For example,\r\n",
      "the following gdal_translate command will retrieve a small section of Montana\r\n",
      "(see the gdal_translate documentation for more information):\r\n",
      "\r\n",
      "gdal_translate -co compress=lzw -co tiled=yes -co bigtiff=yes \\\r\n",
      "/vsicurl/http://rangeland.ntsg.umt.edu/data/rap/rap-vegetation-cover/v2/vegetation-cover-v2-2019.tif \\\r\n",
      "-projwin -108 48 -107 47 out.tif\r\n",
      "\r\n",
      "Contacts\r\n",
      "========\r\n",
      "Brady Allred (allredbw@gmail.com)\r\n",
      "Matthew Jones (matt.jones@ntsg.umt.edu)\r\n",
      "\r\n",
      "Terms of use\r\n",
      "============\r\n",
      "This work is licensed under the Creative Commons Attribution-NonCommercial 4.0\r\n",
      "International License. To view a copy of this license, visit\r\n",
      "http://creativecommons.org/licenses/by-nc/4.0/\r\n",
      "Data are provided \"as is\" without warranty of any kind, express or implied.\r\n",
      "\r\n",
      "Please attribute these data to:\r\n",
      "\r\n",
      "Allred, B. W., B. T. Bestelmeyer, C. S. Boyd, C. Brown, K. W. Davies, L. M.\r\n",
      "Ellsworth, T. A. Erickson, S. D. Fuhlendorf, T. V. Griffiths, V. Jansen, M. O.\r\n",
      "Jones, J. Karl, J. D. Maestas, J. J. Maynard, S. E. McCord, D. E. Naugle, H. D.\r\n",
      "Starns, D. Twidwell, and D. R. Uden. 2020. Improving Landsat predictions of\r\n",
      "rangeland fractional cover with multitask learning and uncertainty.\r\n",
      "bioRxiv:2020.06.10.142489. http://dx.doi.org/10.1101/2020.06.10.142489\r\n",
      "\r\n",
      "Changelog\r\n",
      "========\r\n",
      "2020-06-08 Public data release, version 2.0\r\n"
     ]
    }
   ],
   "source": [
    "!cat rangeland_cover_v2_0.txt"
   ]
  },
  {
   "cell_type": "markdown",
   "metadata": {},
   "source": [
    "# Download tip\n",
    "============\n",
    "To download a specific location, use the GDAL virtual file system. For example,\n",
    "the following gdal_translate command will retrieve a small section of Montana\n",
    "(see the gdal_translate documentation for more information):\n",
    "\n",
    "gdal_translate -co compress=lzw -co tiled=yes -co bigtiff=yes \\\n",
    "/vsicurl/http://rangeland.ntsg.umt.edu/data/rap/rap-vegetation-cover/v2/vegetation-cover-v2-2019.tif \\\n",
    "-projwin -108 48 -107 47 out.tif"
   ]
  },
  {
   "cell_type": "markdown",
   "metadata": {},
   "source": [
    "# Guess at Neal's AOI"
   ]
  },
  {
   "cell_type": "code",
   "execution_count": 3,
   "metadata": {},
   "outputs": [
    {
     "name": "stdout",
     "output_type": "stream",
     "text": [
      "little_calif.geojson  little_oregon.geojson  tonyaoi.geojson\r\n"
     ]
    }
   ],
   "source": [
    "! ls *.geojson"
   ]
  },
  {
   "cell_type": "markdown",
   "metadata": {},
   "source": [
    "# small AOI 1 degree by 1 degree"
   ]
  },
  {
   "cell_type": "code",
   "execution_count": 4,
   "metadata": {},
   "outputs": [
    {
     "name": "stdout",
     "output_type": "stream",
     "text": [
      "{\r\n",
      "    \"bbox\": [\r\n",
      "        -121.0,\r\n",
      "        38.69990559418974,\r\n",
      "        -119.99990559418974,\r\n",
      "        39.7\r\n",
      "    ],\r\n",
      "    \"geometry\": {\r\n",
      "        \"coordinates\": [\r\n",
      "            [\r\n",
      "                [\r\n",
      "                    -121.0,\r\n",
      "                    38.69990559418974\r\n",
      "                ],\r\n",
      "                [\r\n",
      "                    -119.99990559418974,\r\n",
      "                    38.69990559418974\r\n",
      "                ],\r\n",
      "                [\r\n",
      "                    -119.99990559418974,\r\n",
      "                    39.7\r\n",
      "                ],\r\n",
      "                [\r\n",
      "                    -121.0,\r\n",
      "                    39.7\r\n",
      "                ],\r\n",
      "                [\r\n",
      "                    -121.0,\r\n",
      "                    38.69990559418974\r\n",
      "                ]\r\n",
      "            ]\r\n",
      "        ],\r\n",
      "        \"type\": \"Polygon\"\r\n",
      "    },\r\n",
      "    \"properties\": {\r\n",
      "        \"filename\": \"little_oregon.tif\",\r\n",
      "        \"id\": \"0\",\r\n",
      "        \"title\": \"little_oregon.tif\"\r\n",
      "    },\r\n",
      "    \"type\": \"Feature\"\r\n",
      "}\r\n"
     ]
    }
   ],
   "source": [
    "! cat little_calif.geojson | python -m json.tool"
   ]
  },
  {
   "cell_type": "markdown",
   "metadata": {},
   "source": [
    "## No Data value = 65535\n",
    "- Uncertainty values are scaled by 100"
   ]
  },
  {
   "cell_type": "markdown",
   "metadata": {},
   "source": [
    "# Display it on a map for tony"
   ]
  },
  {
   "cell_type": "code",
   "execution_count": 5,
   "metadata": {},
   "outputs": [
    {
     "ename": "ModuleNotFoundError",
     "evalue": "No module named 'notebookLib'",
     "output_type": "error",
     "traceback": [
      "\u001b[0;31m---------------------------------------------------------------------------\u001b[0m",
      "\u001b[0;31mModuleNotFoundError\u001b[0m                       Traceback (most recent call last)",
      "\u001b[0;32m<ipython-input-5-f1d5e5cf25c9>\u001b[0m in \u001b[0;36m<module>\u001b[0;34m\u001b[0m\n\u001b[1;32m      1\u001b[0m \u001b[0mmy_aoi_file\u001b[0m \u001b[0;34m=\u001b[0m \u001b[0;34m'little_calif.geojson'\u001b[0m\u001b[0;34m\u001b[0m\u001b[0;34m\u001b[0m\u001b[0m\n\u001b[0;32m----> 2\u001b[0;31m \u001b[0;32mfrom\u001b[0m \u001b[0mnotebookLib\u001b[0m\u001b[0;34m.\u001b[0m\u001b[0mnb_display\u001b[0m \u001b[0;32mimport\u001b[0m \u001b[0mLdisplay\u001b[0m\u001b[0;34m\u001b[0m\u001b[0;34m\u001b[0m\u001b[0m\n\u001b[0m\u001b[1;32m      3\u001b[0m \u001b[0mld\u001b[0m \u001b[0;34m=\u001b[0m \u001b[0mLdisplay\u001b[0m\u001b[0;34m(\u001b[0m\u001b[0;34m)\u001b[0m\u001b[0;34m\u001b[0m\u001b[0;34m\u001b[0m\u001b[0m\n\u001b[1;32m      4\u001b[0m \u001b[0mld\u001b[0m\u001b[0;34m.\u001b[0m\u001b[0mmap_geojson\u001b[0m\u001b[0;34m(\u001b[0m\u001b[0mmy_aoi_file\u001b[0m\u001b[0;34m)\u001b[0m\u001b[0;34m\u001b[0m\u001b[0;34m\u001b[0m\u001b[0m\n",
      "\u001b[0;31mModuleNotFoundError\u001b[0m: No module named 'notebookLib'"
     ]
    }
   ],
   "source": [
    "my_aoi_file = 'little_calif.geojson'\n",
    "from notebookLib.nb_display import Ldisplay\n",
    "ld = Ldisplay()\n",
    "ld.map_geojson(my_aoi_file)"
   ]
  },
  {
   "cell_type": "code",
   "execution_count": 6,
   "metadata": {},
   "outputs": [
    {
     "name": "stdout",
     "output_type": "stream",
     "text": [
      "Filesystem      Size  Used Avail Use% Mounted on\r\n",
      "/dev/sdb1       110G   34G   71G  33% /home/notebooks\r\n"
     ]
    }
   ],
   "source": [
    "# how much disk did tony give me? - these things are big!\n",
    "! df -h ."
   ]
  },
  {
   "cell_type": "code",
   "execution_count": 7,
   "metadata": {},
   "outputs": [],
   "source": [
    "# ok"
   ]
  },
  {
   "cell_type": "code",
   "execution_count": 8,
   "metadata": {},
   "outputs": [
    {
     "name": "stdout",
     "output_type": "stream",
     "text": [
      "(-120.43 -20.28, 23.194 57.322)\n"
     ]
    }
   ],
   "source": [
    "import geojson\n",
    "\n",
    "def bbox(coord_list):\n",
    "     box = []\n",
    "     for i in (0,1):\n",
    "         res = sorted(coord_list, key=lambda x:x[i])\n",
    "         box.append((res[0][i],res[-1][i]))\n",
    "     ret = f\"({box[0][0]} {box[1][0]}, {box[0][1]} {box[1][1]})\"\n",
    "     return ret\n",
    "\n",
    "# obviously you need to parse your json here\n",
    "poly=geojson.Polygon([[(2.38, 57.322), (23.194, -20.28), (-120.43, 19.15), (2.38, 57.322)]])\n",
    "line = bbox(list(geojson.utils.coords(poly)))\n",
    "print(line)"
   ]
  },
  {
   "cell_type": "code",
   "execution_count": null,
   "metadata": {},
   "outputs": [],
   "source": [
    "#!pip install --user geojson"
   ]
  },
  {
   "cell_type": "code",
   "execution_count": 9,
   "metadata": {},
   "outputs": [],
   "source": [
    "import json"
   ]
  },
  {
   "cell_type": "code",
   "execution_count": 10,
   "metadata": {},
   "outputs": [],
   "source": [
    "with open(my_aoi_file) as f:\n",
    "  geo_data = json.load(f)"
   ]
  },
  {
   "cell_type": "code",
   "execution_count": 11,
   "metadata": {},
   "outputs": [
    {
     "data": {
      "text/plain": [
       "{'bbox': [-121.0, 38.69990559418974, -119.99990559418974, 39.7],\n",
       " 'geometry': {'coordinates': [[[-121.0, 38.69990559418974],\n",
       "    [-119.99990559418974, 38.69990559418974],\n",
       "    [-119.99990559418974, 39.7],\n",
       "    [-121.0, 39.7],\n",
       "    [-121.0, 38.69990559418974]]],\n",
       "  'type': 'Polygon'},\n",
       " 'properties': {'filename': 'little_oregon.tif',\n",
       "  'id': '0',\n",
       "  'title': 'little_oregon.tif'},\n",
       " 'type': 'Feature'}"
      ]
     },
     "execution_count": 11,
     "metadata": {},
     "output_type": "execute_result"
    }
   ],
   "source": [
    "geo_data"
   ]
  },
  {
   "cell_type": "code",
   "execution_count": 13,
   "metadata": {},
   "outputs": [
    {
     "data": {
      "text/plain": [
       "{'coordinates': [[[-121.0, 38.69990559418974],\n",
       "   [-119.99990559418974, 38.69990559418974],\n",
       "   [-119.99990559418974, 39.7],\n",
       "   [-121.0, 39.7],\n",
       "   [-121.0, 38.69990559418974]]],\n",
       " 'type': 'Polygon'}"
      ]
     },
     "execution_count": 13,
     "metadata": {},
     "output_type": "execute_result"
    }
   ],
   "source": [
    "geo_data['geometry']"
   ]
  },
  {
   "cell_type": "code",
   "execution_count": null,
   "metadata": {},
   "outputs": [],
   "source": [
    "line = bbox(list(geojson.utils.coords(geo_data['features'][0]['geometry'])))\n",
    "print(line)"
   ]
  },
  {
   "cell_type": "code",
   "execution_count": null,
   "metadata": {},
   "outputs": [],
   "source": [
    "! gdal_translate -co compress=lzw -co tiled=yes -co bigtiff=yes \\\n",
    "/vsicurl/http://rangeland.ntsg.umt.edu/data/rap/rap-vegetation-cover/v2/vegetation-cover-v2-2019.tif \\\n",
    "-projwin -121.11328124999999 38.634036452919226, -115.04882812499999 45.874712248904764 oregon_nevada.tif"
   ]
  },
  {
   "cell_type": "code",
   "execution_count": null,
   "metadata": {},
   "outputs": [],
   "source": [
    "#! gdal_translate -co compress=lzw -co tiled=yes -co bigtiff=yes \\\n",
    "/vsicurl/http://rangeland.ntsg.umt.edu/data/rap/rap-vegetation-cover/v2/vegetation-cover-v2-2019.tif \\\n",
    "-projwin -121.11328124999999 45.874712248904764, -115.04882812499999 38.634036452919226 oregon_nevada.tif"
   ]
  },
  {
   "cell_type": "markdown",
   "metadata": {},
   "source": [
    "# that took about 30 minutes - and it gave me progress\n",
    "\n",
    "- the whole file was 130 Gigabytes\n",
    "- my part of CONUS was only 8.6 Gig - still big for a file"
   ]
  },
  {
   "cell_type": "code",
   "execution_count": null,
   "metadata": {},
   "outputs": [],
   "source": [
    "!ls -lh"
   ]
  },
  {
   "cell_type": "code",
   "execution_count": null,
   "metadata": {},
   "outputs": [],
   "source": [
    "!ls -lh or*"
   ]
  },
  {
   "cell_type": "code",
   "execution_count": null,
   "metadata": {},
   "outputs": [],
   "source": [
    "! rio info oregon_nevada.tif | python -m json.tool"
   ]
  },
  {
   "cell_type": "code",
   "execution_count": null,
   "metadata": {},
   "outputs": [],
   "source": [
    "!gdalinfo oregon_nevada.tif"
   ]
  },
  {
   "cell_type": "code",
   "execution_count": null,
   "metadata": {},
   "outputs": [],
   "source": [
    "!rio --help"
   ]
  },
  {
   "cell_type": "code",
   "execution_count": null,
   "metadata": {},
   "outputs": [],
   "source": [
    "! rio clip --help"
   ]
  },
  {
   "cell_type": "code",
   "execution_count": null,
   "metadata": {},
   "outputs": [],
   "source": [
    "! rio clip oregon_nevada.tif little_oregon.tif --bounds '-121.0 38.7 -120.0 39.7'"
   ]
  },
  {
   "cell_type": "code",
   "execution_count": null,
   "metadata": {},
   "outputs": [],
   "source": [
    "!ls -lh *.tif"
   ]
  },
  {
   "cell_type": "code",
   "execution_count": null,
   "metadata": {},
   "outputs": [],
   "source": [
    "!gdalinfo little_oregon.tif"
   ]
  },
  {
   "cell_type": "code",
   "execution_count": null,
   "metadata": {},
   "outputs": [],
   "source": [
    "!rio --help"
   ]
  },
  {
   "cell_type": "code",
   "execution_count": null,
   "metadata": {},
   "outputs": [],
   "source": [
    "!rio bounds little_oregon.tif"
   ]
  },
  {
   "cell_type": "code",
   "execution_count": null,
   "metadata": {},
   "outputs": [],
   "source": [
    "# turns out little oregon is actually little_calif\n",
    "!rio bounds little_oregon.tif >little_calif.geojson"
   ]
  },
  {
   "cell_type": "code",
   "execution_count": null,
   "metadata": {},
   "outputs": [],
   "source": [
    "my_aoi_file = 'little_calif.geojson'\n",
    "from notebookLib.nb_display import Ldisplay\n",
    "ld = Ldisplay()\n",
    "ld.map_geojson(my_aoi_file)"
   ]
  },
  {
   "cell_type": "code",
   "execution_count": null,
   "metadata": {},
   "outputs": [],
   "source": [
    "with open(my_aoi_file) as f:\n",
    "  geo_data2 = json.load(f)"
   ]
  },
  {
   "cell_type": "code",
   "execution_count": null,
   "metadata": {},
   "outputs": [],
   "source": [
    "geo_data"
   ]
  },
  {
   "cell_type": "code",
   "execution_count": null,
   "metadata": {},
   "outputs": [],
   "source": [
    "geo_data2"
   ]
  },
  {
   "cell_type": "code",
   "execution_count": null,
   "metadata": {},
   "outputs": [],
   "source": [
    "!ls"
   ]
  },
  {
   "cell_type": "code",
   "execution_count": null,
   "metadata": {},
   "outputs": [],
   "source": [
    "!gdalinfo little_oregon.tif"
   ]
  },
  {
   "cell_type": "code",
   "execution_count": null,
   "metadata": {},
   "outputs": [],
   "source": []
  }
 ],
 "metadata": {
  "kernelspec": {
   "display_name": "Python 3",
   "language": "python",
   "name": "python3"
  },
  "language_info": {
   "codemirror_mode": {
    "name": "ipython",
    "version": 3
   },
   "file_extension": ".py",
   "mimetype": "text/x-python",
   "name": "python",
   "nbconvert_exporter": "python",
   "pygments_lexer": "ipython3",
   "version": "3.7.4"
  }
 },
 "nbformat": 4,
 "nbformat_minor": 4
}
