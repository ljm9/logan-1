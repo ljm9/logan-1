{
 "cells": [
  {
   "cell_type": "code",
   "execution_count": 1,
   "metadata": {},
   "outputs": [
    {
     "data": {
      "text/plain": [
       "['eco-w1/in0/rapv2/vegetation-cover-v2-1984.tif',\n",
       " 'eco-w1/in0/rapv2/vegetation-cover-v2-1985.tif',\n",
       " 'eco-w1/in0/rapv2/vegetation-cover-v2-1986.tif',\n",
       " 'eco-w1/in0/rapv2/vegetation-cover-v2-1987.tif']"
      ]
     },
     "execution_count": 1,
     "metadata": {},
     "output_type": "execute_result"
    }
   ],
   "source": [
    "import fsspec\n",
    "fs = fsspec.filesystem('s3', anon=False, requester_pays=True)\n",
    "\n",
    "# return all the COGS for a given year\n",
    "def get_tifs(last_prefix):\n",
    "    files = fs.ls(f'eco-w1/in0/{last_prefix}')\n",
    "    return [f for f in files if f.endswith('tif')]\n",
    "\n",
    "\n",
    "tif_list = get_tifs('rapv2')\n",
    "\n",
    "tif_list[0:4]\n",
    "\n"
   ]
  },
  {
   "cell_type": "code",
   "execution_count": 2,
   "metadata": {},
   "outputs": [],
   "source": [
    "import rasterio\n",
    "import xarray as xr\n",
    "\n",
    "#returns an xarray DA\n",
    "def overview_ugly_xr_read(s3_tif_object):\n",
    "    da = xr.open_rasterio(f's3://{s3_tif_object}')\n",
    "    src = rasterio.open(f's3://{s3_tif_object}', 'r')\n",
    "    #nsub = 4  # original scale factor\n",
    "    #nsub = 64\n",
    "    nsub=128\n",
    "    nsub_half = int(nsub/2)\n",
    "    data = src.read(out_shape=(1, int(src.height / nsub), int(src.width / nsub)))\n",
    "    DA = xr.DataArray(data, dims=da.dims, coords=[da.band, da.y[nsub_half:-nsub_half:nsub], da.x[nsub_half:-nsub_half:nsub]])\n",
    "    DA.attrs = da.attrs\n",
    "    return(DA)"
   ]
  },
  {
   "cell_type": "code",
   "execution_count": 3,
   "metadata": {},
   "outputs": [
    {
     "data": {
      "text/plain": [
       "range(1984, 2020)"
      ]
     },
     "execution_count": 3,
     "metadata": {},
     "output_type": "execute_result"
    }
   ],
   "source": [
    "years = range(1984,2019+1)\n",
    "years"
   ]
  },
  {
   "cell_type": "code",
   "execution_count": 4,
   "metadata": {},
   "outputs": [],
   "source": [
    "import pickle"
   ]
  },
  {
   "cell_type": "code",
   "execution_count": null,
   "metadata": {},
   "outputs": [],
   "source": [
    "%%time\n",
    "\n",
    "howmany = len(years)\n",
    "dalist =[overview_ugly_xr_read(tif) for tif in tif_list[:howmany]]\n",
    "\n",
    "da = xr.concat(dalist, dim='band')\n",
    "da = da.rename({'band':'year'})\n",
    "da = da.assign_coords(year=years)\n",
    "\n",
    "with open('rap_lzw_1984_2019.pickle', 'wb') as handle:\n",
    "    pickle.dump(da, handle, protocol=pickle.HIGHEST_PROTOCOL)"
   ]
  },
  {
   "cell_type": "code",
   "execution_count": null,
   "metadata": {},
   "outputs": [],
   "source": [
    "da = da.assign_coords(year=years)"
   ]
  },
  {
   "cell_type": "code",
   "execution_count": null,
   "metadata": {},
   "outputs": [],
   "source": [
    "#da.dims\n",
    "da.coords"
   ]
  },
  {
   "cell_type": "code",
   "execution_count": null,
   "metadata": {},
   "outputs": [],
   "source": [
    "import hvplot.xarray\n",
    "\n",
    "img_figure = da.hvplot.image(dynamic=False,rasterize=True,grid=True, clim=(0,50),\n",
    "                             invert=False, width=650, height=500, cmap='OrRd')"
   ]
  },
  {
   "cell_type": "code",
   "execution_count": null,
   "metadata": {
    "scrolled": false
   },
   "outputs": [],
   "source": [
    "img_figure.hist()"
   ]
  },
  {
   "cell_type": "code",
   "execution_count": null,
   "metadata": {},
   "outputs": [],
   "source": [
    "da.dims"
   ]
  },
  {
   "cell_type": "code",
   "execution_count": null,
   "metadata": {},
   "outputs": [],
   "source": []
  }
 ],
 "metadata": {
  "kernelspec": {
   "display_name": "Python 3",
   "language": "python",
   "name": "python3"
  },
  "language_info": {
   "codemirror_mode": {
    "name": "ipython",
    "version": 3
   },
   "file_extension": ".py",
   "mimetype": "text/x-python",
   "name": "python",
   "nbconvert_exporter": "python",
   "pygments_lexer": "ipython3",
   "version": "3.7.3"
  }
 },
 "nbformat": 4,
 "nbformat_minor": 4
}
