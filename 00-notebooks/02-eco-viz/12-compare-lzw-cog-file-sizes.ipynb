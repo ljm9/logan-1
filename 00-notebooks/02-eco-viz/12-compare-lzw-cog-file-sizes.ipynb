{
 "cells": [
  {
   "cell_type": "markdown",
   "metadata": {},
   "source": [
    "# Purpose - look at fsspec module\n",
    "\n",
    "## and inrto to geoviews gv"
   ]
  },
  {
   "cell_type": "markdown",
   "metadata": {},
   "source": [
    "https://filesystem-spec.readthedocs.io/en/latest/api.html"
   ]
  },
  {
   "cell_type": "code",
   "execution_count": null,
   "metadata": {},
   "outputs": [],
   "source": [
    "import fsspec\n",
    "fs = fsspec.filesystem('s3', anon=False, requester_pays=True)\n",
    "\n",
    "path_cog='eco-w1/in1/rapv2_cog'\n",
    "path_lzw='eco-w1/in0/rapv2'\n",
    "\n",
    "if(fs.isdir(path_cog)):\n",
    "    print('YAY!')\n",
    "if(fs.isdir(path_lzw)):\n",
    "    print('YAY!')"
   ]
  },
  {
   "cell_type": "code",
   "execution_count": null,
   "metadata": {},
   "outputs": [],
   "source": [
    "cog_disk_usage = fs.disk_usage(path_cog)"
   ]
  },
  {
   "cell_type": "markdown",
   "metadata": {},
   "source": [
    "# Cogs use more space\n",
    "- but its worth it!"
   ]
  },
  {
   "cell_type": "code",
   "execution_count": null,
   "metadata": {},
   "outputs": [],
   "source": [
    "cog_disk_usage/1e9"
   ]
  },
  {
   "cell_type": "code",
   "execution_count": null,
   "metadata": {},
   "outputs": [],
   "source": [
    "lzw_disk_usage = fs.disk_usage(path_lzw)\n",
    "lzw_disk_usage/1e9"
   ]
  },
  {
   "cell_type": "code",
   "execution_count": null,
   "metadata": {},
   "outputs": [],
   "source": [
    "# Cogs have overviews and use deflate\n",
    "\n",
    "cog_tifs = fs.ls(path_cog)\n",
    "cog_tifs[0]"
   ]
  },
  {
   "cell_type": "code",
   "execution_count": null,
   "metadata": {},
   "outputs": [],
   "source": [
    "lzw_tifs = fs.ls(path_lzw)\n",
    "lzw_tifs[0]"
   ]
  },
  {
   "cell_type": "code",
   "execution_count": null,
   "metadata": {},
   "outputs": [],
   "source": [
    "import rasterio\n",
    "src = rasterio.open(f's3://{cog_tifs[0]}', 'r')\n",
    "[src.overviews(i) for i in src.indexes]"
   ]
  },
  {
   "cell_type": "code",
   "execution_count": null,
   "metadata": {},
   "outputs": [],
   "source": [
    "src.shape"
   ]
  },
  {
   "cell_type": "code",
   "execution_count": null,
   "metadata": {},
   "outputs": [],
   "source": [
    "def ov_sz(src):\n",
    "    print('Full Height: ',src.height)\n",
    "    print('Full, Width:',src.width)\n",
    "    for i in src.indexes:\n",
    "        scales = src.overviews(i)\n",
    "        print(scales)\n",
    "        for scale in scales:\n",
    "            print((int(src.height/scale),int(src.width/scale)))\n",
    "    "
   ]
  },
  {
   "cell_type": "code",
   "execution_count": null,
   "metadata": {},
   "outputs": [],
   "source": [
    "ov_sz(src)"
   ]
  },
  {
   "cell_type": "markdown",
   "metadata": {},
   "source": [
    "https://lpdaac.usgs.gov/resources/e-learning/getting-started-cloud-native-hls-data-python/"
   ]
  },
  {
   "cell_type": "code",
   "execution_count": null,
   "metadata": {},
   "outputs": [],
   "source": [
    "import geopandas as gpd\n",
    "from shapely.geometry import Point, Polygon\n",
    "import matplotlib.pyplot as plt\n",
    "import pandas as pd\n",
    "%matplotlib inline"
   ]
  },
  {
   "cell_type": "markdown",
   "metadata": {},
   "source": [
    "https://eric.clst.org/tech/usgeojson/\n",
    "\n",
    "- 500K scale states"
   ]
  },
  {
   "cell_type": "code",
   "execution_count": null,
   "metadata": {},
   "outputs": [],
   "source": [
    "#! wget https://eric.clst.org/assets/wiki/uploads/Stuff/gz_2010_us_040_00_500k.json"
   ]
  },
  {
   "cell_type": "code",
   "execution_count": null,
   "metadata": {},
   "outputs": [],
   "source": [
    "#! head gz_2010_us_040_00_500k.json"
   ]
  },
  {
   "cell_type": "code",
   "execution_count": null,
   "metadata": {},
   "outputs": [],
   "source": [
    "import json\n"
   ]
  },
  {
   "cell_type": "code",
   "execution_count": null,
   "metadata": {},
   "outputs": [],
   "source": [
    "# data=json.load('gz_2010_us_040_00_500k.json')\n",
    "\n",
    "gdf = gpd.read_file('gz_2010_us_040_00_500k.json')\n",
    "# gdf = gpd.GeoDataFrame(data)\n",
    "print(gdf.head())\n",
    "\n",
    "# features column does not need to be stored, this is just for illustration\n",
    "gdf['features'] = gdf['geometry'].apply(lambda x: {'geometry': x, 'properties': {}})\n",
    "gdf2 = gpd.GeoDataFrame.from_features(gdf['features'])\n",
    "\n",
    "gdf = gdf.set_geometry(gdf2.geometry)\n",
    "gdf.head()"
   ]
  },
  {
   "cell_type": "code",
   "execution_count": null,
   "metadata": {},
   "outputs": [],
   "source": [
    "state=gdf['geometry'][4]"
   ]
  },
  {
   "cell_type": "code",
   "execution_count": null,
   "metadata": {},
   "outputs": [],
   "source": [
    "state"
   ]
  },
  {
   "cell_type": "code",
   "execution_count": null,
   "metadata": {},
   "outputs": [],
   "source": [
    "# stateShape = state['geometry'][0] # Define the geometry as a shapely polygon\n",
    "# stateShape"
   ]
  },
  {
   "cell_type": "code",
   "execution_count": null,
   "metadata": {},
   "outputs": [],
   "source": [
    "import geoviews as gv\n",
    "gv.extension('bokeh', 'matplotlib')\n",
    "# Use geoviews to combine a basemap with the shapely polygon of our Region of Interest (ROI)\n",
    "base = gv.tile_sources.EsriImagery.opts(width=650, height=500)\n",
    "nevada = gv.Polygons(state).opts(line_color='yellow', color=None)\n",
    "base * nevada"
   ]
  },
  {
   "cell_type": "code",
   "execution_count": null,
   "metadata": {},
   "outputs": [],
   "source": [
    "#! pip install --user geoviews"
   ]
  },
  {
   "cell_type": "code",
   "execution_count": null,
   "metadata": {},
   "outputs": [],
   "source": [
    "#! pip install --user --upgrade --force-reinstall shapely cartopy --no-binary shapely --no-binary cartopy "
   ]
  },
  {
   "cell_type": "code",
   "execution_count": null,
   "metadata": {},
   "outputs": [],
   "source": [
    "cog_tifs[0]"
   ]
  },
  {
   "cell_type": "code",
   "execution_count": null,
   "metadata": {},
   "outputs": [],
   "source": [
    "import rasterio\n",
    "import xarray as xr\n",
    "\n",
    "#returns an xarray DA\n",
    "def overview_ugly_xr_read(s3_tif_object):\n",
    "    da = xr.open_rasterio(f's3://{s3_tif_object}')\n",
    "    src = rasterio.open(f's3://{s3_tif_object}', 'r')\n",
    "    #nsub = 4  # original scale factor\n",
    "    #nsub = 64\n",
    "    nsub=128\n",
    "    nsub_half = int(nsub/2)\n",
    "    data = src.read(out_shape=(1, int(src.height / nsub), int(src.width / nsub)))\n",
    "    DA = xr.DataArray(data, dims=da.dims, coords=[da.band, da.y[nsub_half:-nsub_half:nsub], da.x[nsub_half:-nsub_half:nsub]])\n",
    "    DA.attrs = da.attrs\n",
    "    return(DA)"
   ]
  },
  {
   "cell_type": "code",
   "execution_count": null,
   "metadata": {},
   "outputs": [],
   "source": [
    "da = overview_ugly_xr_read(cog_tifs[0])"
   ]
  },
  {
   "cell_type": "code",
   "execution_count": null,
   "metadata": {},
   "outputs": [],
   "source": [
    "da"
   ]
  },
  {
   "cell_type": "code",
   "execution_count": null,
   "metadata": {},
   "outputs": [],
   "source": [
    "da_masked = da.where(da<50.0)\n",
    "da_masked.plot(cmap='OrRd')"
   ]
  },
  {
   "cell_type": "code",
   "execution_count": null,
   "metadata": {},
   "outputs": [],
   "source": [
    "type(da_masked.values)"
   ]
  },
  {
   "cell_type": "code",
   "execution_count": null,
   "metadata": {},
   "outputs": [],
   "source": [
    "from rasterio.mask import mask\n",
    "nev_array, nev_transform = rasterio.mask.mask(da, [state], crop=True, nodata=None)"
   ]
  },
  {
   "cell_type": "code",
   "execution_count": null,
   "metadata": {},
   "outputs": [],
   "source": []
  }
 ],
 "metadata": {
  "kernelspec": {
   "display_name": "Python 3",
   "language": "python",
   "name": "python3"
  },
  "language_info": {
   "codemirror_mode": {
    "name": "ipython",
    "version": 3
   },
   "file_extension": ".py",
   "mimetype": "text/x-python",
   "name": "python",
   "nbconvert_exporter": "python",
   "pygments_lexer": "ipython3",
   "version": "3.7.3"
  }
 },
 "nbformat": 4,
 "nbformat_minor": 4
}
