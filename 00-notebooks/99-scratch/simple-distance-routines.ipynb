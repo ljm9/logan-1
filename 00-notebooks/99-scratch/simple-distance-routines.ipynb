{
 "cells": [
  {
   "cell_type": "markdown",
   "metadata": {},
   "source": [
    "https://gist.githubusercontent.com/jhsu98/e5641f5754b69294e50827e3dbbf7c4f/raw/faa6574a662a30f0e5ba9a5245ce3d9ea6c766cf/gis_transformations_1.py"
   ]
  },
  {
   "cell_type": "code",
   "execution_count": null,
   "metadata": {},
   "outputs": [],
   "source": [
    "import geopy.distance\n",
    "\n",
    "coordinate_1 = (40.705823,-74.011071)\n",
    "coordinate_2 = (38.968368,-77.387460)\n",
    "\n",
    "distance = geopy.distance.distance(coordinate_1,coordinate_2).km"
   ]
  },
  {
   "cell_type": "code",
   "execution_count": null,
   "metadata": {},
   "outputs": [],
   "source": [
    "import utm\n",
    "\n",
    "coordinate_1 = (40.705823,-74.011071)\n",
    "coordinate_2 = (38.968368,-77.387460)\n",
    "\n",
    "utm_conversion = utm.from_latlon(coordinate_1[0],coordinate_1[1])\n",
    "print(utm_conversion) # (583539.7575536511, 4506571.67175318, 18, 'T')"
   ]
  },
  {
   "cell_type": "code",
   "execution_count": 1,
   "metadata": {},
   "outputs": [
    {
     "data": {
      "text/plain": [
       "'\\n{\\n    \"coordinates\": [\\n        [40.705823, -74.011071],\\n        [38.968368, -77.38746]\\n    ],\\n    \"type\": \"LineString\"\\n}\\n'"
      ]
     },
     "execution_count": 1,
     "metadata": {},
     "output_type": "execute_result"
    }
   ],
   "source": [
    "import geojson\n",
    "\n",
    "coordinate_1 = (40.705823,-74.011071)\n",
    "coordinate_2 = (38.968368,-77.387460)\n",
    "\n",
    "gjson_point = geojson.Point(coordinate_1)\n",
    "\"\"\"\n",
    "{\n",
    "    \"coordinates\": [\n",
    "        40.705823,\n",
    "        -74.011071\n",
    "    ],\n",
    "    \"type\": \"Point\"\n",
    "}\n",
    "\"\"\"\n",
    "\n",
    "gjson_line = geojson.LineString([coordinate_1,coordinate_2])\n",
    "\"\"\"\n",
    "{\n",
    "    \"coordinates\": [\n",
    "        [40.705823, -74.011071],\n",
    "        [38.968368, -77.38746]\n",
    "    ],\n",
    "    \"type\": \"LineString\"\n",
    "}\n",
    "\"\"\""
   ]
  },
  {
   "cell_type": "code",
   "execution_count": null,
   "metadata": {},
   "outputs": [],
   "source": []
  }
 ],
 "metadata": {
  "kernelspec": {
   "display_name": "Python 3",
   "language": "python",
   "name": "python3"
  },
  "language_info": {
   "codemirror_mode": {
    "name": "ipython",
    "version": 3
   },
   "file_extension": ".py",
   "mimetype": "text/x-python",
   "name": "python",
   "nbconvert_exporter": "python",
   "pygments_lexer": "ipython3",
   "version": "3.7.3"
  }
 },
 "nbformat": 4,
 "nbformat_minor": 4
}
