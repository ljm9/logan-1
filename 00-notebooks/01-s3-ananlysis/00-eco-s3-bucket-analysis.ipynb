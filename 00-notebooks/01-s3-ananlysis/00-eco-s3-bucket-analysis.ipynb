{
 "cells": [
  {
   "cell_type": "code",
   "execution_count": 1,
   "metadata": {},
   "outputs": [],
   "source": [
    "! aws s3api list-buckets --query \"Buckets[].Name\" >bucket_list.json"
   ]
  },
  {
   "cell_type": "code",
   "execution_count": 2,
   "metadata": {},
   "outputs": [
    {
     "data": {
      "text/plain": [
       "['cf-templates-3wlos5pgbpaz-us-west-2',\n",
       " 'csr-adminbucket-856970663410',\n",
       " 'eco-w1',\n",
       " 'ecoai-decadal-ts-ak',\n",
       " 'ecoai-planetlabs-ak',\n",
       " 'sagemaker-studio-iewe9mn1kd',\n",
       " 'sagemaker-us-west-2-856970663410']"
      ]
     },
     "execution_count": 2,
     "metadata": {},
     "output_type": "execute_result"
    }
   ],
   "source": [
    "import json\n",
    "\n",
    "with open('bucket_list.json') as f:\n",
    "  data = json.load(f)\n",
    "\n",
    "data"
   ]
  },
  {
   "cell_type": "code",
   "execution_count": 3,
   "metadata": {},
   "outputs": [
    {
     "name": "stdout",
     "output_type": "stream",
     "text": [
      "cf-templates-3wlos5pgbpaz-us-west-2\n",
      "b'{\\n    \"LocationConstraint\": \"us-west-2\"\\n}\\n'\n",
      "csr-adminbucket-856970663410\n",
      "b'{\\n    \"LocationConstraint\": \"us-west-2\"\\n}\\n'\n",
      "eco-w1\n",
      "b'{\\n    \"LocationConstraint\": \"us-west-2\"\\n}\\n'\n",
      "ecoai-decadal-ts-ak\n",
      "b'{\\n    \"LocationConstraint\": \"us-east-2\"\\n}\\n'\n",
      "ecoai-planetlabs-ak\n",
      "b'{\\n    \"LocationConstraint\": \"us-east-2\"\\n}\\n'\n",
      "sagemaker-studio-iewe9mn1kd\n",
      "b'{\\n    \"LocationConstraint\": \"us-west-2\"\\n}\\n'\n",
      "sagemaker-us-west-2-856970663410\n",
      "b'{\\n    \"LocationConstraint\": \"us-west-2\"\\n}\\n'\n"
     ]
    }
   ],
   "source": [
    "# import os\n",
    "import subprocess\n",
    "\n",
    "for b in data:\n",
    "    print(b)\n",
    "    cmd = f'aws s3api get-bucket-location --bucket {b}'\n",
    "    #out = os.system(cmd)\n",
    "    result = subprocess.check_output(cmd, shell=True)\n",
    "    print(result)"
   ]
  },
  {
   "cell_type": "code",
   "execution_count": 4,
   "metadata": {},
   "outputs": [
    {
     "name": "stdout",
     "output_type": "stream",
     "text": [
      "{\r\n",
      "    \"LocationConstraint\": \"us-west-2\"\r\n",
      "}\r\n"
     ]
    }
   ],
   "source": [
    "! aws s3api get-bucket-location --bucket eco-w1"
   ]
  },
  {
   "cell_type": "code",
   "execution_count": 5,
   "metadata": {},
   "outputs": [
    {
     "name": "stdout",
     "output_type": "stream",
     "text": [
      "2020-12-23 14:38:03   22 Bytes Readme.md\n",
      "2020-12-23 21:56:38   31.4 GiB in0/cflux/CONUS_aspect.cog\n",
      "2020-12-23 14:52:36   31.4 GiB in0/cflux/CONUS_aspect.ige\n",
      "2020-12-23 14:52:36    9.0 KiB in0/cflux/CONUS_aspect.img\n",
      "2020-12-23 14:52:36  279 Bytes in0/cflux/CONUS_aspect.img.aux.xml\n",
      "2020-12-23 14:52:36    9.8 GiB in0/cflux/CONUS_aspect.rde\n",
      "2020-12-23 14:52:36  671.4 MiB in0/cflux/CONUS_aspect.rrd\n",
      "2020-12-24 16:52:45   66.7 GiB in0/cflux/CONUS_dem.ige\n",
      "2020-12-24 17:00:48  718.4 MiB in0/cflux/CONUS_dem.img\n",
      "2020-12-24 17:02:59    8.3 KiB in0/cflux/CONUS_dem.xml\n",
      "2020-12-24 17:03:17   15.7 GiB in0/cflux/CONUS_slope.cog\n",
      "2020-12-23 14:52:36   15.7 GiB in0/cflux/CONUS_slope.ige\n",
      "2020-12-23 14:52:36    9.2 KiB in0/cflux/CONUS_slope.img\n",
      "2020-12-23 14:52:36  279 Bytes in0/cflux/CONUS_slope.img.aux.xml\n",
      "2020-12-23 14:52:38    3.9 GiB in0/cflux/CONUS_slope.rde\n",
      "2020-12-23 14:53:39    1.3 GiB in0/cflux/CONUS_slope.rrd\n",
      "2020-12-24 17:06:51   73.9 GiB in0/cflux/NED_PADR_CONUS.cog\n",
      "2020-12-23 14:55:12   83 Bytes in0/cflux/NED_PADR_CONUS.tfw\n",
      "2020-12-23 14:55:12   39.7 GiB in0/cflux/NED_PADR_CONUS.tif\n",
      "2020-12-23 14:58:50    2.5 KiB in0/cflux/NED_PADR_CONUS.tif.aux.xml\n",
      "2020-12-23 14:58:51   10.1 GiB in0/cflux/NED_PADR_CONUS.tif.ovr\n",
      "2020-12-23 15:08:33    9.7 KiB in0/cflux/NED_PADR_CONUS.tif.xml\n",
      "2020-12-26 14:25:49    9.4 GiB in0/mrlc_zip/Annual_Herb_1985_1995.zip\n",
      "2020-12-26 14:28:47    9.5 GiB in0/mrlc_zip/Annual_Herb_1996_2006.zip\n",
      "2020-12-26 14:31:47    9.5 GiB in0/mrlc_zip/Annual_Herb_2007_2018.zip\n",
      "2020-12-26 14:34:44   24.1 GiB in0/mrlc_zip/Herb_1985_1995.zip\n",
      "2020-12-26 14:42:11   24.1 GiB in0/mrlc_zip/Herb_1996_2006.zip\n",
      "2020-12-26 14:50:07   19.4 GiB in0/mrlc_zip/Herb_2007_2018.zip\n",
      "2020-12-23 19:50:47    3.5 GiB in0/rapv2/vegetation-cover-v2-1984.tif\n",
      "2020-12-23 23:00:52    2.7 GiB in0/rapv2/vegetation-cover-v2-1985.tif\n",
      "2020-12-24 01:49:46    3.8 GiB in0/rapv2/vegetation-cover-v2-1986.tif\n",
      "2020-12-24 05:07:31    3.8 GiB in0/rapv2/vegetation-cover-v2-1987.tif\n",
      "2020-12-24 08:27:52    3.4 GiB in0/rapv2/vegetation-cover-v2-1988.tif\n",
      "2020-12-24 19:07:44    3.3 GiB in0/rapv2/vegetation-cover-v2-1989.tif\n",
      "2020-12-24 05:10:21    3.3 GiB in0/rapv2/vegetation-cover-v2-1990.tif\n",
      "2020-12-24 08:28:48    3.4 GiB in0/rapv2/vegetation-cover-v2-1991.tif\n",
      "2020-12-24 19:30:03    3.5 GiB in0/rapv2/vegetation-cover-v2-1992.tif\n",
      "2020-12-24 19:33:43    3.6 GiB in0/rapv2/vegetation-cover-v2-1993.tif\n",
      "2020-12-24 19:37:12    3.5 GiB in0/rapv2/vegetation-cover-v2-1994.tif\n",
      "2020-12-26 14:37:14    3.9 GiB in0/rapv2/vegetation-cover-v2-1995.tif\n",
      "2020-12-26 14:37:14    3.7 GiB in0/rapv2/vegetation-cover-v2-1996.tif\n",
      "2020-12-26 17:36:15    3.7 GiB in0/rapv2/vegetation-cover-v2-1997.tif\n",
      "2020-12-26 17:38:51    3.7 GiB in0/rapv2/vegetation-cover-v2-1998.tif\n",
      "2020-12-24 23:35:51    3.9 GiB in0/rapv2/vegetation-cover-v2-1999.tif\n",
      "2020-12-24 00:13:39    3.7 GiB in0/rapv2/vegetation-cover-v2-2000.tif\n",
      "2020-12-24 03:00:58    3.9 GiB in0/rapv2/vegetation-cover-v2-2001.tif\n",
      "2020-12-24 06:25:15    3.6 GiB in0/rapv2/vegetation-cover-v2-2002.tif\n",
      "2020-12-24 09:40:17    4.0 GiB in0/rapv2/vegetation-cover-v2-2003.tif\n",
      "2020-12-25 03:19:49    3.9 GiB in0/rapv2/vegetation-cover-v2-2004.tif\n",
      "2020-12-25 03:21:50    4.2 GiB in0/rapv2/vegetation-cover-v2-2005.tif\n",
      "2020-12-25 03:19:50    3.9 GiB in0/rapv2/vegetation-cover-v2-2006.tif\n",
      "2020-12-25 03:20:21    4.0 GiB in0/rapv2/vegetation-cover-v2-2007.tif\n",
      "2020-12-25 03:17:36    3.7 GiB in0/rapv2/vegetation-cover-v2-2008.tif\n",
      "2020-12-26 17:41:29    3.7 GiB in0/rapv2/vegetation-cover-v2-2009.tif\n",
      "2020-12-24 06:12:24    3.9 GiB in0/rapv2/vegetation-cover-v2-2010.tif\n",
      "2020-12-24 09:31:40    3.7 GiB in0/rapv2/vegetation-cover-v2-2011.tif\n",
      "2020-12-26 21:01:23    3.9 GiB in0/rapv2/vegetation-cover-v2-2012.tif\n",
      "2020-12-25 07:40:45    3.7 GiB in0/rapv2/vegetation-cover-v2-2013.tif\n",
      "2020-12-26 21:01:56    3.6 GiB in0/rapv2/vegetation-cover-v2-2014.tif\n",
      "2020-12-26 20:59:13    3.8 GiB in0/rapv2/vegetation-cover-v2-2015.tif\n",
      "2020-12-27 00:38:16    3.9 GiB in0/rapv2/vegetation-cover-v2-2016.tif\n",
      "2020-12-27 00:35:57    3.9 GiB in0/rapv2/vegetation-cover-v2-2017.tif\n",
      "2020-12-27 00:38:11    3.7 GiB in0/rapv2/vegetation-cover-v2-2018.tif\n",
      "2020-12-27 00:35:02    3.9 GiB in0/rapv2/vegetation-cover-v2-2019.tif\n",
      "\n",
      "Total Objects: 64\n",
      "   Total Size: 530.2 GiB\n"
     ]
    }
   ],
   "source": [
    "! aws s3 ls eco-w1 --recursive --human --summarize"
   ]
  },
  {
   "cell_type": "code",
   "execution_count": 6,
   "metadata": {},
   "outputs": [
    {
     "name": "stdout",
     "output_type": "stream",
     "text": [
      "                           PRE cflux/\r\n",
      "                           PRE mrlc_zip/\r\n",
      "                           PRE rapv2/\r\n"
     ]
    }
   ],
   "source": [
    "!aws s3 ls eco-w1/in0/"
   ]
  },
  {
   "cell_type": "code",
   "execution_count": 7,
   "metadata": {},
   "outputs": [
    {
     "name": "stdout",
     "output_type": "stream",
     "text": [
      "2020-12-23 21:56:38   31.4 GiB CONUS_aspect.cog\r\n",
      "2020-12-23 14:52:36   31.4 GiB CONUS_aspect.ige\r\n",
      "2020-12-23 14:52:36    9.0 KiB CONUS_aspect.img\r\n",
      "2020-12-23 14:52:36  279 Bytes CONUS_aspect.img.aux.xml\r\n",
      "2020-12-23 14:52:36    9.8 GiB CONUS_aspect.rde\r\n",
      "2020-12-23 14:52:36  671.4 MiB CONUS_aspect.rrd\r\n",
      "2020-12-24 16:52:45   66.7 GiB CONUS_dem.ige\r\n",
      "2020-12-24 17:00:48  718.4 MiB CONUS_dem.img\r\n",
      "2020-12-24 17:02:59    8.3 KiB CONUS_dem.xml\r\n",
      "2020-12-24 17:03:17   15.7 GiB CONUS_slope.cog\r\n",
      "2020-12-23 14:52:36   15.7 GiB CONUS_slope.ige\r\n",
      "2020-12-23 14:52:36    9.2 KiB CONUS_slope.img\r\n",
      "2020-12-23 14:52:36  279 Bytes CONUS_slope.img.aux.xml\r\n",
      "2020-12-23 14:52:38    3.9 GiB CONUS_slope.rde\r\n",
      "2020-12-23 14:53:39    1.3 GiB CONUS_slope.rrd\r\n",
      "2020-12-24 17:06:51   73.9 GiB NED_PADR_CONUS.cog\r\n",
      "2020-12-23 14:55:12   83 Bytes NED_PADR_CONUS.tfw\r\n",
      "2020-12-23 14:55:12   39.7 GiB NED_PADR_CONUS.tif\r\n",
      "2020-12-23 14:58:50    2.5 KiB NED_PADR_CONUS.tif.aux.xml\r\n",
      "2020-12-23 14:58:51   10.1 GiB NED_PADR_CONUS.tif.ovr\r\n",
      "2020-12-23 15:08:33    9.7 KiB NED_PADR_CONUS.tif.xml\r\n",
      "\r\n",
      "Total Objects: 21\r\n",
      "   Total Size: 300.9 GiB\r\n"
     ]
    }
   ],
   "source": [
    "!aws s3 ls eco-w1/in0/cflux/ --summarize --human"
   ]
  },
  {
   "cell_type": "code",
   "execution_count": 8,
   "metadata": {},
   "outputs": [
    {
     "name": "stdout",
     "output_type": "stream",
     "text": [
      "2020-12-23 19:50:47    3.5 GiB vegetation-cover-v2-1984.tif\r\n",
      "2020-12-23 23:00:52    2.7 GiB vegetation-cover-v2-1985.tif\r\n",
      "2020-12-24 01:49:46    3.8 GiB vegetation-cover-v2-1986.tif\r\n",
      "2020-12-24 05:07:31    3.8 GiB vegetation-cover-v2-1987.tif\r\n",
      "2020-12-24 08:27:52    3.4 GiB vegetation-cover-v2-1988.tif\r\n",
      "2020-12-24 19:07:44    3.3 GiB vegetation-cover-v2-1989.tif\r\n",
      "2020-12-24 05:10:21    3.3 GiB vegetation-cover-v2-1990.tif\r\n",
      "2020-12-24 08:28:48    3.4 GiB vegetation-cover-v2-1991.tif\r\n",
      "2020-12-24 19:30:03    3.5 GiB vegetation-cover-v2-1992.tif\r\n",
      "2020-12-24 19:33:43    3.6 GiB vegetation-cover-v2-1993.tif\r\n",
      "2020-12-24 19:37:12    3.5 GiB vegetation-cover-v2-1994.tif\r\n",
      "2020-12-26 14:37:14    3.9 GiB vegetation-cover-v2-1995.tif\r\n",
      "2020-12-26 14:37:14    3.7 GiB vegetation-cover-v2-1996.tif\r\n",
      "2020-12-26 17:36:15    3.7 GiB vegetation-cover-v2-1997.tif\r\n",
      "2020-12-26 17:38:51    3.7 GiB vegetation-cover-v2-1998.tif\r\n",
      "2020-12-24 23:35:51    3.9 GiB vegetation-cover-v2-1999.tif\r\n",
      "2020-12-24 00:13:39    3.7 GiB vegetation-cover-v2-2000.tif\r\n",
      "2020-12-24 03:00:58    3.9 GiB vegetation-cover-v2-2001.tif\r\n",
      "2020-12-24 06:25:15    3.6 GiB vegetation-cover-v2-2002.tif\r\n",
      "2020-12-24 09:40:17    4.0 GiB vegetation-cover-v2-2003.tif\r\n",
      "2020-12-25 03:19:49    3.9 GiB vegetation-cover-v2-2004.tif\r\n",
      "2020-12-25 03:21:50    4.2 GiB vegetation-cover-v2-2005.tif\r\n",
      "2020-12-25 03:19:50    3.9 GiB vegetation-cover-v2-2006.tif\r\n",
      "2020-12-25 03:20:21    4.0 GiB vegetation-cover-v2-2007.tif\r\n",
      "2020-12-25 03:17:36    3.7 GiB vegetation-cover-v2-2008.tif\r\n",
      "2020-12-26 17:41:29    3.7 GiB vegetation-cover-v2-2009.tif\r\n",
      "2020-12-24 06:12:24    3.9 GiB vegetation-cover-v2-2010.tif\r\n",
      "2020-12-24 09:31:40    3.7 GiB vegetation-cover-v2-2011.tif\r\n",
      "2020-12-26 21:01:23    3.9 GiB vegetation-cover-v2-2012.tif\r\n",
      "2020-12-25 07:40:45    3.7 GiB vegetation-cover-v2-2013.tif\r\n",
      "2020-12-26 21:01:56    3.6 GiB vegetation-cover-v2-2014.tif\r\n",
      "2020-12-26 20:59:13    3.8 GiB vegetation-cover-v2-2015.tif\r\n",
      "2020-12-27 00:38:16    3.9 GiB vegetation-cover-v2-2016.tif\r\n",
      "2020-12-27 00:35:57    3.9 GiB vegetation-cover-v2-2017.tif\r\n",
      "2020-12-27 00:38:11    3.7 GiB vegetation-cover-v2-2018.tif\r\n",
      "2020-12-27 00:35:02    3.9 GiB vegetation-cover-v2-2019.tif\r\n",
      "\r\n",
      "Total Objects: 36\r\n",
      "   Total Size: 133.3 GiB\r\n"
     ]
    }
   ],
   "source": [
    "!aws s3 ls eco-w1/in0/rapv2/ --summarize --human"
   ]
  },
  {
   "cell_type": "code",
   "execution_count": 9,
   "metadata": {},
   "outputs": [],
   "source": [
    "import os\n",
    "\n",
    "def _run_command(cmd, verbose=False):\n",
    "    if verbose:\n",
    "        print(cmd)\n",
    "    result = os.system(cmd)\n",
    "    if result != 0:\n",
    "        raise Exception('command \"%s\" failed with code %d.' % (cmd, result))\n",
    "\n",
    "def geojson_create_from_tif(src_tif,dst_geojson):\n",
    "    command = f'rio bounds {src_tif} > {dst_geojson}'\n",
    "    _run_command(command)"
   ]
  },
  {
   "cell_type": "code",
   "execution_count": 10,
   "metadata": {},
   "outputs": [],
   "source": [
    "src_tif = 's3://eco-w1/in0/rapv2/vegetation-cover-v2-2013.tif'\n",
    "dst_geojson = 'rapv2.geojson'\n",
    "geojson_create_from_tif(src_tif,dst_geojson)"
   ]
  },
  {
   "cell_type": "code",
   "execution_count": 11,
   "metadata": {},
   "outputs": [
    {
     "name": "stdout",
     "output_type": "stream",
     "text": [
      "creating Fmap class\n"
     ]
    }
   ],
   "source": [
    "from loganLib.fm_map import Fmap\n",
    "\n",
    "fm = Fmap()"
   ]
  },
  {
   "cell_type": "code",
   "execution_count": 12,
   "metadata": {},
   "outputs": [],
   "source": [
    "map1 = fm.map_geojson(dst_geojson)"
   ]
  },
  {
   "cell_type": "code",
   "execution_count": 13,
   "metadata": {},
   "outputs": [
    {
     "data": {
      "text/html": [
       "<div style=\"width:100%;\"><div style=\"position:relative;width:100%;height:0;padding-bottom:60%;\"><span style=\"color:#565656\">Make this Notebook Trusted to load map: File -> Trust Notebook</span><iframe src=\"about:blank\" style=\"position:absolute;width:100%;height:100%;left:0;top:0;border:none !important;\" data-html=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 onload=\"this.contentDocument.open();this.contentDocument.write(atob(this.getAttribute('data-html')));this.contentDocument.close();\" allowfullscreen webkitallowfullscreen mozallowfullscreen></iframe></div></div>"
      ],
      "text/plain": [
       "<folium.folium.Map at 0x7f0b5b5fa898>"
      ]
     },
     "execution_count": 13,
     "metadata": {},
     "output_type": "execute_result"
    }
   ],
   "source": [
    "map1"
   ]
  },
  {
   "cell_type": "code",
   "execution_count": 14,
   "metadata": {},
   "outputs": [],
   "source": [
    "# NED_PADR_CONUS.cog\n",
    "src_tif = 's3://eco-w1/in0/cflux/NED_PADR_CONUS.cog'\n",
    "dst_geojson = 'ned_conus.geojson'\n",
    "geojson_create_from_tif(src_tif,dst_geojson)"
   ]
  },
  {
   "cell_type": "code",
   "execution_count": 15,
   "metadata": {},
   "outputs": [],
   "source": [
    "map1 = fm.map_geojson(dst_geojson)"
   ]
  },
  {
   "cell_type": "markdown",
   "metadata": {},
   "source": [
    "# Truth in Advertising - that's CONUS!"
   ]
  },
  {
   "cell_type": "code",
   "execution_count": 16,
   "metadata": {},
   "outputs": [
    {
     "data": {
      "text/html": [
       "<div style=\"width:100%;\"><div style=\"position:relative;width:100%;height:0;padding-bottom:60%;\"><span style=\"color:#565656\">Make this Notebook Trusted to load map: File -> Trust Notebook</span><iframe src=\"about:blank\" style=\"position:absolute;width:100%;height:100%;left:0;top:0;border:none !important;\" data-html=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 onload=\"this.contentDocument.open();this.contentDocument.write(atob(this.getAttribute('data-html')));this.contentDocument.close();\" allowfullscreen webkitallowfullscreen mozallowfullscreen></iframe></div></div>"
      ],
      "text/plain": [
       "<folium.folium.Map at 0x7f0b5b1a3f98>"
      ]
     },
     "execution_count": 16,
     "metadata": {},
     "output_type": "execute_result"
    }
   ],
   "source": [
    "map1"
   ]
  },
  {
   "cell_type": "code",
   "execution_count": 17,
   "metadata": {},
   "outputs": [
    {
     "name": "stdout",
     "output_type": "stream",
     "text": [
      "                           PRE cflux/\r\n",
      "                           PRE mrlc_zip/\r\n",
      "                           PRE rapv2/\r\n"
     ]
    }
   ],
   "source": [
    "! aws s3 ls --human eco-w1/in0/"
   ]
  },
  {
   "cell_type": "code",
   "execution_count": 19,
   "metadata": {},
   "outputs": [
    {
     "name": "stdout",
     "output_type": "stream",
     "text": [
      "2020-12-26 14:25:49    9.4 GiB Annual_Herb_1985_1995.zip\r\n",
      "2020-12-26 14:28:47    9.5 GiB Annual_Herb_1996_2006.zip\r\n",
      "2020-12-26 14:31:47    9.5 GiB Annual_Herb_2007_2018.zip\r\n",
      "2020-12-26 14:34:44   24.1 GiB Herb_1985_1995.zip\r\n",
      "2020-12-26 14:42:11   24.1 GiB Herb_1996_2006.zip\r\n",
      "2020-12-26 14:50:07   19.4 GiB Herb_2007_2018.zip\r\n",
      "\r\n",
      "Total Objects: 6\r\n",
      "   Total Size: 96.0 GiB\r\n"
     ]
    }
   ],
   "source": [
    "! aws s3 ls --human eco-w1/in0/mrlc_zip/ --summarize"
   ]
  },
  {
   "cell_type": "code",
   "execution_count": 21,
   "metadata": {},
   "outputs": [
    {
     "name": "stdout",
     "output_type": "stream",
     "text": [
      "creating Fmap class\n"
     ]
    }
   ],
   "source": [
    "fm1 = Fmap(color='green')"
   ]
  },
  {
   "cell_type": "code",
   "execution_count": 26,
   "metadata": {},
   "outputs": [
    {
     "name": "stdout",
     "output_type": "stream",
     "text": [
      "../00-portal-scraping/00-MRLC-Notebooks/scene.geojson\r\n"
     ]
    }
   ],
   "source": [
    "!ls ../00-portal-scraping/00-MRLC-Notebooks/scene.geojson"
   ]
  },
  {
   "cell_type": "code",
   "execution_count": 29,
   "metadata": {},
   "outputs": [
    {
     "data": {
      "text/html": [
       "<div style=\"width:100%;\"><div style=\"position:relative;width:100%;height:0;padding-bottom:60%;\"><span style=\"color:#565656\">Make this Notebook Trusted to load map: File -> Trust Notebook</span><iframe src=\"about:blank\" style=\"position:absolute;width:100%;height:100%;left:0;top:0;border:none !important;\" data-html=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 onload=\"this.contentDocument.open();this.contentDocument.write(atob(this.getAttribute('data-html')));this.contentDocument.close();\" allowfullscreen webkitallowfullscreen mozallowfullscreen></iframe></div></div>"
      ],
      "text/plain": [
       "<folium.folium.Map at 0x7f0b5a070048>"
      ]
     },
     "execution_count": 29,
     "metadata": {},
     "output_type": "execute_result"
    }
   ],
   "source": [
    "fm1.map_geojson('../00-portal-scraping/00-MRLC-Notebooks/scene.geojson')"
   ]
  },
  {
   "cell_type": "code",
   "execution_count": null,
   "metadata": {},
   "outputs": [],
   "source": []
  }
 ],
 "metadata": {
  "kernelspec": {
   "display_name": "Python 3",
   "language": "python",
   "name": "python3"
  },
  "language_info": {
   "codemirror_mode": {
    "name": "ipython",
    "version": 3
   },
   "file_extension": ".py",
   "mimetype": "text/x-python",
   "name": "python",
   "nbconvert_exporter": "python",
   "pygments_lexer": "ipython3",
   "version": "3.7.3"
  }
 },
 "nbformat": 4,
 "nbformat_minor": 4
}
