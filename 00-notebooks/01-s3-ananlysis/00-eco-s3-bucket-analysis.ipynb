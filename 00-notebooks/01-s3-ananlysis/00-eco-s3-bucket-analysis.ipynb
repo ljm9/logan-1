{
 "cells": [
  {
   "cell_type": "code",
   "execution_count": 1,
   "metadata": {},
   "outputs": [],
   "source": [
    "! aws s3api list-buckets --query \"Buckets[].Name\" >bucket_list.json"
   ]
  },
  {
   "cell_type": "code",
   "execution_count": 2,
   "metadata": {},
   "outputs": [
    {
     "data": {
      "text/plain": [
       "['cf-templates-3wlos5pgbpaz-us-west-2',\n",
       " 'csr-adminbucket-856970663410',\n",
       " 'eco-w1',\n",
       " 'ecoai-decadal-ts-ak',\n",
       " 'ecoai-planetlabs-ak',\n",
       " 'sagemaker-studio-iewe9mn1kd',\n",
       " 'sagemaker-us-west-2-856970663410']"
      ]
     },
     "execution_count": 2,
     "metadata": {},
     "output_type": "execute_result"
    }
   ],
   "source": [
    "import json\n",
    "\n",
    "with open('bucket_list.json') as f:\n",
    "  data = json.load(f)\n",
    "\n",
    "data"
   ]
  },
  {
   "cell_type": "code",
   "execution_count": 3,
   "metadata": {},
   "outputs": [
    {
     "name": "stdout",
     "output_type": "stream",
     "text": [
      "cf-templates-3wlos5pgbpaz-us-west-2\n",
      "b'{\\n    \"LocationConstraint\": \"us-west-2\"\\n}\\n'\n",
      "csr-adminbucket-856970663410\n",
      "b'{\\n    \"LocationConstraint\": \"us-west-2\"\\n}\\n'\n",
      "eco-w1\n",
      "b'{\\n    \"LocationConstraint\": \"us-west-2\"\\n}\\n'\n",
      "ecoai-decadal-ts-ak\n",
      "b'{\\n    \"LocationConstraint\": \"us-east-2\"\\n}\\n'\n",
      "ecoai-planetlabs-ak\n",
      "b'{\\n    \"LocationConstraint\": \"us-east-2\"\\n}\\n'\n",
      "sagemaker-studio-iewe9mn1kd\n",
      "b'{\\n    \"LocationConstraint\": \"us-west-2\"\\n}\\n'\n",
      "sagemaker-us-west-2-856970663410\n",
      "b'{\\n    \"LocationConstraint\": \"us-west-2\"\\n}\\n'\n"
     ]
    }
   ],
   "source": [
    "# import os\n",
    "import subprocess\n",
    "\n",
    "for b in data:\n",
    "    print(b)\n",
    "    cmd = f'aws s3api get-bucket-location --bucket {b}'\n",
    "    #out = os.system(cmd)\n",
    "    result = subprocess.check_output(cmd, shell=True)\n",
    "    print(result)"
   ]
  },
  {
   "cell_type": "code",
   "execution_count": 4,
   "metadata": {},
   "outputs": [
    {
     "name": "stdout",
     "output_type": "stream",
     "text": [
      "{\r\n",
      "    \"LocationConstraint\": \"us-west-2\"\r\n",
      "}\r\n"
     ]
    }
   ],
   "source": [
    "! aws s3api get-bucket-location --bucket eco-w1"
   ]
  },
  {
   "cell_type": "code",
   "execution_count": 5,
   "metadata": {},
   "outputs": [
    {
     "name": "stdout",
     "output_type": "stream",
     "text": [
      "2020-12-23 14:38:03   22 Bytes Readme.md\r\n",
      "2020-12-23 21:56:38   31.4 GiB in0/cflux/CONUS_aspect.cog\r\n",
      "2020-12-23 14:52:36   31.4 GiB in0/cflux/CONUS_aspect.ige\r\n",
      "2020-12-23 14:52:36    9.0 KiB in0/cflux/CONUS_aspect.img\r\n",
      "2020-12-23 14:52:36  279 Bytes in0/cflux/CONUS_aspect.img.aux.xml\r\n",
      "2020-12-23 14:52:36    9.8 GiB in0/cflux/CONUS_aspect.rde\r\n",
      "2020-12-23 14:52:36  671.4 MiB in0/cflux/CONUS_aspect.rrd\r\n",
      "2020-12-24 16:52:45   66.7 GiB in0/cflux/CONUS_dem.ige\r\n",
      "2020-12-24 17:00:48  718.4 MiB in0/cflux/CONUS_dem.img\r\n",
      "2020-12-24 17:02:59    8.3 KiB in0/cflux/CONUS_dem.xml\r\n",
      "2020-12-24 17:03:17   15.7 GiB in0/cflux/CONUS_slope.cog\r\n",
      "2020-12-23 14:52:36   15.7 GiB in0/cflux/CONUS_slope.ige\r\n",
      "2020-12-23 14:52:36    9.2 KiB in0/cflux/CONUS_slope.img\r\n",
      "2020-12-23 14:52:36  279 Bytes in0/cflux/CONUS_slope.img.aux.xml\r\n",
      "2020-12-23 14:52:38    3.9 GiB in0/cflux/CONUS_slope.rde\r\n",
      "2020-12-23 14:53:39    1.3 GiB in0/cflux/CONUS_slope.rrd\r\n",
      "2020-12-24 17:06:51   73.9 GiB in0/cflux/NED_PADR_CONUS.cog\r\n",
      "2020-12-23 14:55:12   83 Bytes in0/cflux/NED_PADR_CONUS.tfw\r\n",
      "2020-12-23 14:55:12   39.7 GiB in0/cflux/NED_PADR_CONUS.tif\r\n",
      "2020-12-23 14:58:50    2.5 KiB in0/cflux/NED_PADR_CONUS.tif.aux.xml\r\n",
      "2020-12-23 14:58:51   10.1 GiB in0/cflux/NED_PADR_CONUS.tif.ovr\r\n",
      "2020-12-23 15:08:33    9.7 KiB in0/cflux/NED_PADR_CONUS.tif.xml\r\n",
      "2020-12-23 19:50:47    3.5 GiB in0/rapv2/vegetation-cover-v2-1984.tif\r\n",
      "2020-12-23 23:00:52    2.7 GiB in0/rapv2/vegetation-cover-v2-1985.tif\r\n",
      "2020-12-24 01:49:46    3.8 GiB in0/rapv2/vegetation-cover-v2-1986.tif\r\n",
      "2020-12-24 05:07:31    3.8 GiB in0/rapv2/vegetation-cover-v2-1987.tif\r\n",
      "2020-12-24 08:27:52    3.4 GiB in0/rapv2/vegetation-cover-v2-1988.tif\r\n",
      "2020-12-24 19:07:44    3.3 GiB in0/rapv2/vegetation-cover-v2-1989.tif\r\n",
      "2020-12-24 05:10:21    3.3 GiB in0/rapv2/vegetation-cover-v2-1990.tif\r\n",
      "2020-12-24 08:28:48    3.4 GiB in0/rapv2/vegetation-cover-v2-1991.tif\r\n",
      "2020-12-24 19:30:03    3.5 GiB in0/rapv2/vegetation-cover-v2-1992.tif\r\n",
      "2020-12-24 19:33:43    3.6 GiB in0/rapv2/vegetation-cover-v2-1993.tif\r\n",
      "2020-12-24 19:37:12    3.5 GiB in0/rapv2/vegetation-cover-v2-1994.tif\r\n",
      "2020-12-24 23:35:51    3.9 GiB in0/rapv2/vegetation-cover-v2-1999.tif\r\n",
      "2020-12-24 00:13:39    3.7 GiB in0/rapv2/vegetation-cover-v2-2000.tif\r\n",
      "2020-12-24 03:00:58    3.9 GiB in0/rapv2/vegetation-cover-v2-2001.tif\r\n",
      "2020-12-24 06:25:15    3.6 GiB in0/rapv2/vegetation-cover-v2-2002.tif\r\n",
      "2020-12-24 09:40:17    4.0 GiB in0/rapv2/vegetation-cover-v2-2003.tif\r\n",
      "2020-12-25 03:19:49    3.9 GiB in0/rapv2/vegetation-cover-v2-2004.tif\r\n",
      "2020-12-25 03:21:50    4.2 GiB in0/rapv2/vegetation-cover-v2-2005.tif\r\n",
      "2020-12-25 03:19:50    3.9 GiB in0/rapv2/vegetation-cover-v2-2006.tif\r\n",
      "2020-12-25 03:20:21    4.0 GiB in0/rapv2/vegetation-cover-v2-2007.tif\r\n",
      "2020-12-25 03:17:36    3.7 GiB in0/rapv2/vegetation-cover-v2-2008.tif\r\n",
      "2020-12-24 06:12:24    3.9 GiB in0/rapv2/vegetation-cover-v2-2010.tif\r\n",
      "2020-12-24 09:31:40    3.7 GiB in0/rapv2/vegetation-cover-v2-2011.tif\r\n",
      "2020-12-25 07:40:45    3.7 GiB in0/rapv2/vegetation-cover-v2-2013.tif\r\n",
      "\r\n",
      "Total Objects: 46\r\n",
      "   Total Size: 388.8 GiB\r\n"
     ]
    }
   ],
   "source": [
    "! aws s3 ls eco-w1 --recursive --human --summarize"
   ]
  },
  {
   "cell_type": "code",
   "execution_count": 6,
   "metadata": {},
   "outputs": [
    {
     "name": "stdout",
     "output_type": "stream",
     "text": [
      "                           PRE cflux/\r\n",
      "                           PRE rapv2/\r\n"
     ]
    }
   ],
   "source": [
    "!aws s3 ls eco-w1/in0/"
   ]
  },
  {
   "cell_type": "code",
   "execution_count": 7,
   "metadata": {},
   "outputs": [
    {
     "name": "stdout",
     "output_type": "stream",
     "text": [
      "2020-12-23 21:56:38   31.4 GiB CONUS_aspect.cog\r\n",
      "2020-12-23 14:52:36   31.4 GiB CONUS_aspect.ige\r\n",
      "2020-12-23 14:52:36    9.0 KiB CONUS_aspect.img\r\n",
      "2020-12-23 14:52:36  279 Bytes CONUS_aspect.img.aux.xml\r\n",
      "2020-12-23 14:52:36    9.8 GiB CONUS_aspect.rde\r\n",
      "2020-12-23 14:52:36  671.4 MiB CONUS_aspect.rrd\r\n",
      "2020-12-24 16:52:45   66.7 GiB CONUS_dem.ige\r\n",
      "2020-12-24 17:00:48  718.4 MiB CONUS_dem.img\r\n",
      "2020-12-24 17:02:59    8.3 KiB CONUS_dem.xml\r\n",
      "2020-12-24 17:03:17   15.7 GiB CONUS_slope.cog\r\n",
      "2020-12-23 14:52:36   15.7 GiB CONUS_slope.ige\r\n",
      "2020-12-23 14:52:36    9.2 KiB CONUS_slope.img\r\n",
      "2020-12-23 14:52:36  279 Bytes CONUS_slope.img.aux.xml\r\n",
      "2020-12-23 14:52:38    3.9 GiB CONUS_slope.rde\r\n",
      "2020-12-23 14:53:39    1.3 GiB CONUS_slope.rrd\r\n",
      "2020-12-24 17:06:51   73.9 GiB NED_PADR_CONUS.cog\r\n",
      "2020-12-23 14:55:12   83 Bytes NED_PADR_CONUS.tfw\r\n",
      "2020-12-23 14:55:12   39.7 GiB NED_PADR_CONUS.tif\r\n",
      "2020-12-23 14:58:50    2.5 KiB NED_PADR_CONUS.tif.aux.xml\r\n",
      "2020-12-23 14:58:51   10.1 GiB NED_PADR_CONUS.tif.ovr\r\n",
      "2020-12-23 15:08:33    9.7 KiB NED_PADR_CONUS.tif.xml\r\n",
      "\r\n",
      "Total Objects: 21\r\n",
      "   Total Size: 300.9 GiB\r\n"
     ]
    }
   ],
   "source": [
    "!aws s3 ls eco-w1/in0/cflux/ --summarize --human"
   ]
  },
  {
   "cell_type": "code",
   "execution_count": 8,
   "metadata": {},
   "outputs": [
    {
     "name": "stdout",
     "output_type": "stream",
     "text": [
      "2020-12-23 19:50:47    3.5 GiB vegetation-cover-v2-1984.tif\n",
      "2020-12-23 23:00:52    2.7 GiB vegetation-cover-v2-1985.tif\n",
      "2020-12-24 01:49:46    3.8 GiB vegetation-cover-v2-1986.tif\n",
      "2020-12-24 05:07:31    3.8 GiB vegetation-cover-v2-1987.tif\n",
      "2020-12-24 08:27:52    3.4 GiB vegetation-cover-v2-1988.tif\n",
      "2020-12-24 19:07:44    3.3 GiB vegetation-cover-v2-1989.tif\n",
      "2020-12-24 05:10:21    3.3 GiB vegetation-cover-v2-1990.tif\n",
      "2020-12-24 08:28:48    3.4 GiB vegetation-cover-v2-1991.tif\n",
      "2020-12-24 19:30:03    3.5 GiB vegetation-cover-v2-1992.tif\n",
      "2020-12-24 19:33:43    3.6 GiB vegetation-cover-v2-1993.tif\n",
      "2020-12-24 19:37:12    3.5 GiB vegetation-cover-v2-1994.tif\n",
      "2020-12-24 23:35:51    3.9 GiB vegetation-cover-v2-1999.tif\n",
      "2020-12-24 00:13:39    3.7 GiB vegetation-cover-v2-2000.tif\n",
      "2020-12-24 03:00:58    3.9 GiB vegetation-cover-v2-2001.tif\n",
      "2020-12-24 06:25:15    3.6 GiB vegetation-cover-v2-2002.tif\n",
      "2020-12-24 09:40:17    4.0 GiB vegetation-cover-v2-2003.tif\n",
      "2020-12-25 03:19:49    3.9 GiB vegetation-cover-v2-2004.tif\n",
      "2020-12-25 03:21:50    4.2 GiB vegetation-cover-v2-2005.tif\n",
      "2020-12-25 03:19:50    3.9 GiB vegetation-cover-v2-2006.tif\n",
      "2020-12-25 03:20:21    4.0 GiB vegetation-cover-v2-2007.tif\n",
      "2020-12-25 03:17:36    3.7 GiB vegetation-cover-v2-2008.tif\n",
      "2020-12-24 06:12:24    3.9 GiB vegetation-cover-v2-2010.tif\n",
      "2020-12-24 09:31:40    3.7 GiB vegetation-cover-v2-2011.tif\n",
      "2020-12-25 07:40:45    3.7 GiB vegetation-cover-v2-2013.tif\n",
      "\n",
      "Total Objects: 24\n",
      "   Total Size: 87.9 GiB\n"
     ]
    }
   ],
   "source": [
    "!aws s3 ls eco-w1/in0/rapv2/ --summarize --human"
   ]
  },
  {
   "cell_type": "code",
   "execution_count": 9,
   "metadata": {},
   "outputs": [],
   "source": [
    "import os\n",
    "\n",
    "def _run_command(cmd, verbose=False):\n",
    "    if verbose:\n",
    "        print(cmd)\n",
    "    result = os.system(cmd)\n",
    "    if result != 0:\n",
    "        raise Exception('command \"%s\" failed with code %d.' % (cmd, result))\n",
    "\n",
    "def geojson_create_from_tif(src_tif,dst_geojson):\n",
    "    command = f'rio bounds {src_tif} > {dst_geojson}'\n",
    "    _run_command(command)"
   ]
  },
  {
   "cell_type": "code",
   "execution_count": 10,
   "metadata": {},
   "outputs": [],
   "source": [
    "src_tif = 's3://eco-w1/in0/rapv2/vegetation-cover-v2-2013.tif'\n",
    "dst_geojson = 'rapv2.geojson'\n",
    "geojson_create_from_tif(src_tif,dst_geojson)"
   ]
  },
  {
   "cell_type": "code",
   "execution_count": 11,
   "metadata": {},
   "outputs": [
    {
     "name": "stdout",
     "output_type": "stream",
     "text": [
      "creating Fmap class\n"
     ]
    }
   ],
   "source": [
    "from loganLib.fm_map import Fmap\n",
    "\n",
    "fm = Fmap()"
   ]
  },
  {
   "cell_type": "code",
   "execution_count": 12,
   "metadata": {},
   "outputs": [],
   "source": [
    "map1 = fm.map_geojson(dst_geojson)"
   ]
  },
  {
   "cell_type": "code",
   "execution_count": 13,
   "metadata": {},
   "outputs": [
    {
     "data": {
      "text/html": [
       "<div style=\"width:100%;\"><div style=\"position:relative;width:100%;height:0;padding-bottom:60%;\"><span style=\"color:#565656\">Make this Notebook Trusted to load map: File -> Trust Notebook</span><iframe src=\"about:blank\" style=\"position:absolute;width:100%;height:100%;left:0;top:0;border:none !important;\" data-html=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 onload=\"this.contentDocument.open();this.contentDocument.write(atob(this.getAttribute('data-html')));this.contentDocument.close();\" allowfullscreen webkitallowfullscreen mozallowfullscreen></iframe></div></div>"
      ],
      "text/plain": [
       "<folium.folium.Map at 0x7f76cf73d908>"
      ]
     },
     "execution_count": 13,
     "metadata": {},
     "output_type": "execute_result"
    }
   ],
   "source": [
    "map1"
   ]
  },
  {
   "cell_type": "code",
   "execution_count": 14,
   "metadata": {},
   "outputs": [],
   "source": [
    "# NED_PADR_CONUS.cog\n",
    "src_tif = 's3://eco-w1/in0/cflux/NED_PADR_CONUS.cog'\n",
    "dst_geojson = 'ned_conus.geojson'\n",
    "geojson_create_from_tif(src_tif,dst_geojson)"
   ]
  },
  {
   "cell_type": "code",
   "execution_count": 15,
   "metadata": {},
   "outputs": [],
   "source": [
    "map1 = fm.map_geojson(dst_geojson)"
   ]
  },
  {
   "cell_type": "markdown",
   "metadata": {},
   "source": [
    "# Truth in Advertising - that's CONUS!"
   ]
  },
  {
   "cell_type": "code",
   "execution_count": 16,
   "metadata": {},
   "outputs": [
    {
     "data": {
      "text/html": [
       "<div style=\"width:100%;\"><div style=\"position:relative;width:100%;height:0;padding-bottom:60%;\"><span style=\"color:#565656\">Make this Notebook Trusted to load map: File -> Trust Notebook</span><iframe src=\"about:blank\" style=\"position:absolute;width:100%;height:100%;left:0;top:0;border:none !important;\" data-html=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 onload=\"this.contentDocument.open();this.contentDocument.write(atob(this.getAttribute('data-html')));this.contentDocument.close();\" allowfullscreen webkitallowfullscreen mozallowfullscreen></iframe></div></div>"
      ],
      "text/plain": [
       "<folium.folium.Map at 0x7f76cf509160>"
      ]
     },
     "execution_count": 16,
     "metadata": {},
     "output_type": "execute_result"
    }
   ],
   "source": [
    "map1"
   ]
  },
  {
   "cell_type": "code",
   "execution_count": null,
   "metadata": {},
   "outputs": [],
   "source": []
  }
 ],
 "metadata": {
  "kernelspec": {
   "display_name": "Python 3",
   "language": "python",
   "name": "python3"
  },
  "language_info": {
   "codemirror_mode": {
    "name": "ipython",
    "version": 3
   },
   "file_extension": ".py",
   "mimetype": "text/x-python",
   "name": "python",
   "nbconvert_exporter": "python",
   "pygments_lexer": "ipython3",
   "version": "3.7.3"
  }
 },
 "nbformat": 4,
 "nbformat_minor": 4
}
